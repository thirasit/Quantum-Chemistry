{
 "cells": [
  {
   "cell_type": "markdown",
   "id": "42d6f4fc-acdd-4a3d-87d2-fe300fc9bc64",
   "metadata": {},
   "source": [
    "# **The Property Framework**"
   ]
  },
  {
   "cell_type": "code",
   "execution_count": 1,
   "id": "3a4c9ac7-81b5-43a9-acd0-994756902fdb",
   "metadata": {},
   "outputs": [],
   "source": [
    "import numpy as np"
   ]
  },
  {
   "cell_type": "markdown",
   "id": "755e4e46-cf94-4d2d-96c1-943ba80bf749",
   "metadata": {},
   "source": [
    "Qiskit Nature 0.2.0 introduces the _Property_ framework. This framework replaces the legacy driver return types like `QMolecule` and `WatsonHamiltonian` with a more modular and extensible approach."
   ]
  },
  {
   "cell_type": "markdown",
   "id": "8bd4cd43-b544-4973-b08d-4490917f984b",
   "metadata": {},
   "source": [
    "In this notebook, we will walk through the framework, explain its most important components and show us, how we can extend it with a custom _property_ yourself."
   ]
  },
  {
   "cell_type": "markdown",
   "id": "e43db801-3dcf-4187-ab6a-4146b5d56860",
   "metadata": {},
   "source": [
    "## **What is a `Property`?**\n",
    "\n",
    "At its core, a `Property` is an object complementing some raw data with functions that allow you to transform/manipulate/interpret this raw data. This \"definition\" is kept rather abstract on purpose, but what it means is essentially the following.\n",
    "A `Property`:\n",
    "\n",
    "* represents a physical observable (that's the raw data)\n",
    "* can be expressed as an operator\n",
    "* can be evaluated with a wavefunction\n",
    "* provides an `interpret` method which gives meaning to the eigenvalue of the evaluated qubit operator"
   ]
  },
  {
   "cell_type": "code",
   "execution_count": 2,
   "id": "053e2984-df3f-4f67-8fa0-f2f20b911ed4",
   "metadata": {},
   "outputs": [],
   "source": [
    "from qiskit_nature.properties import Property, GroupedProperty"
   ]
  },
  {
   "cell_type": "markdown",
   "id": "cf036e26-2cf3-4bc2-887e-5d599e77ec39",
   "metadata": {},
   "source": [
    "The `qiskit_nature.properties` module provides two classes:\n",
    "\n",
    "1. `Property`: this is the basic interface. It requires only a `name` and an `interpret` method to be implemented.\n",
    "2. `GroupedProperty`: this class is an implementation of the [Composite pattern](https://en.wikipedia.org/wiki/Composite_pattern) which allows you to _group_ multiple properties into one.\n",
    "\n",
    "**Note:** Grouped properties must have unique `name` attributes!"
   ]
  },
  {
   "cell_type": "markdown",
   "id": "979fa190-112d-4dbb-8539-11672ab63e26",
   "metadata": {},
   "source": [
    "## **Second Quantization Properties**\n",
    "\n",
    "At the time of writing, Qiskit Nature ships with a single variant of properties: the `SecondQuantizedProperty` objects.\n",
    "\n",
    "This sub-type adds one additional requirement because any `SecondQuantizedProperty`\n",
    "\n",
    "* **must** implement a `second_q_ops` method which constructs a (list of) `SecondQuantizedOp`s.\n",
    "\n",
    "The `qiskit_nature.properties.second_quantization` module is further divided into `electronic` and `vibrational` modules (similar to other modules of Qiskit Nature).\n",
    "Let us dive into the `electronic` sub-module first."
   ]
  },
  {
   "cell_type": "markdown",
   "id": "8f7bcd83-a54b-48ea-b2f6-cfbf5d6eb0f8",
   "metadata": {},
   "source": [
    "### **Electronic Second Quantization Properties**\n",
    "\n",
    "Out-of-the-box Qiskit Nature ships the following electronic properties:"
   ]
  },
  {
   "cell_type": "code",
   "execution_count": 3,
   "id": "0b72994e-b3ef-45f4-9244-58605fd386ca",
   "metadata": {},
   "outputs": [],
   "source": [
    "from qiskit_nature.properties.second_quantization.electronic import (\n",
    "    ElectronicEnergy,\n",
    "    ElectronicDipoleMoment,\n",
    "    ParticleNumber,\n",
    "    AngularMomentum,\n",
    "    Magnetization,\n",
    ")"
   ]
  },
  {
   "cell_type": "markdown",
   "id": "c67d4584-13c0-4462-adef-353506e42ea2",
   "metadata": {},
   "source": [
    "`ElectronicEnergy` is arguably the most important property because it contains the _Hamiltonian_ representing the electronic structure problem whose eigenvalues we are interested in when solving an `ElectronicStructureProblem`.\n",
    "The way in which it stores this Hamiltonian is, just like the rest of the framework, highly modular. The initializer of the `ElectronicEnergy` has a single required argument, `electronic_integrals`, which is a `List[ElectronicIntegrals]`."
   ]
  },
  {
   "cell_type": "markdown",
   "id": "9f5c886c-66ff-48e1-aa4b-ce322a73d4d7",
   "metadata": {},
   "source": [
    "#### **ElectronicIntegrals**"
   ]
  },
  {
   "cell_type": "code",
   "execution_count": 4,
   "id": "278d93dc-adae-469e-a6cb-d45fc195c994",
   "metadata": {},
   "outputs": [],
   "source": [
    "from qiskit_nature.properties.second_quantization.electronic.integrals import (\n",
    "    ElectronicIntegrals,\n",
    "    OneBodyElectronicIntegrals,\n",
    "    TwoBodyElectronicIntegrals,\n",
    "    IntegralProperty,\n",
    ")"
   ]
  },
  {
   "cell_type": "markdown",
   "id": "7c511630-2f08-4ba6-9b69-c3716ea4ef99",
   "metadata": {},
   "source": [
    "The `ElectronicIntegrals` are a container class for _n-body_ interactions in a given basis, which can be any of the following:"
   ]
  },
  {
   "cell_type": "code",
   "execution_count": 5,
   "id": "33fd9691-cf14-4d51-bea9-e2f2a5ced639",
   "metadata": {},
   "outputs": [],
   "source": [
    "from qiskit_nature.properties.second_quantization.electronic.bases import ElectronicBasis"
   ]
  },
  {
   "cell_type": "code",
   "execution_count": 6,
   "id": "b70aaf2c-04bd-4c26-b6e7-c8f8ac010ee5",
   "metadata": {},
   "outputs": [
    {
     "data": {
      "text/plain": [
       "[<ElectronicBasis.AO: 'atomic'>,\n",
       " <ElectronicBasis.MO: 'molecular'>,\n",
       " <ElectronicBasis.SO: 'spin'>]"
      ]
     },
     "execution_count": 6,
     "metadata": {},
     "output_type": "execute_result"
    }
   ],
   "source": [
    "list(ElectronicBasis)"
   ]
  },
  {
   "cell_type": "markdown",
   "id": "b0b1895c-633b-4aa7-9e06-fab0d00a2e7d",
   "metadata": {},
   "source": [
    "Let us take the `OneBodyElectronicIntegrals` as an example. As the name suggests, this container is for 1-body interaction integrals. You can construct an instance of it like so:"
   ]
  },
  {
   "cell_type": "code",
   "execution_count": 7,
   "id": "ca5d269e-7676-4646-a63e-a8bf33b65a10",
   "metadata": {},
   "outputs": [
    {
     "name": "stdout",
     "output_type": "stream",
     "text": [
      "(MO) 1-Body Terms:\n",
      "\tAlpha\n",
      "\t<(2, 2) matrix with 2 non-zero entries>\n",
      "\t[0, 0] = 1.0\n",
      "\t[1, 1] = 1.0\n",
      "\tBeta\n",
      "\t<(2, 2) matrix with 2 non-zero entries>\n",
      "\t[0, 0] = 2.0\n",
      "\t[1, 1] = 2.0\n"
     ]
    }
   ],
   "source": [
    "one_body_ints = OneBodyElectronicIntegrals(\n",
    "    ElectronicBasis.MO,\n",
    "    (\n",
    "        np.eye(2),\n",
    "        2 * np.eye(2),\n",
    "    ),\n",
    ")\n",
    "print(one_body_ints)"
   ]
  },
  {
   "cell_type": "markdown",
   "id": "8e076803-63d8-4220-bd5c-8327485ffdbb",
   "metadata": {},
   "source": [
    "As you can see, the first argument simply specifies the basis of the integrals.\n",
    "The second argument requires a little further explanation:\n",
    "\n",
    "1. In the case of the `AO` or `MO` basis, this argument **must** be a pair of numpy arrays, where the first and second one are the alpha- and beta-spin integrals, respectively.\n",
    "\n",
    "**Note:** The second argument may be `None`, for the case where the beta-spin integrals are the same as the alpha-spin integrals (so there is no need to provide the same values twice).\n",
    "\n",
    "2. In the case of the `SO` basis, this argument **must** be a single numpy array, storing the alpha- and beta-spin integrals in blocked order, i.e. like so:\n",
    "```python\n",
    "spin_basis = np.block([[alpha_spin, zeros], [zeros, beta_spin]])"
   ]
  },
  {
   "cell_type": "markdown",
   "id": "fa6984a8-235a-43b8-954b-9f0bb5035575",
   "metadata": {},
   "source": [
    "The `TwoBodyElectronicIntegrals` work pretty much the same except that they contain all possible spin-combinations in the tuple of numpy arrays. For example:"
   ]
  },
  {
   "cell_type": "code",
   "execution_count": 8,
   "id": "e5244bf4-2b6d-4d78-bef2-d426151f7ec2",
   "metadata": {},
   "outputs": [
    {
     "name": "stdout",
     "output_type": "stream",
     "text": [
      "(MO) 2-Body Terms:\n",
      "\tAlpha-Alpha\n",
      "\t<(2, 2, 2, 2) matrix with 16 non-zero entries>\n",
      "\t[0, 0, 0, 0] = 1.0\n",
      "\t[0, 0, 0, 1] = 2.0\n",
      "\t[0, 0, 1, 0] = 3.0\n",
      "\t[0, 0, 1, 1] = 4.0\n",
      "\t[0, 1, 0, 0] = 5.0\n",
      "\t... skipping 11 entries\n",
      "\tBeta-Alpha\n",
      "\t<(2, 2, 2, 2) matrix with 16 non-zero entries>\n",
      "\t[0, 0, 0, 0] = 16.0\n",
      "\t[0, 0, 0, 1] = 17.0\n",
      "\t[0, 0, 1, 0] = 18.0\n",
      "\t[0, 0, 1, 1] = 19.0\n",
      "\t[0, 1, 0, 0] = 20.0\n",
      "\t... skipping 11 entries\n",
      "\tBeta-Beta\n",
      "\t<(2, 2, 2, 2) matrix with 16 non-zero entries>\n",
      "\t[0, 0, 0, 0] = -16.0\n",
      "\t[0, 0, 0, 1] = -15.0\n",
      "\t[0, 0, 1, 0] = -14.0\n",
      "\t[0, 0, 1, 1] = -13.0\n",
      "\t[0, 1, 0, 0] = -12.0\n",
      "\t... skipping 11 entries\n",
      "\tAlpha-Beta\n",
      "\t<(2, 2, 2, 2) matrix with 16 non-zero entries>\n",
      "\t[0, 0, 0, 0] = 16.0\n",
      "\t[0, 0, 0, 1] = 24.0\n",
      "\t[0, 0, 1, 0] = 20.0\n",
      "\t[0, 0, 1, 1] = 28.0\n",
      "\t[0, 1, 0, 0] = 18.0\n",
      "\t... skipping 11 entries\n"
     ]
    }
   ],
   "source": [
    "two_body_ints = TwoBodyElectronicIntegrals(\n",
    "    ElectronicBasis.MO,\n",
    "    (\n",
    "        np.arange(1, 17).reshape((2, 2, 2, 2)),\n",
    "        np.arange(16, 32).reshape((2, 2, 2, 2)),\n",
    "        np.arange(-16, 0).reshape((2, 2, 2, 2)),\n",
    "        None,\n",
    "    ),\n",
    ")\n",
    "print(two_body_ints)"
   ]
  },
  {
   "cell_type": "markdown",
   "id": "d1b112ba-a110-41e2-bd64-6ec85dd8e943",
   "metadata": {},
   "source": [
    "We should take note of a few observations:\n",
    "\n",
    "* the numpy arrays shall be ordered as `(\"alpha-alpha\", \"beta-alpha\", \"beta-beta\", \"alpha-beta\")`\n",
    "* the `alpha-alpha` matrix may **not** be `None`\n",
    "* if the `alpha-beta` matrix is `None`, but `beta-alpha` is not, its transpose will be used (like above)\n",
    "* in any other case, matrices which are `None` will be filled with the `alpha-alpha` matrix\n",
    "\n",
    "* in the `SO` basis case, a single numpy array must be specified. Refer to `TwoBodyElectronicIntegrals.to_spin()` for its exact formatting."
   ]
  },
  {
   "cell_type": "markdown",
   "id": "4d8a8954-9185-4a84-b2fb-5a2d1642cdff",
   "metadata": {},
   "source": [
    "#### **ElectronicEnergy**\n",
    "\n",
    "Now we are ready to construct an `ElectronicEnergy` instance:"
   ]
  },
  {
   "cell_type": "code",
   "execution_count": 9,
   "id": "d1c406ad-529d-41a3-a3d7-e9e225a34ed1",
   "metadata": {},
   "outputs": [
    {
     "name": "stdout",
     "output_type": "stream",
     "text": [
      "ElectronicEnergy\n",
      "\t(MO) 1-Body Terms:\n",
      "\t\tAlpha\n",
      "\t\t<(2, 2) matrix with 2 non-zero entries>\n",
      "\t\t[0, 0] = 1.0\n",
      "\t\t[1, 1] = 1.0\n",
      "\t\tBeta\n",
      "\t\t<(2, 2) matrix with 2 non-zero entries>\n",
      "\t\t[0, 0] = 2.0\n",
      "\t\t[1, 1] = 2.0\n",
      "\t(MO) 2-Body Terms:\n",
      "\t\tAlpha-Alpha\n",
      "\t\t<(2, 2, 2, 2) matrix with 16 non-zero entries>\n",
      "\t\t[0, 0, 0, 0] = 1.0\n",
      "\t\t[0, 0, 0, 1] = 2.0\n",
      "\t\t[0, 0, 1, 0] = 3.0\n",
      "\t\t[0, 0, 1, 1] = 4.0\n",
      "\t\t[0, 1, 0, 0] = 5.0\n",
      "\t\t... skipping 11 entries\n",
      "\t\tBeta-Alpha\n",
      "\t\t<(2, 2, 2, 2) matrix with 16 non-zero entries>\n",
      "\t\t[0, 0, 0, 0] = 16.0\n",
      "\t\t[0, 0, 0, 1] = 17.0\n",
      "\t\t[0, 0, 1, 0] = 18.0\n",
      "\t\t[0, 0, 1, 1] = 19.0\n",
      "\t\t[0, 1, 0, 0] = 20.0\n",
      "\t\t... skipping 11 entries\n",
      "\t\tBeta-Beta\n",
      "\t\t<(2, 2, 2, 2) matrix with 16 non-zero entries>\n",
      "\t\t[0, 0, 0, 0] = -16.0\n",
      "\t\t[0, 0, 0, 1] = -15.0\n",
      "\t\t[0, 0, 1, 0] = -14.0\n",
      "\t\t[0, 0, 1, 1] = -13.0\n",
      "\t\t[0, 1, 0, 0] = -12.0\n",
      "\t\t... skipping 11 entries\n",
      "\t\tAlpha-Beta\n",
      "\t\t<(2, 2, 2, 2) matrix with 16 non-zero entries>\n",
      "\t\t[0, 0, 0, 0] = 16.0\n",
      "\t\t[0, 0, 0, 1] = 24.0\n",
      "\t\t[0, 0, 1, 0] = 20.0\n",
      "\t\t[0, 0, 1, 1] = 28.0\n",
      "\t\t[0, 1, 0, 0] = 18.0\n",
      "\t\t... skipping 11 entries\n"
     ]
    }
   ],
   "source": [
    "electronic_energy = ElectronicEnergy(\n",
    "    [one_body_ints, two_body_ints],\n",
    ")\n",
    "print(electronic_energy)"
   ]
  },
  {
   "cell_type": "markdown",
   "id": "6d079c57-93a3-4cc2-919b-8d6b58cf4ed5",
   "metadata": {},
   "source": [
    "This property can now be used to construct a `SecondQuantizedOp` (which can then be mapped to a `QubitOperator`):"
   ]
  },
  {
   "cell_type": "code",
   "execution_count": 10,
   "id": "bee4fd74-0050-44d7-b652-0d477a221d83",
   "metadata": {},
   "outputs": [
    {
     "name": "stdout",
     "output_type": "stream",
     "text": [
      "Fermionic Operator\n",
      "register length=4, number terms=20\n",
      "  (22+0j) * ( +_0 -_1 +_2 -_3 )\n",
      "+ (-26+0j) * ( +_0 -_1 -_2 +_3 )\n",
      "+ (30+0j) * ( +_0 -_1 +_3 -_3 )\n",
      "+ (18+0j) * ( +_0 -_1 +_2 -_2 )\n",
      "+ (-21+0j) * ( -_0 +_1 +_2 -_3 )\n",
      "+ (25+0j) * ( -_0 +_1 -_2 +_3 )\n",
      "+  ...\n"
     ]
    }
   ],
   "source": [
    "hamiltonian = electronic_energy.second_q_ops()[0]  # here, output length is always 1\n",
    "print(hamiltonian)"
   ]
  },
  {
   "cell_type": "markdown",
   "id": "900b16f9-dd81-46d9-9d28-2c270ae9dcc6",
   "metadata": {},
   "source": [
    "#### **Result interpretation**\n",
    "\n",
    "An additional benefit which we gain from the `Property` framework, is that the result interpretation of a computed eigenvalue can be handled by each property itself. This results in nice and logically consistent classes because the result gets interpreted in the same context where the raw data is available."
   ]
  },
  {
   "cell_type": "code",
   "execution_count": 11,
   "id": "35577536-5793-40be-8c48-da6b9cf83ed1",
   "metadata": {},
   "outputs": [
    {
     "name": "stdout",
     "output_type": "stream",
     "text": [
      "=== GROUND STATE ENERGY ===\n",
      " \n",
      "* Electronic ground state energy (Hartree): -1.\n",
      "  - computed part:      -1.\n"
     ]
    }
   ],
   "source": [
    "from qiskit_nature.results import ElectronicStructureResult\n",
    "\n",
    "# some dummy result\n",
    "result = ElectronicStructureResult()\n",
    "result.eigenenergies = np.asarray([-1])\n",
    "result.computed_energies = np.asarray([-1])\n",
    "\n",
    "\n",
    "# now, let's interpret it\n",
    "electronic_energy.interpret(result)\n",
    "print(result)"
   ]
  },
  {
   "cell_type": "markdown",
   "id": "b16d21b5-5d45-4956-9e20-39c6e098aaaa",
   "metadata": {},
   "source": [
    "While this particular example is not yet very impressive, wait until we use more properties at once."
   ]
  },
  {
   "cell_type": "markdown",
   "id": "22315c89-76b9-4a45-9910-8c23e3b7f8b7",
   "metadata": {},
   "source": [
    "#### **ParticleNumber**\n",
    "\n",
    "The `ParticleNumber` property also takes a special place among the builtin properties because it serves a dual purpose of:\n",
    "\n",
    "* storing the number of particles in the electronic system\n",
    "* providing the operators to evaluate the number of particles for a given eigensolution of the problem\n",
    "\n",
    "Therefore, this property is required if you want to use additional functionality like the `ActiveSpaceTransformer` or the `ElectronicStructureProblem.default_filter_criterion()`."
   ]
  },
  {
   "cell_type": "code",
   "execution_count": 12,
   "id": "c07c8c5e-2a66-4a49-969b-b4957adcf348",
   "metadata": {},
   "outputs": [
    {
     "name": "stdout",
     "output_type": "stream",
     "text": [
      "ParticleNumber:\n",
      "\t4 SOs\n",
      "\t1 alpha electrons\n",
      "\t\torbital occupation: [1. 0.]\n",
      "\t1 beta electrons\n",
      "\t\torbital occupation: [1. 0.]\n"
     ]
    }
   ],
   "source": [
    "particle_number = ParticleNumber(\n",
    "    num_spin_orbitals=4,\n",
    "    num_particles=(1, 1),\n",
    ")\n",
    "print(particle_number)"
   ]
  },
  {
   "cell_type": "markdown",
   "id": "62c77f66-6681-4626-aeee-e97b51b1bc36",
   "metadata": {},
   "source": [
    "#### **GroupedProperty**\n",
    "\n",
    "Rather than iterating all of the other properties one by one, let us simply consider a group of properties as provided by any `ElectronicStructureDriver` from the `qiskit_nature.drivers.second_quantization` module."
   ]
  },
  {
   "cell_type": "code",
   "execution_count": 13,
   "id": "391f0fe7-70d3-40e4-8129-53058eb65bf0",
   "metadata": {},
   "outputs": [],
   "source": [
    "from qiskit_nature.drivers.second_quantization.pyscfd import PySCFDriver"
   ]
  },
  {
   "cell_type": "code",
   "execution_count": 14,
   "id": "2c39b4cf-5504-4bae-8bde-e775f93cfae4",
   "metadata": {},
   "outputs": [],
   "source": [
    "electronic_driver = PySCFDriver(atom=\"H 0 0 0; H 0 0 0.735\", basis=\"sto3g\")\n",
    "electronic_driver_result = electronic_driver.run()"
   ]
  },
  {
   "cell_type": "code",
   "execution_count": 15,
   "id": "580fdff1-4862-4c6e-958e-37189fff7674",
   "metadata": {},
   "outputs": [
    {
     "name": "stdout",
     "output_type": "stream",
     "text": [
      "ElectronicStructureDriverResult:\n",
      "\tDriverMetadata:\n",
      "\t\tProgram: PYSCF\n",
      "\t\tVersion: 2.0.1\n",
      "\t\tConfig:\n",
      "\t\t\tatom=H 0 0 0; H 0 0 0.735\n",
      "\t\t\tunit=Angstrom\n",
      "\t\t\tcharge=0\n",
      "\t\t\tspin=0\n",
      "\t\t\tbasis=sto3g\n",
      "\t\t\tmethod=rhf\n",
      "\t\t\tconv_tol=1e-09\n",
      "\t\t\tmax_cycle=50\n",
      "\t\t\tinit_guess=minao\n",
      "\t\t\tmax_memory=4000\n",
      "\t\t\t\n",
      "\tElectronicBasisTransform:\n",
      "\t\tInitial basis: atomic\n",
      "\t\tFinal basis: molecular\n",
      "\t\tAlpha coefficients:\n",
      "\t\t[0, 0] = 0.5483020229014732\n",
      "\t\t[0, 1] = 1.2183273138546826\n",
      "\t\t[1, 0] = 0.548302022901473\n",
      "\t\t[1, 1] = -1.2183273138546826\n",
      "\t\tBeta coefficients:\n",
      "\t\t[0, 0] = 0.5483020229014732\n",
      "\t\t[0, 1] = 1.2183273138546826\n",
      "\t\t[1, 0] = 0.548302022901473\n",
      "\t\t[1, 1] = -1.2183273138546826\n",
      "\tParticleNumber:\n",
      "\t\t4 SOs\n",
      "\t\t1 alpha electrons\n",
      "\t\t\torbital occupation: [1. 0.]\n",
      "\t\t1 beta electrons\n",
      "\t\t\torbital occupation: [1. 0.]\n",
      "\tElectronicEnergy\n",
      "\t\t(AO) 1-Body Terms:\n",
      "\t\t\tAlpha\n",
      "\t\t\t<(2, 2) matrix with 4 non-zero entries>\n",
      "\t\t\t[0, 0] = -1.1242175791954514\n",
      "\t\t\t[0, 1] = -0.9652573993472754\n",
      "\t\t\t[1, 0] = -0.9652573993472754\n",
      "\t\t\t[1, 1] = -1.1242175791954514\n",
      "\t\t\tBeta\n",
      "\t\t\t<(2, 2) matrix with 4 non-zero entries>\n",
      "\t\t\t[0, 0] = -1.1242175791954514\n",
      "\t\t\t[0, 1] = -0.9652573993472754\n",
      "\t\t\t[1, 0] = -0.9652573993472754\n",
      "\t\t\t[1, 1] = -1.1242175791954514\n",
      "\t\t(AO) 2-Body Terms:\n",
      "\t\t\tAlpha-Alpha\n",
      "\t\t\t<(2, 2, 2, 2) matrix with 16 non-zero entries>\n",
      "\t\t\t[0, 0, 0, 0] = 0.7746059439198978\n",
      "\t\t\t[0, 0, 0, 1] = 0.4474457245330949\n",
      "\t\t\t[0, 0, 1, 0] = 0.447445724533095\n",
      "\t\t\t[0, 0, 1, 1] = 0.5718769760004512\n",
      "\t\t\t[0, 1, 0, 0] = 0.4474457245330951\n",
      "\t\t\t... skipping 11 entries\n",
      "\t\t\tBeta-Alpha\n",
      "\t\t\t<(2, 2, 2, 2) matrix with 16 non-zero entries>\n",
      "\t\t\t[0, 0, 0, 0] = 0.7746059439198978\n",
      "\t\t\t[0, 0, 0, 1] = 0.4474457245330949\n",
      "\t\t\t[0, 0, 1, 0] = 0.447445724533095\n",
      "\t\t\t[0, 0, 1, 1] = 0.5718769760004512\n",
      "\t\t\t[0, 1, 0, 0] = 0.4474457245330951\n",
      "\t\t\t... skipping 11 entries\n",
      "\t\t\tBeta-Beta\n",
      "\t\t\t<(2, 2, 2, 2) matrix with 16 non-zero entries>\n",
      "\t\t\t[0, 0, 0, 0] = 0.7746059439198978\n",
      "\t\t\t[0, 0, 0, 1] = 0.4474457245330949\n",
      "\t\t\t[0, 0, 1, 0] = 0.447445724533095\n",
      "\t\t\t[0, 0, 1, 1] = 0.5718769760004512\n",
      "\t\t\t[0, 1, 0, 0] = 0.4474457245330951\n",
      "\t\t\t... skipping 11 entries\n",
      "\t\t\tAlpha-Beta\n",
      "\t\t\t<(2, 2, 2, 2) matrix with 16 non-zero entries>\n",
      "\t\t\t[0, 0, 0, 0] = 0.7746059439198978\n",
      "\t\t\t[0, 0, 0, 1] = 0.4474457245330949\n",
      "\t\t\t[0, 0, 1, 0] = 0.447445724533095\n",
      "\t\t\t[0, 0, 1, 1] = 0.5718769760004512\n",
      "\t\t\t[0, 1, 0, 0] = 0.4474457245330951\n",
      "\t\t\t... skipping 11 entries\n",
      "\t\t(MO) 1-Body Terms:\n",
      "\t\t\tAlpha\n",
      "\t\t\t<(2, 2) matrix with 2 non-zero entries>\n",
      "\t\t\t[0, 0] = -1.2563390730032498\n",
      "\t\t\t[1, 1] = -0.47189600728114245\n",
      "\t\t\tBeta\n",
      "\t\t\t<(2, 2) matrix with 2 non-zero entries>\n",
      "\t\t\t[0, 0] = -1.2563390730032498\n",
      "\t\t\t[1, 1] = -0.47189600728114245\n",
      "\t\t(MO) 2-Body Terms:\n",
      "\t\t\tAlpha-Alpha\n",
      "\t\t\t<(2, 2, 2, 2) matrix with 8 non-zero entries>\n",
      "\t\t\t[0, 0, 0, 0] = 0.6757101548035161\n",
      "\t\t\t[0, 0, 1, 1] = 0.6645817302552968\n",
      "\t\t\t[0, 1, 0, 1] = 0.18093119978423136\n",
      "\t\t\t[0, 1, 1, 0] = 0.18093119978423106\n",
      "\t\t\t[1, 0, 0, 1] = 0.18093119978423144\n",
      "\t\t\t... skipping 3 entries\n",
      "\t\t\tBeta-Alpha\n",
      "\t\t\t<(2, 2, 2, 2) matrix with 8 non-zero entries>\n",
      "\t\t\t[0, 0, 0, 0] = 0.6757101548035161\n",
      "\t\t\t[0, 0, 1, 1] = 0.6645817302552968\n",
      "\t\t\t[0, 1, 0, 1] = 0.18093119978423136\n",
      "\t\t\t[0, 1, 1, 0] = 0.18093119978423106\n",
      "\t\t\t[1, 0, 0, 1] = 0.18093119978423144\n",
      "\t\t\t... skipping 3 entries\n",
      "\t\t\tBeta-Beta\n",
      "\t\t\t<(2, 2, 2, 2) matrix with 8 non-zero entries>\n",
      "\t\t\t[0, 0, 0, 0] = 0.6757101548035161\n",
      "\t\t\t[0, 0, 1, 1] = 0.6645817302552968\n",
      "\t\t\t[0, 1, 0, 1] = 0.18093119978423136\n",
      "\t\t\t[0, 1, 1, 0] = 0.18093119978423106\n",
      "\t\t\t[1, 0, 0, 1] = 0.18093119978423144\n",
      "\t\t\t... skipping 3 entries\n",
      "\t\t\tAlpha-Beta\n",
      "\t\t\t<(2, 2, 2, 2) matrix with 8 non-zero entries>\n",
      "\t\t\t[0, 0, 0, 0] = 0.6757101548035161\n",
      "\t\t\t[0, 0, 1, 1] = 0.6645817302552968\n",
      "\t\t\t[0, 1, 0, 1] = 0.18093119978423136\n",
      "\t\t\t[0, 1, 1, 0] = 0.18093119978423106\n",
      "\t\t\t[1, 0, 0, 1] = 0.18093119978423144\n",
      "\t\t\t... skipping 3 entries\n",
      "\tElectronicDipoleMoment:\n",
      "\t\tDipoleMomentX\n",
      "\t\t\t(AO) 1-Body Terms:\n",
      "\t\t\t\tAlpha\n",
      "\t\t\t\t<(2, 2) matrix with 0 non-zero entries>\n",
      "\t\t\t\tBeta\n",
      "\t\t\t\t<(2, 2) matrix with 0 non-zero entries>\n",
      "\t\t\t(MO) 1-Body Terms:\n",
      "\t\t\t\tAlpha\n",
      "\t\t\t\t<(2, 2) matrix with 0 non-zero entries>\n",
      "\t\t\t\tBeta\n",
      "\t\t\t\t<(2, 2) matrix with 0 non-zero entries>\n",
      "\t\tDipoleMomentY\n",
      "\t\t\t(AO) 1-Body Terms:\n",
      "\t\t\t\tAlpha\n",
      "\t\t\t\t<(2, 2) matrix with 0 non-zero entries>\n",
      "\t\t\t\tBeta\n",
      "\t\t\t\t<(2, 2) matrix with 0 non-zero entries>\n",
      "\t\t\t(MO) 1-Body Terms:\n",
      "\t\t\t\tAlpha\n",
      "\t\t\t\t<(2, 2) matrix with 0 non-zero entries>\n",
      "\t\t\t\tBeta\n",
      "\t\t\t\t<(2, 2) matrix with 0 non-zero entries>\n",
      "\t\tDipoleMomentZ\n",
      "\t\t\t(AO) 1-Body Terms:\n",
      "\t\t\t\tAlpha\n",
      "\t\t\t\t<(2, 2) matrix with 3 non-zero entries>\n",
      "\t\t\t\t[0, 1] = 0.46053770796603194\n",
      "\t\t\t\t[1, 0] = 0.46053770796603194\n",
      "\t\t\t\t[1, 1] = 1.3889487015553206\n",
      "\t\t\t\tBeta\n",
      "\t\t\t\t<(2, 2) matrix with 3 non-zero entries>\n",
      "\t\t\t\t[0, 1] = 0.46053770796603194\n",
      "\t\t\t\t[1, 0] = 0.46053770796603194\n",
      "\t\t\t\t[1, 1] = 1.3889487015553206\n",
      "\t\t\t(MO) 1-Body Terms:\n",
      "\t\t\t\tAlpha\n",
      "\t\t\t\t<(2, 2) matrix with 4 non-zero entries>\n",
      "\t\t\t\t[0, 0] = 0.6944743507776598\n",
      "\t\t\t\t[0, 1] = -0.927833470459232\n",
      "\t\t\t\t[1, 0] = -0.9278334704592321\n",
      "\t\t\t\t[1, 1] = 0.6944743507776604\n",
      "\t\t\t\tBeta\n",
      "\t\t\t\t<(2, 2) matrix with 4 non-zero entries>\n",
      "\t\t\t\t[0, 0] = 0.6944743507776598\n",
      "\t\t\t\t[0, 1] = -0.927833470459232\n",
      "\t\t\t\t[1, 0] = -0.9278334704592321\n",
      "\t\t\t\t[1, 1] = 0.6944743507776604\n",
      "\tAngularMomentum:\n",
      "\t\t4 SOs\n",
      "\tMagnetization:\n",
      "\t\t4 SOs\n",
      "Molecule:\n",
      "\tMultiplicity: 1\n",
      "\tCharge: 0\n",
      "\tGeometry:\n",
      "\t\tH\t[0.0, 0.0, 0.0]\n",
      "\t\tH\t[0.0, 0.0, 1.3889487015553204]\n",
      "\tMasses:\n",
      "\t\tH\t1\n",
      "\t\tH\t1\n"
     ]
    }
   ],
   "source": [
    "print(electronic_driver_result)"
   ]
  },
  {
   "cell_type": "markdown",
   "id": "4091af66-1198-4aa1-86d4-c062af80305e",
   "metadata": {},
   "source": [
    "There is a lot going on but with the explanations above you should not have any problems with understanding this output."
   ]
  },
  {
   "cell_type": "markdown",
   "id": "808fa932-33ca-479b-a6f6-676a22ee7815",
   "metadata": {},
   "source": [
    "#### **Constructing a Hamiltonian from raw integrals**\n",
    "\n",
    "If you have obtained some raw one- and two-body integrals by means other than through a driver provided by Qiskit Nature, you can still easily construct an `ElectronicEnergy` property to serve as your access point into the stack:"
   ]
  },
  {
   "cell_type": "code",
   "execution_count": null,
   "id": "f58b9684-5982-4bf0-b8c3-f2b567d5221b",
   "metadata": {},
   "outputs": [],
   "source": [
    "one_body_ints = np.arange(1, 5).reshape((2, 2))\n",
    "two_body_ints = np.arange(1, 17).reshape((2, 2, 2, 2))\n",
    "electronic_energy_from_ints = ElectronicEnergy.from_raw_integrals(\n",
    "    ElectronicBasis.MO, one_body_ints, two_body_ints\n",
    ")\n",
    "print(electronic_energy_from_ints)"
   ]
  },
  {
   "cell_type": "markdown",
   "id": "b063894b-ff6f-44c0-9e2b-38c3478c9fd9",
   "metadata": {},
   "source": [
    "### **Vibrational Second Quantization Properties**\n",
    "\n",
    "The `vibrational` stack for vibrational structure calculations also integrates with the Property framework. After the above introduction you should be able to understand the following directly:"
   ]
  },
  {
   "cell_type": "code",
   "execution_count": null,
   "id": "7ffa7612-99fb-438f-9742-fd835aae0d36",
   "metadata": {},
   "outputs": [],
   "source": [
    "from qiskit_nature.drivers.second_quantization.gaussiand import GaussianForcesDriver"
   ]
  },
  {
   "cell_type": "code",
   "execution_count": null,
   "id": "7ac94960-4592-444f-977c-3527e04eaeb5",
   "metadata": {},
   "outputs": [],
   "source": [
    "# if you ran Gaussian elsewhere and already have the output file\n",
    "vibrational_driver = GaussianForcesDriver(logfile=\"aux_files/CO2_freq_B3LYP_ccpVDZ.log\")\n",
    "vibrational_driver_result = vibrational_driver.run()"
   ]
  },
  {
   "cell_type": "markdown",
   "id": "7f9048f8-d33e-466f-97db-d895ccbf40eb",
   "metadata": {},
   "source": [
    "For vibrational structure calculations we always need to define the basis which we want to work in, separately:"
   ]
  },
  {
   "cell_type": "code",
   "execution_count": null,
   "id": "81d39858-62b0-4292-a3e1-1b22d3c75a71",
   "metadata": {},
   "outputs": [],
   "source": [
    "from qiskit_nature.properties.second_quantization.vibrational.bases import HarmonicBasis"
   ]
  },
  {
   "cell_type": "code",
   "execution_count": null,
   "id": "899e69c1-b9aa-43af-a14f-69b4d2995cd8",
   "metadata": {},
   "outputs": [],
   "source": [
    "harmonic_basis = HarmonicBasis([2] * 4)"
   ]
  },
  {
   "cell_type": "code",
   "execution_count": null,
   "id": "4d2b66e3-7c1d-4d2c-8064-bcaa87c02487",
   "metadata": {},
   "outputs": [],
   "source": [
    "vibrational_driver_result.basis = harmonic_basis\n",
    "print(vibrational_driver_result)"
   ]
  },
  {
   "cell_type": "markdown",
   "id": "da796c08-3875-400e-bfe0-4b07d1c03a36",
   "metadata": {},
   "source": [
    "## **Writing custom Properties**\n",
    "\n",
    "You can extend the Property framework with your own implementations. Here, we will walk through the simple example of constructing a Property for the _electronic density_. Since this observable is essentially based on matrices, we will be leveraging the `OneBodyElectronicIntegrals` container to store the actual density matrix."
   ]
  },
  {
   "cell_type": "code",
   "execution_count": null,
   "id": "ed2117e2-b93e-4277-a5c8-fcf809cb8a01",
   "metadata": {},
   "outputs": [],
   "source": [
    "from itertools import product\n",
    "from typing import List\n",
    "\n",
    "from qiskit_nature.drivers import QMolecule\n",
    "from qiskit_nature.operators.second_quantization import FermionicOp\n",
    "from qiskit_nature.properties.second_quantization.electronic.bases import ElectronicBasis\n",
    "from qiskit_nature.properties.second_quantization.electronic.types import ElectronicProperty\n",
    "from qiskit_nature.properties.second_quantization.electronic.integrals import (\n",
    "    OneBodyElectronicIntegrals,\n",
    ")"
   ]
  },
  {
   "cell_type": "code",
   "execution_count": null,
   "id": "58984b0f-1117-4527-ad27-17a3685ed8f8",
   "metadata": {},
   "outputs": [],
   "source": [
    "class ElectronicDensity(ElectronicProperty):\n",
    "    \"\"\"A simple electronic density property.\n",
    "\n",
    "    This basic example works only in the MO basis!\n",
    "    \"\"\"\n",
    "\n",
    "    def __init__(self, num_molecular_orbitals: int) -> None:\n",
    "        super().__init__(self.__class__.__name__)\n",
    "        self._num_molecular_orbitals = num_molecular_orbitals\n",
    "\n",
    "    def __str__(self) -> str:\n",
    "        string = [super().__str__() + \":\"]\n",
    "        string += [f\"\\t{self._num_molecular_orbitals} MOs\"]\n",
    "        return \"\\n\".join(string)\n",
    "\n",
    "    @classmethod\n",
    "    def from_legacy_driver_result(cls, result) -> \"ElectronicDensity\":\n",
    "        cls._validate_input_type(result, QMolecule)\n",
    "\n",
    "        qmol = cast(QMolecule, result)\n",
    "\n",
    "        return cls(qmol.num_molecular_orbitals)\n",
    "\n",
    "    def second_q_ops(self) -> List[FermionicOp]:\n",
    "        ops = []\n",
    "\n",
    "        # iterate all pairs of molecular orbitals\n",
    "        for mo_i, mo_j in product(range(self._num_molecular_orbitals), repeat=2):\n",
    "\n",
    "            # construct an auxiliary matrix where the only non-zero entry is at the current pair of MOs\n",
    "            number_op_matrix = np.zeros(\n",
    "                (self._num_molecular_orbitals, self._num_molecular_orbitals)\n",
    "            )\n",
    "            number_op_matrix[mo_i, mo_j] = 1\n",
    "\n",
    "            # leverage the OneBodyElectronicIntegrals to construct the corresponding FermionicOp\n",
    "            one_body_ints = OneBodyElectronicIntegrals(\n",
    "                ElectronicBasis.MO, (number_op_matrix, number_op_matrix)\n",
    "            )\n",
    "            ops.append(one_body_ints.to_second_q_op())\n",
    "\n",
    "        return ops\n",
    "\n",
    "    def interpret(self, result) -> None:\n",
    "        # here goes the code which interprets the eigenvalues returned for the auxiliary operators\n",
    "        pass"
   ]
  },
  {
   "cell_type": "code",
   "execution_count": null,
   "id": "06bd2d7f-dee9-46c8-a7c7-c134e35d3e4c",
   "metadata": {},
   "outputs": [],
   "source": [
    "density = ElectronicDensity(2)"
   ]
  },
  {
   "cell_type": "code",
   "execution_count": null,
   "id": "62292559-3b93-41bd-a5f4-378c27873675",
   "metadata": {},
   "outputs": [],
   "source": [
    "print(density)"
   ]
  },
  {
   "cell_type": "code",
   "execution_count": null,
   "id": "0230a032-805d-4514-8962-c3f8f4c288d7",
   "metadata": {},
   "outputs": [],
   "source": [
    "for idx, op in enumerate(density.second_q_ops()):\n",
    "    print(idx, \":\", op)"
   ]
  },
  {
   "cell_type": "code",
   "execution_count": null,
   "id": "b294edb2-2810-495f-bd51-b1b830ad9561",
   "metadata": {},
   "outputs": [],
   "source": [
    "import qiskit.tools.jupyter\n",
    "\n",
    "%qiskit_version_table"
   ]
  }
 ],
 "metadata": {
  "kernelspec": {
   "display_name": "Qiskit v0.34.1 (ipykernel)",
   "language": "python",
   "name": "python3"
  },
  "language_info": {
   "codemirror_mode": {
    "name": "ipython",
    "version": 3
   },
   "file_extension": ".py",
   "mimetype": "text/x-python",
   "name": "python",
   "nbconvert_exporter": "python",
   "pygments_lexer": "ipython3",
   "version": "3.8.12"
  },
  "widgets": {
   "application/vnd.jupyter.widget-state+json": {
    "state": {},
    "version_major": 2,
    "version_minor": 0
   }
  }
 },
 "nbformat": 4,
 "nbformat_minor": 5
}
