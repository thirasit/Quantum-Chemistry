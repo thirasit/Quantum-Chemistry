{
 "cells": [
  {
   "cell_type": "markdown",
   "id": "db4cb96e-85d7-4ec7-93d6-55850450fa69",
   "metadata": {},
   "source": [
    "# **Thermodynamics Observables Calculation with Quantum Computer**"
   ]
  },
  {
   "cell_type": "code",
   "execution_count": 1,
   "id": "148afb4b-ff08-4f85-808e-f2a964bd25e3",
   "metadata": {},
   "outputs": [],
   "source": [
    "import os\n",
    "import sys\n",
    "sys.path.insert(0, os.path.abspath('thermodynamics_utils'))"
   ]
  },
  {
   "cell_type": "code",
   "execution_count": 2,
   "id": "9f5ffcd7-f89d-46e0-8202-379525bd3549",
   "metadata": {},
   "outputs": [],
   "source": [
    "import partition_function"
   ]
  },
  {
   "cell_type": "code",
   "execution_count": 3,
   "id": "3aed02ff-5992-4b87-a57a-d1192b291217",
   "metadata": {},
   "outputs": [],
   "source": [
    "import thermodynamics"
   ]
  },
  {
   "cell_type": "code",
   "execution_count": 4,
   "id": "5df0c8b7-d0d0-4ae4-ac74-003ba9e1ea38",
   "metadata": {},
   "outputs": [],
   "source": [
    "import vibrational_structure_fd"
   ]
  },
  {
   "cell_type": "code",
   "execution_count": 5,
   "id": "f49452f8-451f-47ed-84f1-25435f631a7f",
   "metadata": {},
   "outputs": [],
   "source": [
    "# imports\n",
    "import numpy as np\n",
    "import pandas as pd\n",
    "import matplotlib.pyplot as plt\n",
    "from functools import partial\n",
    "\n",
    "from qiskit.utils import QuantumInstance\n",
    "from qiskit import Aer\n",
    "from qiskit.algorithms import NumPyMinimumEigensolver, VQE\n",
    "\n",
    "from qiskit_nature.drivers import UnitsType, Molecule\n",
    "from qiskit_nature.drivers.second_quantization import (\n",
    "    ElectronicStructureDriverType,\n",
    "    ElectronicStructureMoleculeDriver,\n",
    ")\n",
    "from qiskit_nature.problems.second_quantization import ElectronicStructureProblem\n",
    "from qiskit_nature.converters.second_quantization import QubitConverter\n",
    "from qiskit_nature.mappers.second_quantization import JordanWignerMapper\n",
    "from qiskit_nature.algorithms import GroundStateEigensolver\n",
    "import qiskit_nature.constants as const\n",
    "from qiskit_nature.algorithms.pes_samplers import BOPESSampler, EnergySurface1DSpline\n",
    "from thermodynamics import constant_volume_heat_capacity\n",
    "from vibrational_structure_fd import VibrationalStructure1DFD\n",
    "from partition_function import DiatomicPartitionFunction\n",
    "from thermodynamics import Thermodynamics\n",
    "\n",
    "import warnings\n",
    "\n",
    "warnings.simplefilter(\"ignore\", np.RankWarning)"
   ]
  },
  {
   "cell_type": "markdown",
   "id": "efe72400-6b36-4c69-869e-d55de87fbeab",
   "metadata": {},
   "source": [
    "A preliminary draft with more information related to this tutorial can be found in preprint: Stober et al, arXiv 2003.02303 (2020)"
   ]
  },
  {
   "cell_type": "markdown",
   "id": "dd0081ec-181a-4688-816d-7956c8fc0ee8",
   "metadata": {},
   "source": [
    "## **Calculation of the Born Oppenheimer Potential Energy Surface (BOPES)** \n",
    "\n",
    "To compute thermodynamic observables we begin with single point energy calculation which calculates the wavefunction and charge density and therefore  the energy of a particular arrangement of nuclei. Here we  compute the Born-Oppenheimer potential energy surface of a hydrogen molecule, as an example, which is simply the electronic energy as a function of bond length. "
   ]
  },
  {
   "cell_type": "code",
   "execution_count": 6,
   "id": "29da5c90-e3c6-4150-a15f-44ffd421d934",
   "metadata": {},
   "outputs": [],
   "source": [
    "qubit_converter = QubitConverter(mapper=JordanWignerMapper())\n",
    "quantum_instance = QuantumInstance(backend=Aer.get_backend(\"aer_simulator_statevector\"))\n",
    "solver = VQE(quantum_instance=quantum_instance)\n",
    "\n",
    "me_gss = GroundStateEigensolver(qubit_converter, solver)"
   ]
  },
  {
   "cell_type": "code",
   "execution_count": 7,
   "id": "e7345ccb-a12e-4574-8dfc-eed2a055580a",
   "metadata": {},
   "outputs": [],
   "source": [
    "stretch1 = partial(Molecule.absolute_distance, atom_pair=(1, 0))\n",
    "mol = Molecule(\n",
    "    geometry=[(\"H\", [0.0, 0.0, 0.0]), (\"H\", [0.0, 0.0, 0.2])],\n",
    "    degrees_of_freedom=[stretch1],\n",
    "    masses=[1.6735328e-27, 1.6735328e-27],\n",
    ")\n",
    "\n",
    "\n",
    "# pass molecule to PSYCF driver\n",
    "driver = ElectronicStructureMoleculeDriver(mol, driver_type=ElectronicStructureDriverType.PYSCF)\n",
    "\n",
    "es_problem = ElectronicStructureProblem(driver)"
   ]
  },
  {
   "cell_type": "code",
   "execution_count": 8,
   "id": "c9d5dc02-3337-4cbd-8bd5-7c0c3854c81d",
   "metadata": {},
   "outputs": [],
   "source": [
    "# BOPES sampler testing\n",
    "bs = BOPESSampler(gss=me_gss, bootstrap=True)\n",
    "points = np.linspace(0.45, 5, 50)\n",
    "res = bs.sample(es_problem, points)"
   ]
  },
  {
   "cell_type": "code",
   "execution_count": 9,
   "id": "cf066fed-0da6-4220-a767-75178daa8c6e",
   "metadata": {},
   "outputs": [],
   "source": [
    "energies = []\n",
    "bs_res_full = res.raw_results\n",
    "for point in points:\n",
    "    energy = bs_res_full[point].computed_energies + bs_res_full[point].nuclear_repulsion_energy\n",
    "    energies.append(energy)"
   ]
  },
  {
   "cell_type": "code",
   "execution_count": 10,
   "id": "60c4af77-0a74-402f-8406-53390c1e01ff",
   "metadata": {},
   "outputs": [
    {
     "data": {
      "text/plain": [
       "Text(0, 0.5, 'Energy')"
      ]
     },
     "execution_count": 10,
     "metadata": {},
     "output_type": "execute_result"
    },
    {
     "data": {
      "image/png": "[encoded data removed]",
      "text/plain": [
       "<Figure size 432x288 with 1 Axes>"
      ]
     },
     "metadata": {
      "needs_background": "light"
     },
     "output_type": "display_data"
    }
   ],
   "source": [
    "fig = plt.figure()\n",
    "plt.plot(points, energies)\n",
    "plt.title(\"Dissociation profile\")\n",
    "plt.xlabel(\"Interatomic distance\")\n",
    "plt.ylabel(\"Energy\")"
   ]
  },
  {
   "cell_type": "code",
   "execution_count": 11,
   "id": "f07fee96-eec9-4f1e-9b7c-bfe06f64748d",
   "metadata": {},
   "outputs": [],
   "source": [
    "energy_surface = EnergySurface1DSpline()\n",
    "\n",
    "xdata = res.points\n",
    "ydata = res.energies\n",
    "energy_surface.fit(xdata=xdata, ydata=ydata)"
   ]
  },
  {
   "cell_type": "code",
   "execution_count": 12,
   "id": "b6a9f136-7f48-4209-82cc-5e929213734f",
   "metadata": {},
   "outputs": [
    {
     "data": {
      "text/plain": [
       "(-1.1576826635311803, -0.9127526984799226)"
      ]
     },
     "execution_count": 12,
     "metadata": {},
     "output_type": "execute_result"
    },
    {
     "data": {
      "image/png": "[encoded data removed]",
      "text/plain": [
       "<Figure size 432x288 with 1 Axes>"
      ]
     },
     "metadata": {
      "needs_background": "light"
     },
     "output_type": "display_data"
    }
   ],
   "source": [
    "plt.plot(xdata, ydata, \"kx\")\n",
    "x = np.arange(min(xdata) - 0.25, max(xdata) + 0.25, 0.05)\n",
    "plt.plot(x, energy_surface.eval(x), \"r-\")\n",
    "plt.xlabel(r\"distance, $\\AA$\")\n",
    "plt.ylabel(\"energy, Hartree\")\n",
    "dist = max(ydata) - min(ydata)\n",
    "plt.ylim(min(ydata) - 0.1 * dist, max(ydata) + 0.1 * dist)"
   ]
  },
  {
   "cell_type": "markdown",
   "id": "24b7b63a-c58b-42bf-8402-192935ce805e",
   "metadata": {},
   "source": [
    "## **Calculation of the Molecular Vibrational Energy Levels**"
   ]
  },
  {
   "cell_type": "markdown",
   "id": "b4abac04-ea46-43c1-8c64-3fbf90fa675f",
   "metadata": {},
   "source": [
    "The Born-Oppeheimer approximation removes internuclear vibrations from the molecular Hamiltonian and the energy computed from quantum mechanical ground-state energy calculations using this approximation contain only the electronic energy. Since even at absolute zero internuclear vibrations still occur, a correction is required to obtain the true zero-temperature energy of a molecule. This correction is called the zero-point vibrational energy (ZPE), which is computed by summing the contribution from internuclear vibrational modes. Therefore, the next step in computing thermodynamic observables is determining the vibrational energy levels. This can be done by constructing the Hessian matrix based on computed single point energies close to the equilibrium bond length. The eigenvalues of the Hessian matrix can then be used to determine the vibrational energy levels and the zero-point vibrational energy \t\n",
    "\\begin{equation}\n",
    "{\\rm ZPE} = \\frac{1}{2}\\, \\sum_i ^M \\nu_i \\, ,\n",
    "\\end{equation}\n",
    "with $\\nu_i$ being the vibrational frequencies, $M = 3N − 6$ or $M = 3N − 5$ for non-linear or linear molecules, respectively, and $N$ is number of the particles."
   ]
  },
  {
   "cell_type": "markdown",
   "id": "a7f00b1e-16f5-4e0b-b5cd-9b3b9ebecb4a",
   "metadata": {},
   "source": [
    "Here we fit a \"full\" energy surface using a 1D spline potential and use it to evaluate molecular vibrational energy levels."
   ]
  },
  {
   "cell_type": "code",
   "execution_count": 14,
   "id": "4b2dd0b0-5516-4f13-9257-62237bc2d37a",
   "metadata": {},
   "outputs": [
    {
     "data": {
      "image/png": "[encoded data removed]",
      "text/plain": [
       "<Figure size 432x288 with 1 Axes>"
      ]
     },
     "metadata": {
      "needs_background": "light"
     },
     "output_type": "display_data"
    }
   ],
   "source": [
    "vibrational_structure = VibrationalStructure1DFD(mol, energy_surface)\n",
    "\n",
    "plt.plot(xdata, ydata, \"kx\")\n",
    "x = np.arange(min(xdata) - 0.25, max(xdata) + 0.25, 0.05)\n",
    "plt.plot(x, energy_surface.eval(x), \"r-\")\n",
    "plt.xlabel(r\"distance, $\\AA$\")\n",
    "plt.ylabel(\"energy, Hartree\")\n",
    "dist = max(ydata) - min(ydata)\n",
    "plt.ylim(min(ydata) - 0.1 * dist, max(ydata) + 0.1 * dist)\n",
    "for N in range(15):\n",
    "    on = np.ones(x.shape)\n",
    "    on *= energy_surface.eval(\n",
    "        energy_surface.get_equilibrium_geometry()\n",
    "    ) + vibrational_structure.vibrational_energy_level(N)\n",
    "    plt.plot(x, on, \"g:\")\n",
    "on = np.ones(x.shape)\n",
    "\n",
    "plt.show()"
   ]
  },
  {
   "cell_type": "markdown",
   "id": "02c4a437-3636-4fb2-8f4a-40bbef43fbf0",
   "metadata": {},
   "source": [
    "## **Create a Partition Function for the Calculation of Heat Capacity**"
   ]
  },
  {
   "cell_type": "markdown",
   "id": "5b5ed891-59db-4616-be9b-8c3f17c1c977",
   "metadata": {},
   "source": [
    "The partition function for a molecule is the product of contributions from translational, rotational, vibrational, electronic, and nuclear degrees of freedom. Having the vibrational frequencies, now we can obtain the vibrational partition function  $q_{\\rm vibration}$ to compute the whole molecular partition function \n",
    "\\begin{equation}\n",
    "q_{\\rm vibration} = \\prod_{i=1} ^M \\frac{\\exp\\,(-\\Theta_{\\nu_i}/2T)}{1-\\exp\\,(-\\Theta_{\\nu_i}/2T} \\, . \n",
    "\\end{equation} \n",
    "Here $\\Theta_{\\nu_i}= h\\nu_i/k_B$, $T$ is the temperature and $k_B$ is the Boltzmann constant.  \n",
    "\n",
    "The single-point energy calculations and the resulting partition function can be used to calculate the (constant volume or constant pressure) heat capacity of the molecules. The constant volume heat capacity, for example, is given by \n",
    "\n",
    "\\begin{equation}\n",
    "C_v = \\left.\\frac{\\partial U}{\\partial T}\\right|_{N,V}\\, ,\n",
    "\\qquad\n",
    "{\\rm with} \\quad\n",
    "U=k_B T^2 \\left.\\frac{\\partial {\\rm ln} Q}{\\partial T}\\right|_{N,V} .\n",
    "\\end{equation}\n",
    "\n",
    "$U$ is the internal energy, $V$ is the volume and $Q$ is the partition function. "
   ]
  },
  {
   "cell_type": "markdown",
   "id": "5f07fe23-865f-40cc-818c-a490f4401c16",
   "metadata": {},
   "source": [
    "Here we illustrate the simplest usage of the partition function, namely creating a Thermodynamics object to compute properties like the constant pressure heat capacity defined above."
   ]
  },
  {
   "cell_type": "code",
   "execution_count": 15,
   "id": "3dfb7d66-9793-4786-9e03-bf2aa7a53524",
   "metadata": {},
   "outputs": [
    {
     "data": {
      "image/png": "[encoded data removed]",
      "text/plain": [
       "<Figure size 432x288 with 1 Axes>"
      ]
     },
     "metadata": {
      "needs_background": "light"
     },
     "output_type": "display_data"
    }
   ],
   "source": [
    "Q = DiatomicPartitionFunction(mol, energy_surface, vibrational_structure)\n",
    "\n",
    "P = 101350  # Pa\n",
    "temps = np.arange(10, 1050, 5)  # K\n",
    "\n",
    "mol.spins = [1 / 2, 1 / 2]\n",
    "\n",
    "td = Thermodynamics(Q, pressure=101350)\n",
    "td.set_pressure(101350)\n",
    "temps = np.arange(10, 1500, 5)\n",
    "ymin = 5\n",
    "ymax = 11\n",
    "\n",
    "plt.plot(temps, td.constant_pressure_heat_capacity(temps) / const.CAL_TO_J)\n",
    "plt.xlim(0, 1025)\n",
    "plt.ylim(ymin, ymax)\n",
    "plt.xlabel(\"Temperature, K\")\n",
    "plt.ylabel(\"Cp, cal mol$^{-1}$ K$^{-1}$\")\n",
    "\n",
    "plt.show()"
   ]
  },
  {
   "cell_type": "markdown",
   "id": "5534c4ca-4661-4252-9689-5605ba9716c2",
   "metadata": {},
   "source": [
    "Here we demonstrate how to access particular components (the rotational part) of the partition function, which in the H2 case we can further split to para-hydrogen and ortho-hydrogen components."
   ]
  },
  {
   "cell_type": "code",
   "execution_count": 16,
   "id": "b0310ce3-7021-4d99-8eb8-d5c81ae97b43",
   "metadata": {},
   "outputs": [],
   "source": [
    "eq = Q.get_partition(part=\"rot\", split=\"eq\")\n",
    "para = Q.get_partition(part=\"rot\", split=\"para\")\n",
    "ortho = Q.get_partition(part=\"rot\", split=\"ortho\")"
   ]
  },
  {
   "cell_type": "markdown",
   "id": "eead866a-0ba4-46a7-85bb-46ea8716b334",
   "metadata": {},
   "source": [
    "We will now plot the constant volume heat capacity (of the rotational part) demonstrating how we can call directly the functions in the 'thermodynamics' module, providing a callable object for the partition function (or in this case its rotational component). Note that in the plot we normalize the plot dividing by the universal gas constant R (Avogadro's number times Boltzmann's constant) and we use crossed to compare with experimental data found in literature."
   ]
  },
  {
   "cell_type": "code",
   "execution_count": 17,
   "id": "b4b17875-f034-4cc2-8dfc-39a171824d3f",
   "metadata": {},
   "outputs": [],
   "source": [
    "# REFERENCE DATA from literature\n",
    "df_brink_T = [80.913535, 135.240157, 176.633783, 219.808499, 246.226899]\n",
    "df_brink_Cv = [0.118605, 0.469925, 0.711510, 0.833597, 0.895701]\n",
    "\n",
    "df_eucken_T = [\n",
    "    25.120525,\n",
    "    30.162485,\n",
    "    36.048121,\n",
    "    41.920364,\n",
    "    56.195875,\n",
    "    62.484934,\n",
    "    72.148692,\n",
    "    73.805910,\n",
    "    73.804236,\n",
    "    92.214423,\n",
    "    180.031917,\n",
    "    230.300866,\n",
    "]\n",
    "df_eucken_Cv = [\n",
    "    0.012287,\n",
    "    0.012354,\n",
    "    0.008448,\n",
    "    0.020478,\n",
    "    0.032620,\n",
    "    0.048640,\n",
    "    0.048768,\n",
    "    0.076678,\n",
    "    0.078670,\n",
    "    0.170548,\n",
    "    0.667731,\n",
    "    0.847681,\n",
    "]\n",
    "\n",
    "df_gia_T = [\n",
    "    190.919338,\n",
    "    195.951254,\n",
    "    202.652107,\n",
    "    204.292585,\n",
    "    209.322828,\n",
    "    225.300754,\n",
    "    234.514217,\n",
    "    243.747768,\n",
    "]\n",
    "df_gia_Cv = [0.711700, 0.723719, 0.749704, 0.797535, 0.811546, 0.797814, 0.833793, 0.845868]\n",
    "\n",
    "df_parting_T = [80.101665, 86.358919, 185.914204, 239.927797]\n",
    "df_parting_Cv = [0.084730, 0.138598, 0.667809, 0.891634]\n",
    "\n",
    "df_ce_T = [\n",
    "    80.669344,\n",
    "    135.550569,\n",
    "    145.464190,\n",
    "    165.301153,\n",
    "    182.144856,\n",
    "    203.372528,\n",
    "    237.993108,\n",
    "    268.696642,\n",
    "    294.095771,\n",
    "    308.872014,\n",
    "]\n",
    "df_ce_Cv = [\n",
    "    0.103048,\n",
    "    0.467344,\n",
    "    0.541364,\n",
    "    0.647315,\n",
    "    0.714078,\n",
    "    0.798258,\n",
    "    0.891147,\n",
    "    0.944848,\n",
    "    0.966618,\n",
    "    0.985486,\n",
    "]"
   ]
  },
  {
   "cell_type": "code",
   "execution_count": 18,
   "id": "71702c77-7f33-4a79-bf71-493d7b08ec00",
   "metadata": {},
   "outputs": [
    {
     "data": {
      "image/png": "[encoded data removed]",
      "text/plain": [
       "<Figure size 432x288 with 1 Axes>"
      ]
     },
     "metadata": {
      "needs_background": "light"
     },
     "output_type": "display_data"
    }
   ],
   "source": [
    "HeatCapacity = constant_volume_heat_capacity\n",
    "\n",
    "R = const.N_A * const.KB_J_PER_K\n",
    "plt.plot(temps, HeatCapacity(eq, temps) / R, \"-k\", label=\"Cv_rot Equilibrium\")\n",
    "plt.plot(temps, HeatCapacity(para, temps) / R, \"-b\", label=\"Cv_rot Para\")\n",
    "plt.plot(temps, HeatCapacity(ortho, temps) / R, \"-r\", label=\"Cv_rot Ortho\")\n",
    "plt.plot(\n",
    "    temps,\n",
    "    0.25 * HeatCapacity(para, temps) / R + 0.75 * HeatCapacity(ortho, temps) / R,\n",
    "    \"-g\",\n",
    "    label=\"Cv_rot 1:3 para:ortho\",\n",
    ")\n",
    "plt.plot(df_brink_T, df_brink_Cv, \"+g\")\n",
    "plt.plot(df_eucken_T, df_eucken_Cv, \"+g\")\n",
    "plt.plot(df_gia_T, df_gia_Cv, \"+g\")\n",
    "plt.plot(df_parting_T, df_parting_Cv, \"+g\")\n",
    "plt.plot(df_ce_T, df_ce_Cv, \"+g\", label=\"experimental data\")\n",
    "plt.legend(loc=\"upper right\", frameon=False)\n",
    "plt.xlim(10, 400)\n",
    "plt.ylim(-0.1, 2.8)\n",
    "plt.xlabel(\"Temperature, K\")\n",
    "plt.ylabel(\"Cv (rotational)/R\")\n",
    "plt.tight_layout()\n",
    "plt.show()"
   ]
  },
  {
   "cell_type": "code",
   "execution_count": 19,
   "id": "25e9dba4-309b-420c-8736-eba3f56e7bc2",
   "metadata": {},
   "outputs": [
    {
     "data": {
      "text/html": [
       "<h3>Version Information</h3><table><tr><th>Qiskit Software</th><th>Version</th></tr><tr><td><code>qiskit-terra</code></td><td>0.19.1</td></tr><tr><td><code>qiskit-aer</code></td><td>0.10.2</td></tr><tr><td><code>qiskit-ignis</code></td><td>0.7.0</td></tr><tr><td><code>qiskit-ibmq-provider</code></td><td>0.18.3</td></tr><tr><td><code>qiskit</code></td><td>0.34.1</td></tr><tr><td><code>qiskit-nature</code></td><td>0.3.0</td></tr><tr><td><code>qiskit-finance</code></td><td>0.3.0</td></tr><tr><td><code>qiskit-optimization</code></td><td>0.3.0</td></tr><tr><td><code>qiskit-machine-learning</code></td><td>0.3.0</td></tr><tr><th>System information</th></tr><tr><td>Python version</td><td>3.8.12</td></tr><tr><td>Python compiler</td><td>GCC 9.4.0</td></tr><tr><td>Python build</td><td>default, Oct 12 2021 21:59:51</td></tr><tr><td>OS</td><td>Linux</td></tr><tr><td>CPUs</td><td>8</td></tr><tr><td>Memory (Gb)</td><td>31.400043487548828</td></tr><tr><td colspan='2'>Thu Jan 20 14:39:52 2022 UTC</td></tr></table>"
      ],
      "text/plain": [
       "<IPython.core.display.HTML object>"
      ]
     },
     "metadata": {},
     "output_type": "display_data"
    }
   ],
   "source": [
    "import qiskit.tools.jupyter\n",
    "\n",
    "%qiskit_version_table"
   ]
  }
 ],
 "metadata": {
  "kernelspec": {
   "display_name": "Qiskit v0.34.1 (ipykernel)",
   "language": "python",
   "name": "python3"
  },
  "language_info": {
   "codemirror_mode": {
    "name": "ipython",
    "version": 3
   },
   "file_extension": ".py",
   "mimetype": "text/x-python",
   "name": "python",
   "nbconvert_exporter": "python",
   "pygments_lexer": "ipython3",
   "version": "3.8.12"
  },
  "widgets": {
   "application/vnd.jupyter.widget-state+json": {
    "state": {
     "0296c71a84ca401fb282bedb8f015a20": {
      "model_module": "@jupyter-widgets/base",
      "model_module_version": "1.2.0",
      "model_name": "LayoutModel",
      "state": {
       "margin": "0px 0px 0px 37px",
       "width": "600px"
      }
     },
     "038c18a145b14eabb2de7968b4135ed7": {
      "model_module": "@jupyter-widgets/controls",
      "model_module_version": "1.5.0",
      "model_name": "ButtonModel",
      "state": {
       "button_style": "primary",
       "description": "Clear",
       "layout": "IPY_MODEL_6fec7dbc4257408e8e4f46481e69025d",
       "style": "IPY_MODEL_dcc6f2bd155e4a08a50b01b234ca5866"
      }
     },
     "1bc686cd29fb4070922a2adfb9b163a3": {
      "model_module": "@jupyter-widgets/controls",
      "model_module_version": "1.5.0",
      "model_name": "HTMLModel",
      "state": {
       "layout": "IPY_MODEL_2079f204d3ab405488dd01279a3b5c63",
       "style": "IPY_MODEL_34dd6153dfbb43d9b76dd37d62552fdc",
       "value": "<h5>Message</h5>"
      }
     },
     "2079f204d3ab405488dd01279a3b5c63": {
      "model_module": "@jupyter-widgets/base",
      "model_module_version": "1.2.0",
      "model_name": "LayoutModel",
      "state": {}
     },
     "24c051016a3249edb142250efa5def47": {
      "model_module": "@jupyter-widgets/controls",
      "model_module_version": "1.5.0",
      "model_name": "HTMLModel",
      "state": {
       "layout": "IPY_MODEL_fe05936d14d74477b8247ac2c2a5003c",
       "style": "IPY_MODEL_94e2719faca44d71b34dbbf62f053920",
       "value": "<h5>Queue</h5>"
      }
     },
     "26cdff2ad48345abb231181757eaa05c": {
      "model_module": "@jupyter-widgets/base",
      "model_module_version": "1.2.0",
      "model_name": "LayoutModel",
      "state": {
       "margin": "0px 0px 10px 0px"
      }
     },
     "29321a400b354ae9b74e67a1b044db55": {
      "model_module": "@jupyter-widgets/controls",
      "model_module_version": "1.5.0",
      "model_name": "DescriptionStyleModel",
      "state": {
       "description_width": ""
      }
     },
     "3419c6e90aea43d09e00bf44f1785204": {
      "model_module": "@jupyter-widgets/controls",
      "model_module_version": "1.5.0",
      "model_name": "DescriptionStyleModel",
      "state": {
       "description_width": ""
      }
     },
     "34dd6153dfbb43d9b76dd37d62552fdc": {
      "model_module": "@jupyter-widgets/controls",
      "model_module_version": "1.5.0",
      "model_name": "DescriptionStyleModel",
      "state": {
       "description_width": ""
      }
     },
     "36159d4bfcc1443381fdbbc5f66c45ad": {
      "model_module": "@jupyter-widgets/base",
      "model_module_version": "1.2.0",
      "model_name": "LayoutModel",
      "state": {
       "width": "95px"
      }
     },
     "3bfb4263d54d41358d522bc867919ce8": {
      "model_module": "@jupyter-widgets/controls",
      "model_module_version": "1.5.0",
      "model_name": "HBoxModel",
      "state": {
       "children": [
        "IPY_MODEL_4394ce932bd04da7822b356015f1e178",
        "IPY_MODEL_69697214c4f74d95b52516313e2b4a5c",
        "IPY_MODEL_c1129cf8594747d99ab94f9124cb7e3f",
        "IPY_MODEL_24c051016a3249edb142250efa5def47",
        "IPY_MODEL_1bc686cd29fb4070922a2adfb9b163a3"
       ],
       "layout": "IPY_MODEL_0296c71a84ca401fb282bedb8f015a20"
      }
     },
     "4394ce932bd04da7822b356015f1e178": {
      "model_module": "@jupyter-widgets/controls",
      "model_module_version": "1.5.0",
      "model_name": "HTMLModel",
      "state": {
       "layout": "IPY_MODEL_ce4d2040f88f44a695892deb253c2f44",
       "style": "IPY_MODEL_3419c6e90aea43d09e00bf44f1785204",
       "value": "<h5>Job ID</h5>"
      }
     },
     "46cae481c9be44da8283f2f8445342ec": {
      "model_module": "@jupyter-widgets/controls",
      "model_module_version": "1.5.0",
      "model_name": "HTMLModel",
      "state": {
       "layout": "IPY_MODEL_26cdff2ad48345abb231181757eaa05c",
       "style": "IPY_MODEL_ac34c0ab645a463281dbc24835aeef22",
       "value": "<p style='font-family: IBM Plex Sans, Arial, Helvetica, sans-serif; font-size: 20px; font-weight: medium;'>Circuit Properties</p>"
      }
     },
     "472441ecea41467f883dc5e4d68ebe46": {
      "model_module": "@jupyter-widgets/base",
      "model_module_version": "1.2.0",
      "model_name": "LayoutModel",
      "state": {
       "width": "145px"
      }
     },
     "69697214c4f74d95b52516313e2b4a5c": {
      "model_module": "@jupyter-widgets/controls",
      "model_module_version": "1.5.0",
      "model_name": "HTMLModel",
      "state": {
       "layout": "IPY_MODEL_472441ecea41467f883dc5e4d68ebe46",
       "style": "IPY_MODEL_e75b4880abf3452a9ba5ea62f0d342e1",
       "value": "<h5>Backend</h5>"
      }
     },
     "6fec7dbc4257408e8e4f46481e69025d": {
      "model_module": "@jupyter-widgets/base",
      "model_module_version": "1.2.0",
      "model_name": "LayoutModel",
      "state": {
       "grid_area": "right",
       "padding": "0px 0px 0px 0px",
       "width": "70px"
      }
     },
     "94e2719faca44d71b34dbbf62f053920": {
      "model_module": "@jupyter-widgets/controls",
      "model_module_version": "1.5.0",
      "model_name": "DescriptionStyleModel",
      "state": {
       "description_width": ""
      }
     },
     "ac34c0ab645a463281dbc24835aeef22": {
      "model_module": "@jupyter-widgets/controls",
      "model_module_version": "1.5.0",
      "model_name": "DescriptionStyleModel",
      "state": {
       "description_width": ""
      }
     },
     "c1129cf8594747d99ab94f9124cb7e3f": {
      "model_module": "@jupyter-widgets/controls",
      "model_module_version": "1.5.0",
      "model_name": "HTMLModel",
      "state": {
       "layout": "IPY_MODEL_36159d4bfcc1443381fdbbc5f66c45ad",
       "style": "IPY_MODEL_29321a400b354ae9b74e67a1b044db55",
       "value": "<h5>Status</h5>"
      }
     },
     "ce4d2040f88f44a695892deb253c2f44": {
      "model_module": "@jupyter-widgets/base",
      "model_module_version": "1.2.0",
      "model_name": "LayoutModel",
      "state": {
       "width": "190px"
      }
     },
     "ce97a2413d3f4a23a20da7c5d21cebb9": {
      "model_module": "@jupyter-widgets/base",
      "model_module_version": "1.2.0",
      "model_name": "LayoutModel",
      "state": {
       "grid_template_areas": "\n                                       \". . . . right \"\n                                        ",
       "grid_template_columns": "20% 20% 20% 20% 20%",
       "width": "100%"
      }
     },
     "d38b59dcc1984af89537d89467a1585d": {
      "model_module": "@jupyter-widgets/controls",
      "model_module_version": "1.5.0",
      "model_name": "GridBoxModel",
      "state": {
       "children": [
        "IPY_MODEL_038c18a145b14eabb2de7968b4135ed7"
       ],
       "layout": "IPY_MODEL_ce97a2413d3f4a23a20da7c5d21cebb9"
      }
     },
     "dcc6f2bd155e4a08a50b01b234ca5866": {
      "model_module": "@jupyter-widgets/controls",
      "model_module_version": "1.5.0",
      "model_name": "ButtonStyleModel",
      "state": {}
     },
     "e75b4880abf3452a9ba5ea62f0d342e1": {
      "model_module": "@jupyter-widgets/controls",
      "model_module_version": "1.5.0",
      "model_name": "DescriptionStyleModel",
      "state": {
       "description_width": ""
      }
     },
     "fe05936d14d74477b8247ac2c2a5003c": {
      "model_module": "@jupyter-widgets/base",
      "model_module_version": "1.2.0",
      "model_name": "LayoutModel",
      "state": {
       "width": "70px"
      }
     }
    },
    "version_major": 2,
    "version_minor": 0
   }
  }
 },
 "nbformat": 4,
 "nbformat_minor": 5
}
