{
 "cells": [
  {
   "cell_type": "markdown",
   "id": "715e45f1-567e-410a-a3c7-64b4574f0276",
   "metadata": {},
   "source": [
    "# **Sampling the Potential Energy Surface**"
   ]
  },
  {
   "cell_type": "markdown",
   "id": "012ba6c6-5f60-4e13-b75c-fe9cc16320dd",
   "metadata": {},
   "source": [
    "## **Introduction**\n",
    "\n",
    "This interactive notebook demonstrates how to utilize the Potential Energy Surface (PES) samplers algorithm of Qiskit Nature to generate the dissociation profile of a molecule. We use the Born-Oppenheimer Potential Energy Surface (BOPES) and demonstrate how to exploit bootstrapping and extrapolation to reduce the total number of function evaluations in computing the PES using the Variational Quantum Eigensolver (VQE). "
   ]
  },
  {
   "cell_type": "code",
   "execution_count": 1,
   "id": "1a3672cc-d449-4700-a19b-80e65ff722d7",
   "metadata": {},
   "outputs": [],
   "source": [
    "# import common packages\n",
    "import numpy as np\n",
    "import pandas as pd\n",
    "import matplotlib.pyplot as plt\n",
    "from functools import partial\n",
    "\n",
    "# qiskit\n",
    "from qiskit.utils import QuantumInstance, algorithm_globals\n",
    "from qiskit import Aer\n",
    "from qiskit.algorithms.minimum_eigen_solvers import NumPyMinimumEigensolver, VQE\n",
    "from qiskit.algorithms.optimizers import SLSQP\n",
    "from qiskit.circuit.library import ExcitationPreserving\n",
    "from qiskit import BasicAer\n",
    "from qiskit.algorithms import NumPyMinimumEigensolver, VQE\n",
    "from qiskit.algorithms.optimizers import SLSQP\n",
    "\n",
    "# qiskit nature imports\n",
    "from qiskit_nature.problems.second_quantization import ElectronicStructureProblem\n",
    "from qiskit_nature.converters.second_quantization import QubitConverter\n",
    "from qiskit_nature.mappers.second_quantization import JordanWignerMapper\n",
    "from qiskit_nature.algorithms import GroundStateEigensolver\n",
    "from qiskit_nature.drivers import UnitsType, Molecule\n",
    "from qiskit_nature.drivers.second_quantization import (\n",
    "    ElectronicStructureDriverType,\n",
    "    ElectronicStructureMoleculeDriver,\n",
    ")\n",
    "from qiskit_nature.algorithms.pes_samplers import BOPESSampler, Extrapolator\n",
    "\n",
    "import warnings\n",
    "\n",
    "warnings.simplefilter(\"ignore\", np.RankWarning)\n",
    "\n",
    "algorithm_globals.random_seed = 75"
   ]
  },
  {
   "cell_type": "markdown",
   "id": "e75bb09b-4f1b-4719-b37c-c73b2c6fd1db",
   "metadata": {},
   "source": [
    "Here, we use the H2 molecule as a model system for testing."
   ]
  },
  {
   "cell_type": "code",
   "execution_count": 2,
   "id": "eb9d02c4-0ae2-4898-aedb-588b52dfe5fa",
   "metadata": {},
   "outputs": [],
   "source": [
    "stretch1 = partial(Molecule.absolute_stretching, atom_pair=(1, 0))\n",
    "mol = Molecule(\n",
    "    geometry=[(\"H\", [0.0, 0.0, 0.0]), (\"H\", [0.0, 0.0, 0.3])],\n",
    "    degrees_of_freedom=[stretch1],\n",
    ")\n",
    "\n",
    "# pass molecule to PSYCF driver\n",
    "driver = ElectronicStructureMoleculeDriver(mol, driver_type=ElectronicStructureDriverType.PYSCF)"
   ]
  },
  {
   "cell_type": "code",
   "execution_count": 3,
   "id": "7351b122-7752-4253-970b-2060f0511979",
   "metadata": {},
   "outputs": [
    {
     "name": "stdout",
     "output_type": "stream",
     "text": [
      "[('H', [0.0, 0.0, 0.0]), ('H', [0.0, 0.0, 0.3])]\n"
     ]
    }
   ],
   "source": [
    "print(mol.geometry)"
   ]
  },
  {
   "cell_type": "markdown",
   "id": "2a04b0bd-7cac-4a0c-875d-3de23a0592bb",
   "metadata": {},
   "source": [
    "### **Make a perturbation to the molecule along the absolute_stretching dof**"
   ]
  },
  {
   "cell_type": "code",
   "execution_count": 4,
   "id": "d43a1978-a905-4038-9c9e-2a582b8938c2",
   "metadata": {},
   "outputs": [
    {
     "name": "stdout",
     "output_type": "stream",
     "text": [
      "[('H', [0.0, 0.0, 0.0]), ('H', [0.0, 0.0, 0.5])]\n",
      "[('H', [0.0, 0.0, 0.0]), ('H', [0.0, 0.0, 0.8999999999999999])]\n"
     ]
    }
   ],
   "source": [
    "mol.perturbations = [0.2]\n",
    "print(mol.geometry)\n",
    "\n",
    "mol.perturbations = [0.6]\n",
    "print(mol.geometry)"
   ]
  },
  {
   "cell_type": "markdown",
   "id": "c6c62c77-d409-45fd-a281-c9d1e78b178d",
   "metadata": {},
   "source": [
    "## **Calculate bond dissociation profile using BOPES Sampler**\n",
    "\n",
    "Here, we pass the molecular information and the VQE to a built-in type called the BOPES Sampler. The BOPES Sampler allows the computation of the potential energy surface for a specified set of degrees of freedom/points of interest."
   ]
  },
  {
   "cell_type": "markdown",
   "id": "23a317f4-070d-4149-83a3-4adce02929a5",
   "metadata": {},
   "source": [
    "### **First we compare no bootstrapping vs bootstrapping** \n",
    "\n",
    "Bootstrapping the BOPES sampler involves utilizing the optimal variational parameters for a given degree of freedom, say r (ex. interatomic distance) as the initial point for VQE at a later degree of freedom, say r + $\\epsilon$. By default, if boostrapping is set to True, all previous optimal parameters are used as initial points for the next runs."
   ]
  },
  {
   "cell_type": "code",
   "execution_count": 5,
   "id": "83bd0853-94fb-4e22-a5e0-2a9a8a0b26c4",
   "metadata": {},
   "outputs": [],
   "source": [
    "es_problem = ElectronicStructureProblem(driver)\n",
    "\n",
    "qubit_converter = QubitConverter(JordanWignerMapper())\n",
    "quantum_instance = QuantumInstance(backend=Aer.get_backend(\"aer_simulator_statevector\"))\n",
    "solver = VQE(quantum_instance=quantum_instance)\n",
    "\n",
    "me_gsc = GroundStateEigensolver(qubit_converter, solver)"
   ]
  },
  {
   "cell_type": "code",
   "execution_count": 6,
   "id": "4ba8c103-9b06-475b-bb2e-bcb26eab4353",
   "metadata": {},
   "outputs": [],
   "source": [
    "distance1 = partial(Molecule.absolute_distance, atom_pair=(1, 0))\n",
    "mol = Molecule(\n",
    "    geometry=[(\"H\", [0.0, 0.0, 0.0]), (\"H\", [0.0, 0.0, 0.3])],\n",
    "    degrees_of_freedom=[distance1],\n",
    ")\n",
    "\n",
    "# pass molecule to PSYCF driver\n",
    "driver = ElectronicStructureMoleculeDriver(mol, driver_type=ElectronicStructureDriverType.PYSCF)\n",
    "\n",
    "es_problem = ElectronicStructureProblem(driver)\n",
    "\n",
    "\n",
    "# Specify degree of freedom (points of interest)\n",
    "points = np.linspace(0.25, 2, 30)\n",
    "results_full = {}  # full dictionary of results for each condition\n",
    "results = {}  # dictionary of (point,energy) results for each condition\n",
    "conditions = {False: \"no bootstrapping\", True: \"bootstrapping\"}\n",
    "\n",
    "\n",
    "for value, bootstrap in conditions.items():\n",
    "    # define instance to sampler\n",
    "    bs = BOPESSampler(gss=me_gsc, bootstrap=value, num_bootstrap=None, extrapolator=None)\n",
    "    # execute\n",
    "    res = bs.sample(es_problem, points)\n",
    "    results_full[f\"{bootstrap}\"] = res.raw_results\n",
    "    results[f\"points_{bootstrap}\"] = res.points\n",
    "    results[f\"energies_{bootstrap}\"] = res.energies"
   ]
  },
  {
   "cell_type": "markdown",
   "id": "74b97563-2673-4dd3-84ae-17012a75044d",
   "metadata": {},
   "source": [
    "## **Compare to classical eigensolver**"
   ]
  },
  {
   "cell_type": "code",
   "execution_count": 7,
   "id": "e30ebd39-5e80-43c4-90ad-712388986dbe",
   "metadata": {},
   "outputs": [],
   "source": [
    "# define numpy solver\n",
    "solver_numpy = NumPyMinimumEigensolver()\n",
    "me_gsc_numpy = GroundStateEigensolver(qubit_converter, solver_numpy)\n",
    "bs_classical = BOPESSampler(\n",
    "    gss=me_gsc_numpy, bootstrap=False, num_bootstrap=None, extrapolator=None\n",
    ")\n",
    "# execute\n",
    "res_np = bs_classical.sample(es_problem, points)\n",
    "results_full[\"np\"] = res_np.raw_results\n",
    "results[\"points_np\"] = res_np.points\n",
    "results[\"energies_np\"] = res_np.energies"
   ]
  },
  {
   "cell_type": "markdown",
   "id": "aedfcef4-c431-4629-8e1d-10541888186f",
   "metadata": {},
   "source": [
    "## **Plot results**"
   ]
  },
  {
   "cell_type": "code",
   "execution_count": 8,
   "id": "24d9b519-1e39-49cd-ab6a-949928b1f264",
   "metadata": {},
   "outputs": [
    {
     "data": {
      "text/plain": [
       "Text(0, 0.5, 'Energy')"
      ]
     },
     "execution_count": 8,
     "metadata": {},
     "output_type": "execute_result"
    },
    {
     "data": {
      "image/png": "[encoded data removed]",
      "text/plain": [
       "<Figure size 432x288 with 1 Axes>"
      ]
     },
     "metadata": {
      "needs_background": "light"
     },
     "output_type": "display_data"
    }
   ],
   "source": [
    "fig = plt.figure()\n",
    "for value, bootstrap in conditions.items():\n",
    "    plt.plot(results[f\"points_{bootstrap}\"], results[f\"energies_{bootstrap}\"], label=f\"{bootstrap}\")\n",
    "plt.plot(results[\"points_np\"], results[\"energies_np\"], label=\"numpy\")\n",
    "plt.legend()\n",
    "plt.title(\"Dissociation profile\")\n",
    "plt.xlabel(\"Interatomic distance\")\n",
    "plt.ylabel(\"Energy\")"
   ]
  },
  {
   "cell_type": "markdown",
   "id": "b241b619-85b1-4bf2-b9ff-3e4c79568cae",
   "metadata": {},
   "source": [
    "## **Compare number of evaluations**"
   ]
  },
  {
   "cell_type": "code",
   "execution_count": 9,
   "id": "5ad16ef9-067e-4b49-9f39-3f9cc45f8267",
   "metadata": {},
   "outputs": [
    {
     "name": "stdout",
     "output_type": "stream",
     "text": [
      "no bootstrapping\n",
      "Total evaluations for no bootstrapping:\n",
      "20277\n",
      "bootstrapping\n",
      "Total evaluations for bootstrapping:\n",
      "3692\n",
      "np\n",
      "Total evaluations for np:\n",
      "0\n"
     ]
    }
   ],
   "source": [
    "for condition, result_full in results_full.items():\n",
    "    print(condition)\n",
    "    print(\"Total evaluations for \" + condition + \":\")\n",
    "    sum = 0\n",
    "    for key in result_full:\n",
    "        if condition != \"np\":\n",
    "            sum += result_full[key].raw_result.cost_function_evals\n",
    "        else:\n",
    "            sum = 0\n",
    "    print(sum)"
   ]
  },
  {
   "cell_type": "markdown",
   "id": "5c1f05f7-bed3-4345-8b21-14ac230a6af1",
   "metadata": {},
   "source": [
    "## **Extrapolation** \n",
    "\n",
    "Here, an extrapolator added that will try to fit each (param,point) set to some specified function and suggest an initial parameter set for the next point (degree of freedom). \n",
    "\n",
    "- Extrapolator is based on an external extrapolator that sets the 'window', that is, the number of previous points to use for extrapolation, while the internal extrapolator proceeds with the actual extrapolation.\n",
    "- In practice, the user sets the window by specifying an integer value to num_bootstrap - which is also the number of previous points to use for bootstrapping. Additionally, the external extrapolator defines the space within how to extrapolate - here PCA, clustering and the standard window approach. \n",
    "\n",
    "In practice, if no extrapolator is defined and bootstrapping is True, then all previous points will be bootstrapped. If an extrapolator list is defined and no points are specified for bootstrapping, then the extrapolation will be done based on all previous points."
   ]
  },
  {
   "cell_type": "markdown",
   "id": "4a1e2abc-0e3d-4c52-83a4-f6498eb325f4",
   "metadata": {},
   "source": [
    "1. Window Extrapolator: An extrapolator which wraps another extrapolator, limiting the internal extrapolator's ground truth parameter set to a fixed window size\n",
    "2. PCA Extrapolator: A wrapper extrapolator which reduces the points' dimensionality with PCA, performs extrapolation in the transformed pca space, and untransforms the results before returning.\n",
    "3. Sieve Extrapolator: A wrapper extrapolator which performs an extrapolation, then clusters the extrapolated parameter values into two large and small clusters, and sets the small clusters' parameters to zero.\n",
    "4. Polynomial Extrapolator: An extrapolator based on fitting each parameter to a polynomial function of a user-specified degree.\n",
    "5. Differential Extrapolator: An extrapolator based on treating each param set as a point in space, and performing regression to predict the param set for the next point. A user-specified degree also adds derivatives to the values in the point vectors which serve as features in the training data for the linear regression."
   ]
  },
  {
   "cell_type": "markdown",
   "id": "f3d68b73-3ea8-4e04-b686-23674edb8afb",
   "metadata": {},
   "source": [
    "## **Here we test two different extrapolation techniques**"
   ]
  },
  {
   "cell_type": "code",
   "execution_count": 10,
   "id": "c0b837ee-9f2a-4b1e-b2a3-4ccab4300ff4",
   "metadata": {},
   "outputs": [],
   "source": [
    "# define different extrapolators\n",
    "degree = 1\n",
    "extrap_poly = Extrapolator.factory(\"poly\", degree=degree)\n",
    "extrap_diff = Extrapolator.factory(\"diff_model\", degree=degree)\n",
    "extrapolators = {\"poly\": extrap_poly, \"diff_model\": extrap_diff}\n",
    "\n",
    "for key in extrapolators:\n",
    "    extrap_internal = extrapolators[key]\n",
    "    extrap = Extrapolator.factory(\"window\", extrapolator=extrap_internal)\n",
    "    # define extrapolator\n",
    "    # BOPES sampler\n",
    "    bs_extr = BOPESSampler(gss=me_gsc, bootstrap=True, num_bootstrap=None, extrapolator=extrap)\n",
    "    # execute\n",
    "    res = bs_extr.sample(es_problem, points)\n",
    "\n",
    "    results_full[f\"{key}\"] = res.raw_results\n",
    "    results[f\"points_{key}\"] = res.points\n",
    "    results[f\"energies_{key}\"] = res.energies"
   ]
  },
  {
   "cell_type": "markdown",
   "id": "35a56852-40a7-4814-9541-8760629f1e4f",
   "metadata": {},
   "source": [
    "## **Plot results**"
   ]
  },
  {
   "cell_type": "code",
   "execution_count": 11,
   "id": "1a389c91-4e7d-43e4-8131-4a445712aa18",
   "metadata": {},
   "outputs": [
    {
     "name": "stdout",
     "output_type": "stream",
     "text": [
      "poly\n",
      "diff_model\n"
     ]
    },
    {
     "data": {
      "text/plain": [
       "Text(0, 0.5, 'Energy')"
      ]
     },
     "execution_count": 11,
     "metadata": {},
     "output_type": "execute_result"
    },
    {
     "data": {
      "image/png": "[encoded data removed]",
      "text/plain": [
       "<Figure size 432x288 with 1 Axes>"
      ]
     },
     "metadata": {
      "needs_background": "light"
     },
     "output_type": "display_data"
    }
   ],
   "source": [
    "fig = plt.figure()\n",
    "for value, bootstrap in conditions.items():\n",
    "    plt.plot(results[f\"points_{bootstrap}\"], results[f\"energies_{bootstrap}\"], label=f\"{bootstrap}\")\n",
    "plt.plot(results[\"points_np\"], results[\"energies_np\"], label=\"numpy\")\n",
    "for condition in extrapolators.keys():\n",
    "    print(condition)\n",
    "    plt.plot(results[f\"points_{condition}\"], results[f\"energies_{condition}\"], label=condition)\n",
    "plt.legend()\n",
    "plt.title(\"Dissociation profile\")\n",
    "plt.xlabel(\"Interatomic distance\")\n",
    "plt.ylabel(\"Energy\")"
   ]
  },
  {
   "cell_type": "markdown",
   "id": "3f8e509c-474b-415b-96c2-d7e480a77874",
   "metadata": {},
   "source": [
    "## **Compare number of evaluations**"
   ]
  },
  {
   "cell_type": "code",
   "execution_count": 12,
   "id": "d0aeb940-e563-4686-947d-9f8c901bcb3f",
   "metadata": {},
   "outputs": [
    {
     "name": "stdout",
     "output_type": "stream",
     "text": [
      "no bootstrapping\n",
      "Total evaluations for no bootstrapping:\n",
      "20277\n",
      "bootstrapping\n",
      "Total evaluations for bootstrapping:\n",
      "3692\n",
      "np\n",
      "Total evaluations for np:\n",
      "0\n",
      "poly\n",
      "Total evaluations for poly:\n",
      "1333\n",
      "diff_model\n",
      "Total evaluations for diff_model:\n",
      "3166\n"
     ]
    }
   ],
   "source": [
    "for condition, result_full in results_full.items():\n",
    "    print(condition)\n",
    "    print(\"Total evaluations for \" + condition + \":\")\n",
    "    sum = 0\n",
    "    for key in results_full[condition].keys():\n",
    "        if condition != \"np\":\n",
    "            sum += result_full[key].raw_result.cost_function_evals\n",
    "        else:\n",
    "            sum = 0\n",
    "    print(sum)"
   ]
  },
  {
   "cell_type": "code",
   "execution_count": 13,
   "id": "68ea5a83-5477-402d-8660-956f702f3c75",
   "metadata": {},
   "outputs": [
    {
     "data": {
      "text/html": [
       "<h3>Version Information</h3><table><tr><th>Qiskit Software</th><th>Version</th></tr><tr><td><code>qiskit-terra</code></td><td>0.19.1</td></tr><tr><td><code>qiskit-aer</code></td><td>0.10.2</td></tr><tr><td><code>qiskit-ignis</code></td><td>0.7.0</td></tr><tr><td><code>qiskit-ibmq-provider</code></td><td>0.18.3</td></tr><tr><td><code>qiskit</code></td><td>0.34.1</td></tr><tr><td><code>qiskit-nature</code></td><td>0.3.0</td></tr><tr><td><code>qiskit-finance</code></td><td>0.3.0</td></tr><tr><td><code>qiskit-optimization</code></td><td>0.3.0</td></tr><tr><td><code>qiskit-machine-learning</code></td><td>0.3.0</td></tr><tr><th>System information</th></tr><tr><td>Python version</td><td>3.8.12</td></tr><tr><td>Python compiler</td><td>GCC 9.4.0</td></tr><tr><td>Python build</td><td>default, Oct 12 2021 21:59:51</td></tr><tr><td>OS</td><td>Linux</td></tr><tr><td>CPUs</td><td>8</td></tr><tr><td>Memory (Gb)</td><td>31.400043487548828</td></tr><tr><td colspan='2'>Thu Jan 20 04:02:49 2022 UTC</td></tr></table>"
      ],
      "text/plain": [
       "<IPython.core.display.HTML object>"
      ]
     },
     "metadata": {},
     "output_type": "display_data"
    }
   ],
   "source": [
    "import qiskit.tools.jupyter\n",
    "\n",
    "%qiskit_version_table"
   ]
  }
 ],
 "metadata": {
  "kernelspec": {
   "display_name": "Qiskit v0.34.1 (ipykernel)",
   "language": "python",
   "name": "python3"
  },
  "language_info": {
   "codemirror_mode": {
    "name": "ipython",
    "version": 3
   },
   "file_extension": ".py",
   "mimetype": "text/x-python",
   "name": "python",
   "nbconvert_exporter": "python",
   "pygments_lexer": "ipython3",
   "version": "3.8.12"
  },
  "widgets": {
   "application/vnd.jupyter.widget-state+json": {
    "state": {
     "04b6620c832f44f7b27bedea533ba243": {
      "model_module": "@jupyter-widgets/controls",
      "model_module_version": "1.5.0",
      "model_name": "HTMLModel",
      "state": {
       "layout": "IPY_MODEL_cdab3ece1cd641e89a1285f68a08ab3d",
       "style": "IPY_MODEL_c9c514c58c0e413fb3dc363cba5b18f1",
       "value": "<p style='font-family: IBM Plex Sans, Arial, Helvetica, sans-serif; font-size: 20px; font-weight: medium;'>Circuit Properties</p>"
      }
     },
     "09bcd316b2574d9b9d8cff92d61693d4": {
      "model_module": "@jupyter-widgets/controls",
      "model_module_version": "1.5.0",
      "model_name": "DescriptionStyleModel",
      "state": {
       "description_width": ""
      }
     },
     "12217c94190c4d11a838a078135cb157": {
      "model_module": "@jupyter-widgets/base",
      "model_module_version": "1.2.0",
      "model_name": "LayoutModel",
      "state": {}
     },
     "136f76f37e1446abb5ec3004f2ebb2ad": {
      "model_module": "@jupyter-widgets/controls",
      "model_module_version": "1.5.0",
      "model_name": "DescriptionStyleModel",
      "state": {
       "description_width": ""
      }
     },
     "1c469f9c4d85499caac5ce981cd8c372": {
      "model_module": "@jupyter-widgets/base",
      "model_module_version": "1.2.0",
      "model_name": "LayoutModel",
      "state": {
       "width": "190px"
      }
     },
     "29f9ce8d181c47139c73d67d8ee53d80": {
      "model_module": "@jupyter-widgets/controls",
      "model_module_version": "1.5.0",
      "model_name": "HTMLModel",
      "state": {
       "layout": "IPY_MODEL_e14cd14d41c94379b337a5172f162d90",
       "style": "IPY_MODEL_e8807b4f00aa45a3aa9e150e7d5804bc",
       "value": "<h5>Backend</h5>"
      }
     },
     "30184986ead04de697ef5f1da9dcc06b": {
      "model_module": "@jupyter-widgets/controls",
      "model_module_version": "1.5.0",
      "model_name": "DescriptionStyleModel",
      "state": {
       "description_width": ""
      }
     },
     "31c4190dbc2649ce97a9ad6e71f1c0fb": {
      "model_module": "@jupyter-widgets/controls",
      "model_module_version": "1.5.0",
      "model_name": "GridBoxModel",
      "state": {
       "children": [
        "IPY_MODEL_9b7d5d658b9146689004b682cf4cf89e"
       ],
       "layout": "IPY_MODEL_b9847e3bcd824179b66d1c0361ffbeda"
      }
     },
     "3bf0574b2bf6476089eda551c3f01079": {
      "model_module": "@jupyter-widgets/controls",
      "model_module_version": "1.5.0",
      "model_name": "HBoxModel",
      "state": {
       "children": [
        "IPY_MODEL_c4cdabf07b674a55b434a4a4421a10d3",
        "IPY_MODEL_29f9ce8d181c47139c73d67d8ee53d80",
        "IPY_MODEL_b36a6abaa6274e7a92434dae8de13f87",
        "IPY_MODEL_64c4581dbf5f490cbfd0386fbc80225b",
        "IPY_MODEL_85b2aa7742b14703bf4dfbc318220bff"
       ],
       "layout": "IPY_MODEL_c804e7a6b5d34deab39501912c22106f"
      }
     },
     "64c4581dbf5f490cbfd0386fbc80225b": {
      "model_module": "@jupyter-widgets/controls",
      "model_module_version": "1.5.0",
      "model_name": "HTMLModel",
      "state": {
       "layout": "IPY_MODEL_dcab424684d54c948bacfa89614eb458",
       "style": "IPY_MODEL_09bcd316b2574d9b9d8cff92d61693d4",
       "value": "<h5>Queue</h5>"
      }
     },
     "804d48f4c4de4da891163be8ac13d41d": {
      "model_module": "@jupyter-widgets/controls",
      "model_module_version": "1.5.0",
      "model_name": "ButtonStyleModel",
      "state": {}
     },
     "85b2aa7742b14703bf4dfbc318220bff": {
      "model_module": "@jupyter-widgets/controls",
      "model_module_version": "1.5.0",
      "model_name": "HTMLModel",
      "state": {
       "layout": "IPY_MODEL_12217c94190c4d11a838a078135cb157",
       "style": "IPY_MODEL_30184986ead04de697ef5f1da9dcc06b",
       "value": "<h5>Message</h5>"
      }
     },
     "996d8b2d0ced403990d7a4959e8c343e": {
      "model_module": "@jupyter-widgets/base",
      "model_module_version": "1.2.0",
      "model_name": "LayoutModel",
      "state": {
       "width": "95px"
      }
     },
     "9b7d5d658b9146689004b682cf4cf89e": {
      "model_module": "@jupyter-widgets/controls",
      "model_module_version": "1.5.0",
      "model_name": "ButtonModel",
      "state": {
       "button_style": "primary",
       "description": "Clear",
       "layout": "IPY_MODEL_cf45db86db2640fcb51ebd8fb0d89c5b",
       "style": "IPY_MODEL_804d48f4c4de4da891163be8ac13d41d"
      }
     },
     "b36a6abaa6274e7a92434dae8de13f87": {
      "model_module": "@jupyter-widgets/controls",
      "model_module_version": "1.5.0",
      "model_name": "HTMLModel",
      "state": {
       "layout": "IPY_MODEL_996d8b2d0ced403990d7a4959e8c343e",
       "style": "IPY_MODEL_136f76f37e1446abb5ec3004f2ebb2ad",
       "value": "<h5>Status</h5>"
      }
     },
     "b9847e3bcd824179b66d1c0361ffbeda": {
      "model_module": "@jupyter-widgets/base",
      "model_module_version": "1.2.0",
      "model_name": "LayoutModel",
      "state": {
       "grid_template_areas": "\n                                       \". . . . right \"\n                                        ",
       "grid_template_columns": "20% 20% 20% 20% 20%",
       "width": "100%"
      }
     },
     "c4cdabf07b674a55b434a4a4421a10d3": {
      "model_module": "@jupyter-widgets/controls",
      "model_module_version": "1.5.0",
      "model_name": "HTMLModel",
      "state": {
       "layout": "IPY_MODEL_1c469f9c4d85499caac5ce981cd8c372",
       "style": "IPY_MODEL_d9ba282397174f02b2014cf2d41b0632",
       "value": "<h5>Job ID</h5>"
      }
     },
     "c804e7a6b5d34deab39501912c22106f": {
      "model_module": "@jupyter-widgets/base",
      "model_module_version": "1.2.0",
      "model_name": "LayoutModel",
      "state": {
       "margin": "0px 0px 0px 37px",
       "width": "600px"
      }
     },
     "c9c514c58c0e413fb3dc363cba5b18f1": {
      "model_module": "@jupyter-widgets/controls",
      "model_module_version": "1.5.0",
      "model_name": "DescriptionStyleModel",
      "state": {
       "description_width": ""
      }
     },
     "cdab3ece1cd641e89a1285f68a08ab3d": {
      "model_module": "@jupyter-widgets/base",
      "model_module_version": "1.2.0",
      "model_name": "LayoutModel",
      "state": {
       "margin": "0px 0px 10px 0px"
      }
     },
     "cf45db86db2640fcb51ebd8fb0d89c5b": {
      "model_module": "@jupyter-widgets/base",
      "model_module_version": "1.2.0",
      "model_name": "LayoutModel",
      "state": {
       "grid_area": "right",
       "padding": "0px 0px 0px 0px",
       "width": "70px"
      }
     },
     "d9ba282397174f02b2014cf2d41b0632": {
      "model_module": "@jupyter-widgets/controls",
      "model_module_version": "1.5.0",
      "model_name": "DescriptionStyleModel",
      "state": {
       "description_width": ""
      }
     },
     "dcab424684d54c948bacfa89614eb458": {
      "model_module": "@jupyter-widgets/base",
      "model_module_version": "1.2.0",
      "model_name": "LayoutModel",
      "state": {
       "width": "70px"
      }
     },
     "e14cd14d41c94379b337a5172f162d90": {
      "model_module": "@jupyter-widgets/base",
      "model_module_version": "1.2.0",
      "model_name": "LayoutModel",
      "state": {
       "width": "145px"
      }
     },
     "e8807b4f00aa45a3aa9e150e7d5804bc": {
      "model_module": "@jupyter-widgets/controls",
      "model_module_version": "1.5.0",
      "model_name": "DescriptionStyleModel",
      "state": {
       "description_width": ""
      }
     }
    },
    "version_major": 2,
    "version_minor": 0
   }
  }
 },
 "nbformat": 4,
 "nbformat_minor": 5
}
