{
 "cells": [
  {
   "cell_type": "markdown",
   "id": "c041cbf8-22d5-40b8-99a3-4f264ca5bb35",
   "metadata": {},
   "source": [
    "# **Torch Runtime**\n",
    "\n",
    "In this notebook, we introduce Torch Runtime, and show how to use it via the `TorchRuntimeClient` class in Qiskit Machine Learning.\n",
    "Torch Runtime leverages Qiskit Runtime for \n",
    "hybrid quantum-classical machine learning based on a PyTorch `Module`. It allows training models or predicting the outputs with trained models significantly faster. We show how to use Torch Runtime with two simple examples for regression and classification tasks in the following."
   ]
  },
  {
   "cell_type": "markdown",
   "id": "d2a2bac0-6eed-4ceb-a473-1fff69264683",
   "metadata": {},
   "source": [
    "## **1. Regression**\n",
    "\n",
    "First, we show how to use Torch Runtime via `TorchRuntimeClient` using the simple regression example. In the example, we will perform \n",
    "a regression task on a randomly generated dataset following a sin wave."
   ]
  },
  {
   "cell_type": "code",
   "execution_count": 1,
   "id": "df21727b-8114-4c8b-9b3d-b07465f78221",
   "metadata": {},
   "outputs": [],
   "source": [
    "import numpy as np\n",
    "import matplotlib.pyplot as plt\n",
    "\n",
    "from torch import Tensor, manual_seed, is_tensor\n",
    "from torch.nn import Linear, CrossEntropyLoss, MSELoss\n",
    "from torch.optim import LBFGS, Adam\n",
    "from torch.utils.data import Dataset, DataLoader\n",
    "\n",
    "from qiskit import Aer, QuantumCircuit\n",
    "from qiskit.utils import QuantumInstance, algorithm_globals\n",
    "from qiskit.opflow import AerPauliExpectation\n",
    "from qiskit.circuit import Parameter\n",
    "from qiskit.circuit.library import RealAmplitudes, ZZFeatureMap\n",
    "from qiskit_machine_learning.neural_networks import CircuitQNN, TwoLayerQNN\n",
    "from qiskit_machine_learning.connectors import TorchConnector\n",
    "from qiskit_machine_learning.runtime import TorchRuntimeClient, TorchRuntimeResult\n",
    "\n",
    "\n",
    "# Set seed for random generators\n",
    "seed = 42\n",
    "manual_seed(seed)\n",
    "algorithm_globals.random_seed = seed"
   ]
  },
  {
   "cell_type": "code",
   "execution_count": 2,
   "id": "9eeb30d7-01ec-4e5e-a243-38a6b51183fb",
   "metadata": {},
   "outputs": [
    {
     "data": {
      "image/png": "[encoded data removed]",
      "text/plain": [
       "<Figure size 432x288 with 1 Axes>"
      ]
     },
     "metadata": {
      "needs_background": "light"
     },
     "output_type": "display_data"
    }
   ],
   "source": [
    "# Generate random dataset for the training\n",
    "import matplotlib.pyplot as plt\n",
    "\n",
    "np.random.seed(0)\n",
    "num_samples = 20\n",
    "eps = 0.2\n",
    "lb, ub = -np.pi, np.pi\n",
    "f = lambda x: np.sin(x)\n",
    "X = (ub - lb) * np.random.rand(num_samples, 1) + lb\n",
    "y = f(X) + eps * (2 * np.random.rand(num_samples, 1) - 1)\n",
    "\n",
    "plt.figure()\n",
    "plt.plot(np.linspace(lb, ub), f(np.linspace(lb, ub)), \"r--\")\n",
    "plt.plot(X, y, \"bo\")\n",
    "plt.show()"
   ]
  },
  {
   "cell_type": "markdown",
   "id": "c0dd3c72-f011-4521-9cb4-580065f5e7be",
   "metadata": {},
   "source": [
    "`TorchRuntimeClient` requires a PyTorch `DataLoader` as an input for training/predicting. For that purpose, we create a custom torch dataset class."
   ]
  },
  {
   "cell_type": "code",
   "execution_count": 3,
   "id": "1d2bd018-37bb-43f8-a41a-a2e75d13af1a",
   "metadata": {},
   "outputs": [],
   "source": [
    "# Create custom torch dataset class\n",
    "class TorchDataset(Dataset):\n",
    "    \"\"\"Map-style dataset\"\"\"\n",
    "\n",
    "    def __init__(self, X, y):\n",
    "        self.X = Tensor(X).float()\n",
    "        self.y = Tensor(y).float()\n",
    "\n",
    "    def __len__(self):\n",
    "        return len(self.X)\n",
    "\n",
    "    def __getitem__(self, idx):\n",
    "        import torch\n",
    "\n",
    "        if torch.is_tensor(idx):\n",
    "            idx = idx.tolist()\n",
    "\n",
    "        X_i = self.X[idx]\n",
    "        y_i = self.y[idx]\n",
    "\n",
    "        # important: the dataset item must be returned as data,target\n",
    "        return X_i, y_i\n",
    "\n",
    "\n",
    "# Create a train loader\n",
    "train_set = TorchDataset(X, y)\n",
    "train_loader1 = DataLoader(train_set, batch_size=1, shuffle=False)"
   ]
  },
  {
   "cell_type": "markdown",
   "id": "1433e5fd-2dac-440f-afcd-ffd46dd63598",
   "metadata": {},
   "source": [
    "Create an instance of `TorchConnector` to wrap a QNN model and be able to use pytorch to train the model, then set up an optimizer and a loss function as usual."
   ]
  },
  {
   "cell_type": "code",
   "execution_count": 4,
   "id": "98cee79e-805e-4f4e-8571-4ff28029a8df",
   "metadata": {},
   "outputs": [
    {
     "name": "stdout",
     "output_type": "stream",
     "text": [
      "ComposedOp([\n",
      "  OperatorMeasurement(1.0 * Z),\n",
      "  CircuitStateFn(\n",
      "     ┌───────┐┌───────┐\n",
      "  q: ┤ fm(x) ├┤ vf(y) ├\n",
      "     └───────┘└───────┘\n",
      "  )\n",
      "])\n"
     ]
    }
   ],
   "source": [
    "from qiskit.circuit import Parameter\n",
    "\n",
    "# Construct simple feature map\n",
    "param_x = Parameter(\"x\")\n",
    "feature_map = QuantumCircuit(1, name=\"fm\")\n",
    "feature_map.ry(param_x, 0)\n",
    "\n",
    "# Construct simple feature map\n",
    "param_y = Parameter(\"y\")\n",
    "ansatz = QuantumCircuit(1, name=\"vf\")\n",
    "ansatz.ry(param_y, 0)\n",
    "\n",
    "# Construct QNN\n",
    "qnn1 = TwoLayerQNN(1, feature_map, ansatz)\n",
    "print(qnn1.operator)\n",
    "\n",
    "\n",
    "initial_weights = 0.1 * (2 * algorithm_globals.random.random(qnn1.num_weights) - 1)\n",
    "model1 = TorchConnector(qnn1, initial_weights)\n",
    "\n",
    "# Define optimizer and loss function\n",
    "optimizer1 = Adam(model1.parameters(), lr=0.1)\n",
    "loss_func1 = MSELoss(reduction=\"sum\")"
   ]
  },
  {
   "cell_type": "markdown",
   "id": "b8d97478-2070-4c63-8538-9480e5aca7fb",
   "metadata": {},
   "source": [
    "Load a provider and specify a backend for the runtime service. "
   ]
  },
  {
   "cell_type": "code",
   "execution_count": 5,
   "id": "7d5c1574-e7ef-4da2-a441-5447999d3a5b",
   "metadata": {},
   "outputs": [],
   "source": [
    "# Set up a provider and backend\n",
    "from qiskit import IBMQ\n",
    "\n",
    "IBMQ.load_account()\n",
    "\n",
    "provider = IBMQ.get_provider(project=\"main\")  # replace by your runtime provider\n",
    "backend = provider.get_backend(\"ibmq_qasm_simulator\")  # select a backend that supports the runtime"
   ]
  },
  {
   "cell_type": "markdown",
   "id": "9238236f-7cd6-433f-b53c-5d837625be9c",
   "metadata": {},
   "source": [
    "Create a Torch Runtime Client instance with the model, the optimizer, and other configurations."
   ]
  },
  {
   "cell_type": "code",
   "execution_count": 6,
   "id": "3a9b373c-1d3b-4439-b46d-c888950d36e0",
   "metadata": {},
   "outputs": [],
   "source": [
    "torch_runtime_client = TorchRuntimeClient(\n",
    "    provider=provider,\n",
    "    model=model1,\n",
    "    optimizer=optimizer1,\n",
    "    loss_func=loss_func1,\n",
    "    epochs=5,\n",
    "    backend=backend,\n",
    ")"
   ]
  },
  {
   "cell_type": "markdown",
   "id": "9bdda0d0-2d29-440d-8418-a411d38b3970",
   "metadata": {},
   "source": [
    "### **Call `fit()` to train the model**\n",
    "Call the `fit` method in `TorchRuntimeClient` with the data loader to train the model."
   ]
  },
  {
   "cell_type": "code",
   "execution_count": 7,
   "id": "7282ec19-bc98-49db-abfe-1b8604c017eb",
   "metadata": {},
   "outputs": [],
   "source": [
    "fit_result = torch_runtime_client.fit(train_loader=train_loader1)"
   ]
  },
  {
   "cell_type": "markdown",
   "id": "f282c4c4-ec41-4d01-afb9-d1de3545f5f0",
   "metadata": {},
   "source": [
    "You can access training result information by querying properties of the `fit_result` variable, that is an instance of the `TorchRuntimeResult` class. Also, model's parameters in `TorchRuntimeClient` are updated with trained ones. "
   ]
  },
  {
   "cell_type": "code",
   "execution_count": 8,
   "id": "0520ddb1-36bf-4b4e-bb8b-c5a907859ae1",
   "metadata": {},
   "outputs": [
    {
     "name": "stdout",
     "output_type": "stream",
     "text": [
      "id:  c7vm5n69f4djdce04kf0\n",
      "execution time:  10.882354497909546\n",
      "model_state_dict:  OrderedDict([('weight', tensor([-1.5859])), ('_weights', tensor([-1.5859]))])\n"
     ]
    }
   ],
   "source": [
    "print(\"id: \", fit_result.job_id)\n",
    "print(\"execution time: \", fit_result.execution_time)\n",
    "print(\"model_state_dict: \", torch_runtime_client.model.state_dict())"
   ]
  },
  {
   "cell_type": "markdown",
   "id": "cedf72da-922b-4a7f-830f-03fd45ad6dd0",
   "metadata": {},
   "source": [
    "You can also query the `train_history` property, which is a list of dictionaries, each per epoch. In a dictionary you can find properties like: \n",
    "- `epoch`, epoch index\n",
    "- `loss`, loss value at this epoch\n",
    "- `forward_time`, time spent in the forward pass, in seconds\n",
    "- `backward_time`, time spent in the backward pass, in seconds\n",
    "- `epoch_time`, epoch time, in seconds.\""
   ]
  },
  {
   "cell_type": "markdown",
   "id": "f537a66d-42ae-4333-9677-44e511219aad",
   "metadata": {},
   "source": [
    "#### **Training with validation**\n",
    "Torch Runtime can also perform validation while training a model by passing a validation data loader to the `fit` method."
   ]
  },
  {
   "cell_type": "code",
   "execution_count": 9,
   "id": "0b45774f-684c-4381-b59f-52ae2687329a",
   "metadata": {},
   "outputs": [],
   "source": [
    "# Create a validation dataloader\n",
    "X_test = [[x] for x in np.linspace(lb, ub)]\n",
    "y_test = [[y] for y in f(np.linspace(lb, ub))]\n",
    "test_set = TorchDataset(X_test, y_test)\n",
    "test_loader = DataLoader(test_set, batch_size=1, shuffle=False)"
   ]
  },
  {
   "cell_type": "code",
   "execution_count": 10,
   "id": "85578796-8fa9-48bb-a93a-722436d66847",
   "metadata": {},
   "outputs": [],
   "source": [
    "torch_runtime_client = TorchRuntimeClient(\n",
    "    provider=provider,\n",
    "    model=model1,\n",
    "    optimizer=optimizer1,\n",
    "    loss_func=loss_func1,\n",
    "    epochs=5,\n",
    "    backend=backend,\n",
    ")"
   ]
  },
  {
   "cell_type": "code",
   "execution_count": 11,
   "id": "1d95f04f-c04a-49bd-8355-6d5cf59ff539",
   "metadata": {},
   "outputs": [],
   "source": [
    "# Pass a train data loader and a validation data loader\n",
    "fit_result = torch_runtime_client.fit(train_loader=train_loader1, val_loader=test_loader)"
   ]
  },
  {
   "cell_type": "code",
   "execution_count": 12,
   "id": "4e439cb8-c6ae-442a-8d47-806d7046c85e",
   "metadata": {},
   "outputs": [
    {
     "name": "stdout",
     "output_type": "stream",
     "text": [
      "id:  c7vm62a4m6nn0dv909jg\n",
      "execution time:  19.94237995147705\n"
     ]
    }
   ],
   "source": [
    "print(\"id: \", fit_result.job_id)\n",
    "print(\"execution time: \", fit_result.execution_time)"
   ]
  },
  {
   "cell_type": "markdown",
   "id": "3a053c5a-43ee-4c4b-a0ac-aad88569ebae",
   "metadata": {},
   "source": [
    "You can query the `val_history` property, which is a list of dictionaries for the validation processes, each per epoch. In a dictionary you can find the same properties as `train_history`."
   ]
  },
  {
   "cell_type": "markdown",
   "id": "cd40eae4-d699-42d3-a4b3-58176ab1f58e",
   "metadata": {},
   "source": [
    "### **Call `predict()` to perform prediction**\n",
    "Call the `predict` method in `TorchRuntimeClient` with the data loader to perform prediction on the passed data using the trained model."
   ]
  },
  {
   "cell_type": "code",
   "execution_count": 13,
   "id": "889c200d-3b7b-435e-8093-97bc9fe323d2",
   "metadata": {},
   "outputs": [],
   "source": [
    "predict_result = torch_runtime_client.predict(data_loader=test_loader)"
   ]
  },
  {
   "cell_type": "code",
   "execution_count": 14,
   "id": "f553ea92-8922-472f-a970-36a3bdcf894d",
   "metadata": {},
   "outputs": [
    {
     "name": "stdout",
     "output_type": "stream",
     "text": [
      "id:  c7vm6cm9f4djdce04mg0\n",
      "execution time:  0.49000024795532227\n"
     ]
    }
   ],
   "source": [
    "print(\"id: \", predict_result.job_id)\n",
    "print(\"execution time: \", predict_result.execution_time)"
   ]
  },
  {
   "cell_type": "code",
   "execution_count": 15,
   "id": "7d42095b-e738-4687-8a0b-c56da5124c8c",
   "metadata": {},
   "outputs": [
    {
     "data": {
      "image/png": "[encoded data removed]",
      "text/plain": [
       "<Figure size 432x288 with 1 Axes>"
      ]
     },
     "metadata": {
      "needs_background": "light"
     },
     "output_type": "display_data"
    }
   ],
   "source": [
    "# Plot the original function\n",
    "plt.plot(np.linspace(lb, ub), f(np.linspace(lb, ub)), \"r--\")\n",
    "\n",
    "# Plot the training data\n",
    "plt.plot(X, y, \"bo\")\n",
    "# # Plot the prediction result\n",
    "y_ = []\n",
    "for output in predict_result.prediction:\n",
    "    y_.append(output.item())\n",
    "plt.plot(X_test, y_, \"g-\")\n",
    "\n",
    "plt.show()"
   ]
  },
  {
   "cell_type": "markdown",
   "id": "9c693046-190f-4910-a569-25a71490ebc2",
   "metadata": {},
   "source": [
    "A red line, blue dots, and a green line on the plot show the original function, the training data, \n",
    "and a function constructed out of the predicted values, respectively. "
   ]
  },
  {
   "cell_type": "markdown",
   "id": "29e9b5c9-657a-4c15-a463-e919d419b84b",
   "metadata": {},
   "source": [
    "### **Call `score()` to calculate a score**\n",
    "Call the `score` method in `TorchRuntimeClient` with the data loader to calculate a score,\n",
    "for the trained model. You should pass either `\"regression\\\"` or `\"classification\"` to the `score_func` argument to use one of the pre-defined scores functions. Also, you can pass a custom scoring function defined as:\n",
    "\n",
    "```\n",
    "def score_func(model_output, target): -> score: float\\n\",\n",
    "```\n",
    "where:\n",
    "- `model_output` are the values predicted by the model,\n",
    "- `target` ground truth values.\n",
    "\n",
    "Note that the result of the `score` call also contains predicted values that were calculated in the process of scoring the model."
   ]
  },
  {
   "cell_type": "code",
   "execution_count": 16,
   "id": "6c9a655c-0b12-4b1b-a7d1-dfcac23144e6",
   "metadata": {},
   "outputs": [],
   "source": [
    "score_result = torch_runtime_client.score(data_loader=test_loader, score_func=\"regression\")"
   ]
  },
  {
   "cell_type": "code",
   "execution_count": 17,
   "id": "63ca3751-e95a-4fdb-95ca-4a2675ea8702",
   "metadata": {},
   "outputs": [
    {
     "name": "stdout",
     "output_type": "stream",
     "text": [
      "id:  c7vm6la4m6nn0dv90bb0\n",
      "execution time:  0.4981834888458252\n",
      "score:  0.000503737844809109\n"
     ]
    }
   ],
   "source": [
    "print(\"id: \", score_result.job_id)\n",
    "print(\"execution time: \", score_result.execution_time)\n",
    "print(\"score: \", score_result.score)"
   ]
  },
  {
   "cell_type": "markdown",
   "id": "f52976e2-74b4-4362-9f83-4e5e3d0811ab",
   "metadata": {},
   "source": [
    "## **2. Classification**\n",
    "\n",
    "Second, we show how to perform a simple classification task using Torch Runtime. In the example, we will perform binary classification on a randomly generated dataset."
   ]
  },
  {
   "cell_type": "code",
   "execution_count": 18,
   "id": "fdcbeaaa-18f2-46ab-a583-ddbb22683044",
   "metadata": {},
   "outputs": [
    {
     "data": {
      "image/png": "[encoded data removed]",
      "text/plain": [
       "<Figure size 432x288 with 1 Axes>"
      ]
     },
     "metadata": {
      "needs_background": "light"
     },
     "output_type": "display_data"
    }
   ],
   "source": [
    "# Generate random dataset\n",
    "\n",
    "# Select dataset dimension (num_inputs) and size (num_samples)\n",
    "num_inputs = 2\n",
    "num_samples = 20\n",
    "\n",
    "# Generate random input coordinates (X) and binary labels (y)\n",
    "X = 2 * algorithm_globals.random.random([num_samples, num_inputs]) - 1\n",
    "y01 = 1 * (np.sum(X, axis=1) >= 0)  # in { 0,  1}, y01 will be used for CircuitQNN example\n",
    "y = 2 * y01 - 1  # in {-1, +1}, y will be used for OplowQNN example\n",
    "\n",
    "# Convert to torch Tensors\n",
    "X_ = Tensor(X)\n",
    "y01_ = Tensor(y01).reshape(len(y)).long()\n",
    "y_ = Tensor(y).reshape(len(y), 1)\n",
    "\n",
    "# Plot dataset\n",
    "for x, y_target in zip(X, y):\n",
    "    if y_target == 1:\n",
    "        plt.plot(x[0], x[1], \"bo\")\n",
    "    else:\n",
    "        plt.plot(x[0], x[1], \"go\")\n",
    "plt.plot([-1, 1], [1, -1], \"--\", color=\"black\")\n",
    "plt.show()"
   ]
  },
  {
   "cell_type": "code",
   "execution_count": 19,
   "id": "3705f03c-85d4-438c-abfb-391dca4379ab",
   "metadata": {},
   "outputs": [],
   "source": [
    "# Create custom torch dataset class\n",
    "class TorchDataset(Dataset):\n",
    "    \"\"\"Map-style dataset\"\"\"\n",
    "\n",
    "    def __init__(self, X, y):\n",
    "        self.X = Tensor(X)\n",
    "        self.y = Tensor(y)\n",
    "\n",
    "    def __len__(self):\n",
    "        return len(self.X)\n",
    "\n",
    "    def __getitem__(self, idx):\n",
    "        import torch\n",
    "\n",
    "        if torch.is_tensor(idx):\n",
    "            idx = idx.tolist()\n",
    "\n",
    "        X_i = self.X[idx]\n",
    "        y_i = self.y[idx]\n",
    "\n",
    "        # important: the dataset item must be returned as data,target\n",
    "        return X_i, y_i"
   ]
  },
  {
   "cell_type": "code",
   "execution_count": 20,
   "id": "27c400de-835a-4a52-9709-4648ac67d9ee",
   "metadata": {},
   "outputs": [],
   "source": [
    "y = y.reshape(20, 1)\n",
    "train_set = TorchDataset(X, y)\n",
    "train_loader = DataLoader(train_set, batch_size=1, shuffle=False)"
   ]
  },
  {
   "cell_type": "code",
   "execution_count": 21,
   "id": "543e38e2-3910-4a6d-87cf-d8b578294fb6",
   "metadata": {},
   "outputs": [
    {
     "name": "stdout",
     "output_type": "stream",
     "text": [
      "ComposedOp([\n",
      "  OperatorMeasurement(1.0 * ZZ),\n",
      "  CircuitStateFn(\n",
      "       ┌──────────────────────────┐»\n",
      "  q_0: ┤0                         ├»\n",
      "       │  ZZFeatureMap(x[0],x[1]) │»\n",
      "  q_1: ┤1                         ├»\n",
      "       └──────────────────────────┘»\n",
      "  «     ┌──────────────────────────────────────────────────────────┐\n",
      "  «q_0: ┤0                                                         ├\n",
      "  «     │  RealAmplitudes(θ[0],θ[1],θ[2],θ[3],θ[4],θ[5],θ[6],θ[7]) │\n",
      "  «q_1: ┤1                                                         ├\n",
      "  «     └──────────────────────────────────────────────────────────┘\n",
      "  )\n",
      "])\n",
      "Initial weights:  [ 0.06653564  0.04005302 -0.03752667  0.06645196  0.06095287 -0.02250432\n",
      " -0.04233438  0.0364991 ]\n"
     ]
    }
   ],
   "source": [
    "# Set up QNN\n",
    "qnn = TwoLayerQNN(num_qubits=num_inputs)\n",
    "print(qnn.operator)\n",
    "\n",
    "# Set up PyTorch module\n",
    "initial_weights = 0.1 * (2 * algorithm_globals.random.random(qnn.num_weights) - 1)\n",
    "model = TorchConnector(qnn, initial_weights=initial_weights)\n",
    "print(\"Initial weights: \", initial_weights)"
   ]
  },
  {
   "cell_type": "code",
   "execution_count": 22,
   "id": "0c5011ea-e3eb-4123-b76e-95b6b53ff5e4",
   "metadata": {},
   "outputs": [],
   "source": [
    "# Define optimizer and loss\n",
    "optimizer = Adam(model.parameters(), lr=0.1)\n",
    "loss_func = MSELoss(reduction=\"sum\")"
   ]
  },
  {
   "cell_type": "code",
   "execution_count": 23,
   "id": "ebd31366-f139-4e9d-89ec-defb1e720488",
   "metadata": {},
   "outputs": [],
   "source": [
    "torch_runtime_client = TorchRuntimeClient(\n",
    "    provider=provider,\n",
    "    model=model,\n",
    "    optimizer=optimizer,\n",
    "    loss_func=loss_func,\n",
    "    epochs=5,\n",
    "    backend=backend,\n",
    ")"
   ]
  },
  {
   "cell_type": "markdown",
   "id": "f8e99734-41ec-4f85-ab1a-34ae858b32cb",
   "metadata": {},
   "source": [
    "### **Call `fit()` to train the model**"
   ]
  },
  {
   "cell_type": "code",
   "execution_count": 24,
   "id": "e81d87b7-f2a5-4e12-be6a-79d96caf7efa",
   "metadata": {},
   "outputs": [],
   "source": [
    "fit_result = torch_runtime_client.fit(train_loader=train_loader, seed=42)"
   ]
  },
  {
   "cell_type": "code",
   "execution_count": 25,
   "id": "b62c4419-8ad9-4e5f-89de-c11fbb3236d8",
   "metadata": {},
   "outputs": [
    {
     "name": "stdout",
     "output_type": "stream",
     "text": [
      "id:  c7vm7124m6nn0dv90cfg\n",
      "execution time:  28.48619818687439\n"
     ]
    }
   ],
   "source": [
    "print(\"id: \", fit_result.job_id)\n",
    "print(\"execution time: \", fit_result.execution_time)"
   ]
  },
  {
   "cell_type": "markdown",
   "id": "aba0e355-dddb-4485-b77c-eda5c2bf55d6",
   "metadata": {},
   "source": [
    "You can also query the `train_history` and the `val_history` properties."
   ]
  },
  {
   "cell_type": "markdown",
   "id": "8c695258-f5ea-4b3e-bdac-2179d16dab0b",
   "metadata": {},
   "source": [
    "### **Call `predict()` to perform prediction**"
   ]
  },
  {
   "cell_type": "code",
   "execution_count": 26,
   "id": "8d9e0cfd-befe-4821-8409-c79bf51fdfa2",
   "metadata": {},
   "outputs": [],
   "source": [
    "# In this example, we use the same data loader for the prediction as well\n",
    "predict_result = torch_runtime_client.predict(data_loader=train_loader)"
   ]
  },
  {
   "cell_type": "code",
   "execution_count": 27,
   "id": "597d561c-ed67-4bef-9adc-d2a38799793d",
   "metadata": {},
   "outputs": [
    {
     "name": "stdout",
     "output_type": "stream",
     "text": [
      "id:  c7vm7e24m6nn0dv90dp0\n",
      "execution time:  0.4864797592163086\n"
     ]
    }
   ],
   "source": [
    "print(\"id: \", predict_result.job_id)\n",
    "print(\"execution time: \", predict_result.execution_time)"
   ]
  },
  {
   "cell_type": "code",
   "execution_count": 28,
   "id": "fe9230c1-ca9f-478c-afab-2fb4d5d323e3",
   "metadata": {},
   "outputs": [
    {
     "data": {
      "image/png": "[encoded data removed]",
      "text/plain": [
       "<Figure size 432x288 with 1 Axes>"
      ]
     },
     "metadata": {
      "needs_background": "light"
     },
     "output_type": "display_data"
    }
   ],
   "source": [
    "# Plot results\n",
    "# red == wrongly classified\n",
    "\n",
    "y_predict = []\n",
    "for out in predict_result.prediction:\n",
    "    y_predict += [np.sign(out.item())]\n",
    "y_predict = np.array(y_predict)\n",
    "y_check = [i[0] for i in y]\n",
    "\n",
    "for x, y_target, y_p in zip(X, y, y_predict):\n",
    "    if y_target == 1:\n",
    "        plt.plot(x[0], x[1], \"bo\")\n",
    "    else:\n",
    "        plt.plot(x[0], x[1], \"go\")\n",
    "    if y_target != y_p:\n",
    "        plt.scatter(x[0], x[1], s=200, facecolors=\"none\", edgecolors=\"r\", linewidths=2)\n",
    "plt.plot([-1, 1], [1, -1], \"--\", color=\"black\")\n",
    "plt.show()"
   ]
  },
  {
   "cell_type": "markdown",
   "id": "b7399a90-9179-4329-b095-8a565293d245",
   "metadata": {},
   "source": [
    "The red circles indicate wrongly classified data points."
   ]
  },
  {
   "cell_type": "markdown",
   "id": "4cabd985-dab2-4eab-a796-705c3150383a",
   "metadata": {},
   "source": [
    "### **Call `score()` to calculate a score**\n",
    "\n",
    "In the example, we use the following custom scoring function to calculate a score. The scoring function returns 1, if the trained model successfully classified the input. Otherwise, it returns 0. An overall average is calculated in `score()` in the end."
   ]
  },
  {
   "cell_type": "code",
   "execution_count": 29,
   "id": "98c76b07-e39e-470c-b6e0-be34c8323d7f",
   "metadata": {},
   "outputs": [],
   "source": [
    "def score_func(out, target):\n",
    "    from numpy import sign\n",
    "\n",
    "    score = 0\n",
    "    if sign(out.item()) == target.item():\n",
    "        score = 1\n",
    "    return score"
   ]
  },
  {
   "cell_type": "code",
   "execution_count": 30,
   "id": "b1c19389-9222-4850-87bd-416c9d1db3cf",
   "metadata": {},
   "outputs": [],
   "source": [
    "score_result = torch_runtime_client.score(data_loader=train_loader, score_func=score_func)"
   ]
  },
  {
   "cell_type": "code",
   "execution_count": 31,
   "id": "f4f20f71-8da8-453a-9d31-0c4456184914",
   "metadata": {},
   "outputs": [
    {
     "name": "stdout",
     "output_type": "stream",
     "text": [
      "id:  c7vm7lm9f4djdce04q9g\n",
      "execution time:  0.46010708808898926\n",
      "score:  0.75\n"
     ]
    }
   ],
   "source": [
    "print(\"id: \", score_result.job_id)\n",
    "print(\"execution time: \", score_result.execution_time)\n",
    "print(\"score: \", score_result.score)"
   ]
  },
  {
   "cell_type": "markdown",
   "id": "66dad211-bbb5-4f0e-b13a-6814f7ce6207",
   "metadata": {},
   "source": [
    "## **3. How to use hooks in training**\n",
    "Qiskit Machine Learning offers a base hook class, `HookBase`. It is a base class for a hook that is a set of callback functions used in the training process. Users can implement their own hook classes from this base class to handle complicated callback processes. This structure provides high flexibility in the callback processes.\n",
    "Each hook can implement 6 methods, and each method is called before/after the corresponding processes during training. The way they are called is demonstrated\n",
    "in the following snippet:\n",
    "```\n",
    "    hook.before_train()\n",
    "    for epoch in range(epochs):\n",
    "        hook.before_epoch()\n",
    "        for batch in train_loader:\n",
    "            hook.before_step()\n",
    "            train_step()\n",
    "            hook.after_step()\n",
    "            global_step += 1\n",
    "        hook.after_epoch()\n",
    "        epoch += 1\n",
    "    hook.after_train()\n",
    "```\n",
    "\n",
    "\n",
    " In the hook methods, users can access `TorchTrainer` via `self.trainer` to access more context properties(e.g., model, current iteration, or config). The following snippet describes available properties that might be useful for a hook.\n",
    "\n",
    "- TorchTrainer has:\n",
    "  - `model`: A model to be trained.\n",
    "  - `optimizer`: An optimizer used for the training.\n",
    "  - `loss_func`: A loss function for the training.\n",
    "  - `train_loader`: A PyTorch data loader object containing a training dataset.\n",
    "  - `val_loader`: A PyTorch data loader object containing a validation dataset.\n",
    "  - `max_epoch`: The maximum number of training epochs.\n",
    "  - `log_period`: A logging period for a train history and a validation history. By default, there will be logs every epoch (`log_period`=1).\n",
    "  - `start_epoch`: An initial epoch for warm-start training. By default, 0.\n",
    "  - `epoch`: The current number of epochs.\n",
    "  - `global_step`: The current number of steps.\n",
    "  - `train_logger`: A logger for a training history. Use `train_logger.metrics` to access a list of logs. A log for each epoch is stored as a dictionary similar to `TorchRuntimeResult.train_history`\n",
    "  - `val_logger`: A logger for a validation history. Logs are stored in the same way as train_logger.\n",
    "  \n",
    "Users can pass a single hook instance or a list of hook instances to `hooks` argument."
   ]
  },
  {
   "cell_type": "markdown",
   "id": "f14a481d-5b16-4f3a-b96e-6f9c78a3cb73",
   "metadata": {},
   "source": [
    "The following example is a hook for early stopping. If the current loss is smaller than the threshold after an epoch, the training will be terminated."
   ]
  },
  {
   "cell_type": "code",
   "execution_count": 40,
   "id": "85a36c5f-c026-4f95-bd88-c6c06053cc86",
   "metadata": {},
   "outputs": [],
   "source": [
    "from qiskit_machine_learning.runtime import HookBase\n",
    "\n",
    "class StopHook(HookBase):\n",
    "    \"\"\"For early stopping\"\"\"\n",
    "\n",
    "    def __init__(self, loss_threshold):\n",
    "        self._loss_threshold = loss_threshold\n",
    "\n",
    "    def after_epoch(self):\n",
    "        # This function is called after each epoch\n",
    "        current_loss = self.trainer.train_logger.metrics[-1][\"loss\"]\n",
    "        print(\"current loss: \", current_loss)\n",
    "        # If current loss is smaller than the threshold,\n",
    "        # set the current number of the epoch to the maximum number of the epochs to stop the training\n",
    "        if current_loss < self._loss_threshold:\n",
    "            self.trainer.epoch = self.trainer.max_epochs\n",
    "\n",
    "\n",
    "stop_hook = StopHook(loss_threshold=0.05)"
   ]
  },
  {
   "cell_type": "code",
   "execution_count": 41,
   "id": "e94eff99-79e7-418b-8094-50151c368edd",
   "metadata": {},
   "outputs": [],
   "source": [
    "torch_runtime_client = TorchRuntimeClient(\n",
    "    provider=provider,\n",
    "    model=model1,\n",
    "    optimizer=optimizer1,\n",
    "    loss_func=loss_func1,\n",
    "    epochs=5,\n",
    "    backend=backend,\n",
    ")"
   ]
  },
  {
   "cell_type": "code",
   "execution_count": 42,
   "id": "f926ad9f-8a05-457c-b3af-4ba41d246d16",
   "metadata": {},
   "outputs": [],
   "source": [
    "#fit_result = torch_runtime_client.fit(train_loader=train_loader1, hooks=stop_hook)"
   ]
  },
  {
   "cell_type": "code",
   "execution_count": 43,
   "id": "cc5f47da-affb-4ed4-9a6e-5f794e61695c",
   "metadata": {},
   "outputs": [],
   "source": [
    "#print(\"id: \", fit_result.job_id)\n",
    "#print(\"execution time: \", fit_result.execution_time)\n",
    "#print(\"train history: \")\n",
    "#for epoch_result in fit_result.train_history:\n",
    "#    print(\"  epoch\", epoch_result[\"epoch\"], \": loss\", epoch_result[\"loss\"])"
   ]
  },
  {
   "cell_type": "markdown",
   "id": "dc873457-7864-4f8b-9ef7-c5a40897e463",
   "metadata": {},
   "source": [
    "As we can see, training was interrupted after the first epoch despite we set the number of epochs to 5 in the `TorchRuntimeClient` configuration."
   ]
  },
  {
   "cell_type": "code",
   "execution_count": 44,
   "id": "e826df50-49a6-4c26-a99d-48262ba80dab",
   "metadata": {},
   "outputs": [
    {
     "data": {
      "text/html": [
       "<h3>Version Information</h3><table><tr><th>Qiskit Software</th><th>Version</th></tr><tr><td><code>qiskit-terra</code></td><td>0.19.1</td></tr><tr><td><code>qiskit-aer</code></td><td>0.10.2</td></tr><tr><td><code>qiskit-ignis</code></td><td>0.7.0</td></tr><tr><td><code>qiskit-ibmq-provider</code></td><td>0.18.3</td></tr><tr><td><code>qiskit</code></td><td>0.34.1</td></tr><tr><td><code>qiskit-nature</code></td><td>0.3.0</td></tr><tr><td><code>qiskit-finance</code></td><td>0.3.0</td></tr><tr><td><code>qiskit-optimization</code></td><td>0.3.0</td></tr><tr><td><code>qiskit-machine-learning</code></td><td>0.3.0</td></tr><tr><th>System information</th></tr><tr><td>Python version</td><td>3.8.12</td></tr><tr><td>Python compiler</td><td>GCC 9.4.0</td></tr><tr><td>Python build</td><td>default, Oct 12 2021 21:59:51</td></tr><tr><td>OS</td><td>Linux</td></tr><tr><td>CPUs</td><td>8</td></tr><tr><td>Memory (Gb)</td><td>31.400039672851562</td></tr><tr><td colspan='2'>Sun Feb 06 06:12:33 2022 UTC</td></tr></table>"
      ],
      "text/plain": [
       "<IPython.core.display.HTML object>"
      ]
     },
     "metadata": {},
     "output_type": "display_data"
    }
   ],
   "source": [
    "import qiskit.tools.jupyter\n",
    "\n",
    "%qiskit_version_table"
   ]
  }
 ],
 "metadata": {
  "kernelspec": {
   "display_name": "Qiskit v0.34.1 (ipykernel)",
   "language": "python",
   "name": "python3"
  },
  "language_info": {
   "codemirror_mode": {
    "name": "ipython",
    "version": 3
   },
   "file_extension": ".py",
   "mimetype": "text/x-python",
   "name": "python",
   "nbconvert_exporter": "python",
   "pygments_lexer": "ipython3",
   "version": "3.8.12"
  },
  "widgets": {
   "application/vnd.jupyter.widget-state+json": {
    "state": {
     "0c2f54070c684f23962af203a6c8b186": {
      "model_module": "@jupyter-widgets/controls",
      "model_module_version": "1.5.0",
      "model_name": "HTMLModel",
      "state": {
       "layout": "IPY_MODEL_768f75fbb68f4a6fb477164118bf40ff",
       "style": "IPY_MODEL_40114ec91dea435b8c00f4dd04aa84f3",
       "value": "<h5>Status</h5>"
      }
     },
     "265433eba1674defb71cbfd2b7e7ba36": {
      "model_module": "@jupyter-widgets/controls",
      "model_module_version": "1.5.0",
      "model_name": "DescriptionStyleModel",
      "state": {
       "description_width": ""
      }
     },
     "2b04ec0da9444bbda6b59f19eaa6afa5": {
      "model_module": "@jupyter-widgets/controls",
      "model_module_version": "1.5.0",
      "model_name": "DescriptionStyleModel",
      "state": {
       "description_width": ""
      }
     },
     "2c5fba2ae77c4c15a4d8bce6e82fbaea": {
      "model_module": "@jupyter-widgets/controls",
      "model_module_version": "1.5.0",
      "model_name": "HTMLModel",
      "state": {
       "layout": "IPY_MODEL_70daa71454454e9099db2175624f8471",
       "style": "IPY_MODEL_f08b91db1c334ec584888ca4593a776e",
       "value": "<h5>Backend</h5>"
      }
     },
     "3f2ac20f76ed4e3c8cd98fbaf79d971b": {
      "model_module": "@jupyter-widgets/controls",
      "model_module_version": "1.5.0",
      "model_name": "HTMLModel",
      "state": {
       "layout": "IPY_MODEL_a0fd5395a88b4ac6a2a46d72b3f3792c",
       "style": "IPY_MODEL_b88c10551f194019aeda1c46d18ad0d2",
       "value": "<p style='font-family: IBM Plex Sans, Arial, Helvetica, sans-serif; font-size: 20px; font-weight: medium;'>Circuit Properties</p>"
      }
     },
     "40114ec91dea435b8c00f4dd04aa84f3": {
      "model_module": "@jupyter-widgets/controls",
      "model_module_version": "1.5.0",
      "model_name": "DescriptionStyleModel",
      "state": {
       "description_width": ""
      }
     },
     "42dbbee4f8cd45e68563c918f4480376": {
      "model_module": "@jupyter-widgets/controls",
      "model_module_version": "1.5.0",
      "model_name": "HTMLModel",
      "state": {
       "layout": "IPY_MODEL_78850f09c05d44eaaec47db34abcdd24",
       "style": "IPY_MODEL_2b04ec0da9444bbda6b59f19eaa6afa5",
       "value": "<h5>Queue</h5>"
      }
     },
     "49d9033bf38a468dbfbd606734762c74": {
      "model_module": "@jupyter-widgets/controls",
      "model_module_version": "1.5.0",
      "model_name": "GridBoxModel",
      "state": {
       "children": [
        "IPY_MODEL_52e6e4aaa5f74dfaabcdb8342f9a4d9e"
       ],
       "layout": "IPY_MODEL_630af40b57e646f8abc7632b46b05eb1"
      }
     },
     "52e6e4aaa5f74dfaabcdb8342f9a4d9e": {
      "model_module": "@jupyter-widgets/controls",
      "model_module_version": "1.5.0",
      "model_name": "ButtonModel",
      "state": {
       "button_style": "primary",
       "description": "Clear",
       "layout": "IPY_MODEL_d778860242954edeb09916cf6f678ee1",
       "style": "IPY_MODEL_cd521eaa908f48f6916ffe79a92a812f"
      }
     },
     "59dfdf4168e64e8585de90ca3139d0ed": {
      "model_module": "@jupyter-widgets/controls",
      "model_module_version": "1.5.0",
      "model_name": "HTMLModel",
      "state": {
       "layout": "IPY_MODEL_a7a5bcf66413427b9e1b1778595fb767",
       "style": "IPY_MODEL_6c9b142c894b4d66a4098dbb75d17c0a",
       "value": "<h5>Message</h5>"
      }
     },
     "630af40b57e646f8abc7632b46b05eb1": {
      "model_module": "@jupyter-widgets/base",
      "model_module_version": "1.2.0",
      "model_name": "LayoutModel",
      "state": {
       "grid_template_areas": "\n                                       \". . . . right \"\n                                        ",
       "grid_template_columns": "20% 20% 20% 20% 20%",
       "width": "100%"
      }
     },
     "65af46b2502840129ca290ff9e55e64b": {
      "model_module": "@jupyter-widgets/base",
      "model_module_version": "1.2.0",
      "model_name": "LayoutModel",
      "state": {
       "width": "190px"
      }
     },
     "6c9b142c894b4d66a4098dbb75d17c0a": {
      "model_module": "@jupyter-widgets/controls",
      "model_module_version": "1.5.0",
      "model_name": "DescriptionStyleModel",
      "state": {
       "description_width": ""
      }
     },
     "70daa71454454e9099db2175624f8471": {
      "model_module": "@jupyter-widgets/base",
      "model_module_version": "1.2.0",
      "model_name": "LayoutModel",
      "state": {
       "width": "145px"
      }
     },
     "768f75fbb68f4a6fb477164118bf40ff": {
      "model_module": "@jupyter-widgets/base",
      "model_module_version": "1.2.0",
      "model_name": "LayoutModel",
      "state": {
       "width": "95px"
      }
     },
     "78850f09c05d44eaaec47db34abcdd24": {
      "model_module": "@jupyter-widgets/base",
      "model_module_version": "1.2.0",
      "model_name": "LayoutModel",
      "state": {
       "width": "70px"
      }
     },
     "8cb8f059ec69453b8fda8af5f4e329d8": {
      "model_module": "@jupyter-widgets/controls",
      "model_module_version": "1.5.0",
      "model_name": "HTMLModel",
      "state": {
       "layout": "IPY_MODEL_65af46b2502840129ca290ff9e55e64b",
       "style": "IPY_MODEL_265433eba1674defb71cbfd2b7e7ba36",
       "value": "<h5>Job ID</h5>"
      }
     },
     "9edd5815078b42ce976b46bcbe9b0efa": {
      "model_module": "@jupyter-widgets/base",
      "model_module_version": "1.2.0",
      "model_name": "LayoutModel",
      "state": {
       "margin": "0px 0px 0px 37px",
       "width": "600px"
      }
     },
     "a0fd5395a88b4ac6a2a46d72b3f3792c": {
      "model_module": "@jupyter-widgets/base",
      "model_module_version": "1.2.0",
      "model_name": "LayoutModel",
      "state": {
       "margin": "0px 0px 10px 0px"
      }
     },
     "a248d178451842f7b46b4209967973b8": {
      "model_module": "@jupyter-widgets/controls",
      "model_module_version": "1.5.0",
      "model_name": "HBoxModel",
      "state": {
       "children": [
        "IPY_MODEL_8cb8f059ec69453b8fda8af5f4e329d8",
        "IPY_MODEL_2c5fba2ae77c4c15a4d8bce6e82fbaea",
        "IPY_MODEL_0c2f54070c684f23962af203a6c8b186",
        "IPY_MODEL_42dbbee4f8cd45e68563c918f4480376",
        "IPY_MODEL_59dfdf4168e64e8585de90ca3139d0ed"
       ],
       "layout": "IPY_MODEL_9edd5815078b42ce976b46bcbe9b0efa"
      }
     },
     "a7a5bcf66413427b9e1b1778595fb767": {
      "model_module": "@jupyter-widgets/base",
      "model_module_version": "1.2.0",
      "model_name": "LayoutModel",
      "state": {}
     },
     "b88c10551f194019aeda1c46d18ad0d2": {
      "model_module": "@jupyter-widgets/controls",
      "model_module_version": "1.5.0",
      "model_name": "DescriptionStyleModel",
      "state": {
       "description_width": ""
      }
     },
     "cd521eaa908f48f6916ffe79a92a812f": {
      "model_module": "@jupyter-widgets/controls",
      "model_module_version": "1.5.0",
      "model_name": "ButtonStyleModel",
      "state": {}
     },
     "d778860242954edeb09916cf6f678ee1": {
      "model_module": "@jupyter-widgets/base",
      "model_module_version": "1.2.0",
      "model_name": "LayoutModel",
      "state": {
       "grid_area": "right",
       "padding": "0px 0px 0px 0px",
       "width": "70px"
      }
     },
     "f08b91db1c334ec584888ca4593a776e": {
      "model_module": "@jupyter-widgets/controls",
      "model_module_version": "1.5.0",
      "model_name": "DescriptionStyleModel",
      "state": {
       "description_width": ""
      }
     }
    },
    "version_major": 2,
    "version_minor": 0
   }
  }
 },
 "nbformat": 4,
 "nbformat_minor": 5
}
