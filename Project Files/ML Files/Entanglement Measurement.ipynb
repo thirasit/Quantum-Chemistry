{
 "cells": [
  {
   "cell_type": "markdown",
   "id": "fdbb2b24-bf27-4628-b846-683f5490b5f7",
   "metadata": {},
   "source": [
    "# **Entanglement Measurement**"
   ]
  },
  {
   "cell_type": "code",
   "execution_count": 1,
   "id": "d2e756b7-e454-4935-af70-db441e343617",
   "metadata": {},
   "outputs": [
    {
     "name": "stderr",
     "output_type": "stream",
     "text": [
      "<frozen importlib._bootstrap>:219: RuntimeWarning: scipy._lib.messagestream.MessageStream size changed, may indicate binary incompatibility. Expected 56 from C header, got 64 from PyObject\n"
     ]
    },
    {
     "name": "stdout",
     "output_type": "stream",
     "text": [
      "theta 0.7886082589618045\n"
     ]
    }
   ],
   "source": [
    "import matplotlib.pyplot as plt\n",
    "%matplotlib inline\n",
    "import numpy as np\n",
    "from math import pi\n",
    "from qiskit import QuantumCircuit, ClassicalRegister, QuantumRegister, execute\n",
    "from qiskit.tools.visualization import circuit_drawer\n",
    "from qiskit.quantum_info import state_fidelity\n",
    "from qiskit import BasicAer\n",
    "\n",
    "backend = BasicAer.get_backend('unitary_simulator')\n",
    "\n",
    "#pick random theta\n",
    "theta=np.random.randn()\n",
    "print(\"theta\",theta)"
   ]
  },
  {
   "cell_type": "markdown",
   "id": "f75de450-2ac6-479c-8b9e-1ab4162e924d",
   "metadata": {},
   "source": [
    "## **Simplfied Interferometry**"
   ]
  },
  {
   "cell_type": "code",
   "execution_count": 2,
   "id": "fc35d56e-41bb-407c-bd81-cf9d71acfbff",
   "metadata": {},
   "outputs": [
    {
     "data": {
      "image/png": "[encoded data removed]",
      "text/plain": [
       "<Figure size 327.107x144.48 with 1 Axes>"
      ]
     },
     "execution_count": 2,
     "metadata": {},
     "output_type": "execute_result"
    }
   ],
   "source": [
    "q = QuantumRegister(1)\n",
    "c = ClassicalRegister(1)\n",
    "qc = QuantumCircuit(q,c)\n",
    "\n",
    "\n",
    "qc.h(q[0])\n",
    "qc.rz(theta,q[0])\n",
    "qc.h(q[0])\n",
    "qc.measure(q,c)\n",
    "qc.draw()"
   ]
  },
  {
   "cell_type": "code",
   "execution_count": 3,
   "id": "a3de3f4e-5e6f-449b-aa65-b5c14b7fd5f2",
   "metadata": {},
   "outputs": [
    {
     "data": {
      "text/plain": [
       "{'0': 862, '1': 162}"
      ]
     },
     "execution_count": 3,
     "metadata": {},
     "output_type": "execute_result"
    }
   ],
   "source": [
    "backend = BasicAer.get_backend('qasm_simulator')\n",
    "job = execute(qc, backend, shots=1024)\n",
    "job.result().get_counts(qc)"
   ]
  },
  {
   "cell_type": "markdown",
   "id": "b6d6ff60-a4de-4270-abae-f8076d906552",
   "metadata": {},
   "source": [
    "## **Entangled measurements**"
   ]
  },
  {
   "cell_type": "code",
   "execution_count": 4,
   "id": "791377bf-49a6-4ecb-95ff-27a740cc0765",
   "metadata": {},
   "outputs": [
    {
     "data": {
      "text/plain": [
       "{'1': 629, '0': 395}"
      ]
     },
     "execution_count": 4,
     "metadata": {},
     "output_type": "execute_result"
    }
   ],
   "source": [
    "theta = 1.5\n",
    "\n",
    "q = QuantumRegister(3)\n",
    "c = ClassicalRegister(1)\n",
    "qc = QuantumCircuit(q,c)\n",
    "\n",
    "qc.h(q[0])\n",
    "qc.cx(q[0],q[1])\n",
    "qc.cx(q[0],q[2])\n",
    "qc.rz(theta,q[0])\n",
    "qc.rz(theta,q[1])\n",
    "qc.rz(theta,q[2])\n",
    "qc.cx(q[0],q[2])\n",
    "qc.cx(q[0],q[1])\n",
    "qc.h(q[0])\n",
    "qc.measure(q[0],c)\n",
    "qc.draw()\n",
    "\n",
    "backend = BasicAer.get_backend('qasm_simulator')\n",
    "job = execute(qc, backend, shots=1024)\n",
    "job.result().get_counts(qc)"
   ]
  }
 ],
 "metadata": {
  "kernelspec": {
   "display_name": "Qiskit v0.34.2 (ipykernel)",
   "language": "python",
   "name": "python3"
  },
  "language_info": {
   "codemirror_mode": {
    "name": "ipython",
    "version": 3
   },
   "file_extension": ".py",
   "mimetype": "text/x-python",
   "name": "python",
   "nbconvert_exporter": "python",
   "pygments_lexer": "ipython3",
   "version": "3.8.12"
  },
  "widgets": {
   "application/vnd.jupyter.widget-state+json": {
    "state": {},
    "version_major": 2,
    "version_minor": 0
   }
  }
 },
 "nbformat": 4,
 "nbformat_minor": 5
}
