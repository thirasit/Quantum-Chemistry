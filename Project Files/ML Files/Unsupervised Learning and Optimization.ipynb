{
 "cells": [
  {
   "cell_type": "markdown",
   "id": "f28aad00-7523-4dd3-bd98-fdae38c4d274",
   "metadata": {},
   "source": [
    "# **Unsupervised Learning and Optimization**"
   ]
  },
  {
   "cell_type": "markdown",
   "id": "fb4348b2-655b-4d15-863d-2011bc375919",
   "metadata": {},
   "source": [
    "## **Mapping clustering to discrete optimization**"
   ]
  },
  {
   "cell_type": "code",
   "execution_count": 1,
   "id": "049ee3d3-069c-42a1-a754-af790990784b",
   "metadata": {},
   "outputs": [
    {
     "data": {
      "image/png": "[encoded data removed]",
      "text/plain": [
       "<Figure size 432x288 with 1 Axes>"
      ]
     },
     "metadata": {},
     "output_type": "display_data"
    }
   ],
   "source": [
    "import numpy as np\n",
    "import matplotlib.pyplot as plt\n",
    "from mpl_toolkits.mplot3d import Axes3D\n",
    "%matplotlib inline\n",
    "\n",
    "n_instances = 20\n",
    "class_1 = np.random.rand(n_instances//2, 3)/10\n",
    "class_2 = (0.6, 0.1, 0.05) + np.random.rand(n_instances//2, 3)/10\n",
    "data = np.concatenate((class_1, class_2))\n",
    "colors = [\"red\"] * (n_instances//2) + [\"green\"] * (n_instances//2)\n",
    "fig = plt.figure()\n",
    "ax = fig.add_subplot(111, projection='3d', xticks=[], yticks=[], zticks=[])\n",
    "ax.scatter(data[:, 0], data[:, 1], data[:, 2], c=colors);"
   ]
  },
  {
   "cell_type": "markdown",
   "id": "19e85227-25d4-486f-8160-381a8f6efd75",
   "metadata": {},
   "source": [
    "The high-dimensional space is endowed with some measure of distance, the Euclidean distance being the simplest case. We can calculate all pairwise distances between the data points:"
   ]
  },
  {
   "cell_type": "code",
   "execution_count": 2,
   "id": "fed0f44e-83d9-4253-998b-27a1b3c05da2",
   "metadata": {},
   "outputs": [
    {
     "name": "stdout",
     "output_type": "stream",
     "text": [
      "The distances are  [[0.         0.10176638 0.07243951 0.06156429 0.03530039 0.08224355\n",
      "  0.05600741 0.06674033 0.08266962 0.09890993 0.58341988 0.64482256\n",
      "  0.57175168 0.61497965 0.62961183 0.6392775  0.58823317 0.64929519\n",
      "  0.64921501 0.64676487]\n",
      " [0.10176638 0.         0.04874113 0.07316072 0.11510522 0.04784958\n",
      "  0.05038226 0.08691878 0.06082393 0.06863094 0.53927553 0.59208029\n",
      "  0.52373626 0.57081807 0.58267415 0.59406114 0.54376596 0.60590442\n",
      "  0.59938283 0.59865802]\n",
      " [0.07243951 0.04874113 0.         0.04880784 0.09592885 0.05940012\n",
      "  0.03610055 0.06478279 0.08107962 0.09448569 0.52507099 0.58305729\n",
      "  0.51142181 0.55628106 0.57049351 0.58017209 0.52953432 0.5911275\n",
      "  0.58808691 0.58641746]\n",
      " [0.06156429 0.07316072 0.04880784 0.         0.06882548 0.0871782\n",
      "  0.05907649 0.01614012 0.07578325 0.083256   0.54313267 0.60074567\n",
      "  0.53142493 0.57849039 0.58656482 0.60223615 0.54931247 0.61216009\n",
      "  0.6102626  0.60811954]\n",
      " [0.03530039 0.11510522 0.09592885 0.06882548 0.         0.09981721\n",
      "  0.07758454 0.06715397 0.07893771 0.0900746  0.60644291 0.66641261\n",
      "  0.59528185 0.64029942 0.65113681 0.66440652 0.61216789 0.67412952\n",
      "  0.67376137 0.6713031 ]\n",
      " [0.08224355 0.04784958 0.05940012 0.0871782  0.09981721 0.\n",
      "  0.03196615 0.10130089 0.05534537 0.07345378 0.57104377 0.62672697\n",
      "  0.5554285  0.5995179  0.61663503 0.6231934  0.57442357 0.63518697\n",
      "  0.62992936 0.62901147]\n",
      " [0.05600741 0.05038226 0.03610055 0.05907649 0.07758454 0.03196615\n",
      "  0.         0.07353414 0.05693411 0.07530317 0.55983685 0.61754187\n",
      "  0.54570992 0.58997841 0.60552116 0.61388855 0.56391341 0.62512287\n",
      "  0.62169776 0.62020135]\n",
      " [0.06674033 0.08691878 0.06478279 0.01614012 0.06715397 0.10130089\n",
      "  0.07353414 0.         0.08307984 0.08801739 0.54778662 0.60534948\n",
      "  0.53678816 0.58443485 0.59056046 0.60811816 0.55451506 0.61766548\n",
      "  0.61624663 0.61392272]\n",
      " [0.08266962 0.06082393 0.08107962 0.07578325 0.07893771 0.05534537\n",
      "  0.05693411 0.08307984 0.         0.02078818 0.59546363 0.64886639\n",
      "  0.58096939 0.62845463 0.63840125 0.65182587 0.60061679 0.66317787\n",
      "  0.65763672 0.65661542]\n",
      " [0.09890993 0.06863094 0.09448569 0.083256   0.0900746  0.07345378\n",
      "  0.07530317 0.08801739 0.02078818 0.         0.59911686 0.65070658\n",
      "  0.58463049 0.63353475 0.64075658 0.65663989 0.60481587 0.66794444\n",
      "  0.66164093 0.6607689 ]\n",
      " [0.58341988 0.53927553 0.52507099 0.54313267 0.60644291 0.57104377\n",
      "  0.55983685 0.54778662 0.59546363 0.59911686 0.         0.08387662\n",
      "  0.03126018 0.06402633 0.05753776 0.07718396 0.02185617 0.07993528\n",
      "  0.08592182 0.07888156]\n",
      " [0.64482256 0.59208029 0.58305729 0.60074567 0.66641261 0.62672697\n",
      "  0.61754187 0.60534948 0.64886639 0.65070658 0.08387662 0.\n",
      "  0.08651215 0.10295907 0.04257105 0.09464017 0.08843335 0.09599139\n",
      "  0.07341763 0.07507311]\n",
      " [0.57175168 0.52373626 0.51142181 0.53142493 0.59528185 0.5554285\n",
      "  0.54570992 0.53678816 0.58096939 0.58463049 0.03126018 0.08651215\n",
      "  0.         0.06432167 0.0748982  0.08002208 0.02897853 0.08962711\n",
      "  0.08257579 0.07930883]\n",
      " [0.61497965 0.57081807 0.55628106 0.57849039 0.64029942 0.5995179\n",
      "  0.58997841 0.58443485 0.62845463 0.63353475 0.06402633 0.10295907\n",
      "  0.06432167 0.         0.09218685 0.02508298 0.0434548  0.0377153\n",
      "  0.05087153 0.04254221]\n",
      " [0.62961183 0.58267415 0.57049351 0.58656482 0.65113681 0.61663503\n",
      "  0.60552116 0.59056046 0.63840125 0.64075658 0.05753776 0.04257105\n",
      "  0.0748982  0.09218685 0.         0.08879681 0.06857768 0.0848883\n",
      "  0.0830059  0.07801864]\n",
      " [0.6392775  0.59406114 0.58017209 0.60223615 0.66440652 0.6231934\n",
      "  0.61388855 0.60811816 0.65182587 0.65663989 0.07718396 0.09464017\n",
      "  0.08002208 0.02508298 0.08879681 0.         0.05981601 0.01944971\n",
      "  0.03377125 0.02367181]\n",
      " [0.58823317 0.54376596 0.52953432 0.54931247 0.61216789 0.57442357\n",
      "  0.56391341 0.55451506 0.60061679 0.60481587 0.02185617 0.08843335\n",
      "  0.02897853 0.0434548  0.06857768 0.05981601 0.         0.06588306\n",
      "  0.07205185 0.06484318]\n",
      " [0.64929519 0.60590442 0.5911275  0.61216009 0.67412952 0.63518697\n",
      "  0.62512287 0.61766548 0.66317787 0.66794444 0.07993528 0.09599139\n",
      "  0.08962711 0.0377153  0.0848883  0.01944971 0.06588306 0.\n",
      "  0.04469972 0.03281418]\n",
      " [0.64921501 0.59938283 0.58808691 0.6102626  0.67376137 0.62992936\n",
      "  0.62169776 0.61624663 0.65763672 0.66164093 0.08592182 0.07341763\n",
      "  0.08257579 0.05087153 0.0830059  0.03377125 0.07205185 0.04469972\n",
      "  0.         0.01252882]\n",
      " [0.64676487 0.59865802 0.58641746 0.60811954 0.6713031  0.62901147\n",
      "  0.62020135 0.61392272 0.65661542 0.6607689  0.07888156 0.07507311\n",
      "  0.07930883 0.04254221 0.07801864 0.02367181 0.06484318 0.03281418\n",
      "  0.01252882 0.        ]]\n"
     ]
    }
   ],
   "source": [
    "import itertools\n",
    "d = np.zeros((n_instances, n_instances))\n",
    "for i, j in itertools.product(*[range(n_instances)]*2):\n",
    "    d[i, j] = np.linalg.norm(data[i]-data[j])\n",
    "\n",
    "print(\"The distances are \", d)"
   ]
  },
  {
   "cell_type": "markdown",
   "id": "20926588-8eaa-4779-83ae-08cbf2a90f53",
   "metadata": {},
   "source": [
    "This matrix is sometimes called the Gram or the kernel matrix. The Gram matrix contains a fair bit of information about the topology of the points in the high-dimensional space, but it is not easy to see. We can think of the Gram matrix as the weighted adjacency matrix of a graph: two nodes represent two data instances. Their distance as contained in the Gram matrix is the weight on the edge that connects them. If the distance is zero, they are not connected by an edge. In general, this is a dense graph with many edges -- sparsity can be improved by a distance function that gets exponentially smaller.\n",
    "\n",
    "What can we do with this graph to find the clusters? We could look for the max-cut, that is, the collection of edges that would split the graph in exactly two if removed, while maximizing the total weight of these edges [[1](#1)]. This is a well-known NP-hard problem, but it also very naturally maps to an Ising model."
   ]
  },
  {
   "cell_type": "markdown",
   "id": "2b232751-343e-48d8-bbff-2de8074ed23d",
   "metadata": {},
   "source": [
    "# **References**\n",
    "\n",
    "[1] Otterbach, J. S., Manenti, R., Alidoust, N., Bestwick, A., Block, M., Bloom, B., Caldwell, S., Didier, N., Fried, E. Schuyler, Hong, S., Karalekas, P., Osborn, C. B., Papageorge, A., Peterson, E. C., Prawiroatmodjo, G., Rubin, N., Ryan, Colm A., Scarabelli, D., Scheer, M., Sete, E. A., Sivarajah, P., Smith, Robert S., Staley, A., Tezak, N., Zeng, W. J., Hudson, A., Johnson, Blake R., Reagor, M., Silva, M. P. da, Rigetti, C. (2017). [Unsupervised Machine Learning on a Hybrid Quantum Computer](https://arxiv.org/abs/1712.05771). *arXiv:1712.05771*. <a id='1'></a>"
   ]
  }
 ],
 "metadata": {
  "kernelspec": {
   "display_name": "Qiskit v0.34.2 (ipykernel)",
   "language": "python",
   "name": "python3"
  },
  "language_info": {
   "codemirror_mode": {
    "name": "ipython",
    "version": 3
   },
   "file_extension": ".py",
   "mimetype": "text/x-python",
   "name": "python",
   "nbconvert_exporter": "python",
   "pygments_lexer": "ipython3",
   "version": "3.8.12"
  },
  "widgets": {
   "application/vnd.jupyter.widget-state+json": {
    "state": {},
    "version_major": 2,
    "version_minor": 0
   }
  }
 },
 "nbformat": 4,
 "nbformat_minor": 5
}
