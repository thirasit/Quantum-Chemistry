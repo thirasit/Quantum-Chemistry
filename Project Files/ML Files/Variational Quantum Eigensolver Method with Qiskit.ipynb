{
 "cells": [
  {
   "cell_type": "markdown",
   "id": "9f177cae-c7b2-4291-8cc3-840abd175045",
   "metadata": {},
   "source": [
    "# **Variational Quantum Eigensolver Method with Qiskit**"
   ]
  },
  {
   "cell_type": "code",
   "execution_count": 1,
   "id": "f7bc17d3-b024-4da2-a9ae-35cba27c4614",
   "metadata": {},
   "outputs": [
    {
     "name": "stderr",
     "output_type": "stream",
     "text": [
      "<frozen importlib._bootstrap>:219: RuntimeWarning: scipy._lib.messagestream.MessageStream size changed, may indicate binary incompatibility. Expected 56 from C header, got 64 from PyObject\n"
     ]
    }
   ],
   "source": [
    "from qiskit import *\n",
    "import numpy as np"
   ]
  },
  {
   "cell_type": "code",
   "execution_count": 2,
   "id": "c08fc8b9-5006-4db4-9120-5bdb3af4a3d8",
   "metadata": {},
   "outputs": [
    {
     "name": "stderr",
     "output_type": "stream",
     "text": [
      "/tmp/ipykernel_1094/1870473614.py:3: DeprecationWarning: `np.complex` is a deprecated alias for the builtin `complex`. To silence this warning, use `complex` by itself. Doing this will not modify any behavior and is safe. If you specifically wanted the numpy scalar type, use `np.complex128` here.\n",
      "Deprecated in NumPy 1.20; for more details and guidance: https://numpy.org/devdocs/release/1.20.0-notes.html#deprecations\n",
      "  Y = np.array([[0,-np.complex(0,1)],[np.complex(0,1),0]])\n"
     ]
    }
   ],
   "source": [
    "# Define the Pauli matrices \n",
    "X = np.array([[0,1],[1,0]])\n",
    "Y = np.array([[0,-np.complex(0,1)],[np.complex(0,1),0]])\n",
    "Z = np.array([[1,0],[0,-1]])"
   ]
  },
  {
   "cell_type": "code",
   "execution_count": 3,
   "id": "58fcf392-9a9c-41a8-89e5-dd2ec5c8ef39",
   "metadata": {},
   "outputs": [
    {
     "name": "stdout",
     "output_type": "stream",
     "text": [
      "The XX gate is: \n",
      "[[0 0 0 1]\n",
      " [0 0 1 0]\n",
      " [0 1 0 0]\n",
      " [1 0 0 0]] \n",
      "\n",
      "The YY gate is: \n",
      "[[ 0.  0.  0. -1.]\n",
      " [ 0.  0.  1.  0.]\n",
      " [ 0.  1.  0.  0.]\n",
      " [-1.  0.  0.  0.]] \n",
      "\n",
      "The ZZ gate is: \n",
      "[[ 1  0  0  0]\n",
      " [ 0 -1  0  0]\n",
      " [ 0  0 -1  0]\n",
      " [ 0  0  0  1]] \n",
      "\n"
     ]
    }
   ],
   "source": [
    "# Compute the tensor product of the Pauli matrices\n",
    "\n",
    "XX = np.kron(X,X)\n",
    "YY = np.real(np.kron(Y,Y)) # This will be a real matrix\n",
    "ZZ = np.kron(Z,Z)\n",
    "II = np.identity(4)\n",
    "\n",
    "print(\"The XX gate is: \\n{} \\n\".format(XX))\n",
    "print(\"The YY gate is: \\n{} \\n\".format(YY))\n",
    "print(\"The ZZ gate is: \\n{} \\n\".format(ZZ))"
   ]
  },
  {
   "cell_type": "code",
   "execution_count": 4,
   "id": "74445cee-6759-4c0d-a65c-7e388d8fa9c8",
   "metadata": {},
   "outputs": [
    {
     "name": "stdout",
     "output_type": "stream",
     "text": [
      "M = \n",
      " [[ 0.  0.  0.  0.]\n",
      " [ 0. -1.  1.  0.]\n",
      " [ 0.  1. -1.  0.]\n",
      " [ 0.  0.  0.  0.]]\n",
      "\n"
     ]
    }
   ],
   "source": [
    "# This is the decomposition of the \"M\" matrix \n",
    "M = (XX+YY+ZZ-II)/2\n",
    "print('M = \\n',M)\n",
    "print('')"
   ]
  },
  {
   "cell_type": "code",
   "execution_count": 5,
   "id": "29dec433-0ae7-47e1-816c-dcb0695a34a3",
   "metadata": {},
   "outputs": [
    {
     "data": {
      "image/png": "[encoded data removed]",
      "text/plain": [
       "<Figure size 400.433x204.68 with 1 Axes>"
      ]
     },
     "execution_count": 5,
     "metadata": {},
     "output_type": "execute_result"
    }
   ],
   "source": [
    "# Visualize Ansatz-circuit\n",
    "theta=np.pi\n",
    "q = QuantumRegister(2)\n",
    "c = ClassicalRegister(2)\n",
    "circuit = QuantumCircuit(q,c)\n",
    "circuit.h(q[0])\n",
    "circuit.rz(theta,q[0])\n",
    "circuit.cx(q[0],q[1])\n",
    "circuit.x(q[1])\n",
    "circuit.barrier()\n",
    "circuit.draw()"
   ]
  },
  {
   "cell_type": "code",
   "execution_count": 6,
   "id": "1745a39a-6565-4c79-848f-e34f4dce7fb3",
   "metadata": {},
   "outputs": [],
   "source": [
    "def anzatz(circuit,q,c,theta):\n",
    "    '''\n",
    "    The Anzatz wave function\n",
    "    |psi > = (I X)(CX)(Rz(theta) I)(H I)|00>\n",
    "    '''\n",
    "    circuit.h(q[0])\n",
    "    circuit.rz(theta,q[0])\n",
    "    circuit.cx(q[0],q[1])\n",
    "    circuit.x(q[1])\n",
    "    circuit.barrier()\n",
    "    \n",
    "    return circuit\n",
    "\n",
    "def measure_ZZ(circuit,N_shots=2**10,simulator_backend='qasm_simulator'):\n",
    "    '''\n",
    "    Measures the expectation value of ZZ on the 2-qubit states\n",
    "    \n",
    "    <ZZ> = the number of ( 00 )  and (11) states, minus the number of (01) and (10) states\n",
    "    normalized over the number of trials\n",
    "    '''\n",
    "    simulator = Aer.get_backend(simulator_backend)\n",
    "    result = execute(circuit,backend=simulator,shots=N_shots).result()\n",
    "\n",
    "    items =result.get_counts().items()\n",
    "    \n",
    "    s = 0\n",
    "    for key, counts in items:\n",
    "        s+= (-1)**(int(key[0])+int(key[1]))*counts\n",
    "    \n",
    "    s = s/N_shots\n",
    "        \n",
    "    return s\n",
    "\n",
    "def hamiltonian(theta,N_shots=2**10):\n",
    "    '''\n",
    "    The hamiltonian for the problem that corresponds \n",
    "    to our matrix M:\n",
    "    \n",
    "    M = (1/2)*(XX+YY+ZZ-II)\n",
    "    \n",
    "    The hamiltonian is computed by separating it into three components\n",
    "    according to the discussions in the previous cells. \n",
    "    '''\n",
    "    \n",
    "    q = QuantumRegister(2)\n",
    "    c = ClassicalRegister(2)\n",
    "    \n",
    "    ## 0.5*XX component\n",
    "    circuit_xx = QuantumCircuit(q,c)\n",
    "    circuit_xx = anzatz(circuit_xx,q,c,theta)\n",
    "    circuit_xx.h(q[0])\n",
    "    circuit_xx.h(q[1])\n",
    "    circuit_xx.measure(q,c)\n",
    "    E_XX = 0.5*measure_ZZ(circuit_xx,N_shots=N_shots)\n",
    "    \n",
    "    ## 0.5*YY component\n",
    "    circuit_yy = QuantumCircuit(q,c)\n",
    "    circuit_yy = anzatz(circuit_yy,q,c,theta)\n",
    "    circuit_yy.sdg(q[0])\n",
    "    circuit_yy.h(q[0])\n",
    "    circuit_yy.sdg(q[1])\n",
    "    circuit_yy.h(q[1])    \n",
    "    circuit_yy.measure(q,c)\n",
    "    E_YY= 0.5*measure_ZZ(circuit_yy,N_shots=N_shots)\n",
    "    \n",
    "    # 0.5*ZZ component\n",
    "    circuit_zz = QuantumCircuit(q,c)\n",
    "    circuit_zz = anzatz(circuit_zz,q,c,theta)\n",
    "    circuit_zz.measure(q,c)\n",
    "    E_ZZ = 0.5*measure_ZZ(circuit_zz,N_shots=N_shots)\n",
    "    \n",
    "    # Note, the -1/2 comes from the fact that <psi|II|psi> = 1\n",
    "    # it is always a constant\n",
    "    \n",
    "    return (E_XX+E_YY+E_ZZ-0.5)"
   ]
  },
  {
   "cell_type": "code",
   "execution_count": 7,
   "id": "0573be7c-66be-469d-a0a5-489e8d3dc800",
   "metadata": {},
   "outputs": [
    {
     "data": {
      "image/png": "[encoded data removed]",
      "text/plain": [
       "<Figure size 432x288 with 1 Axes>"
      ]
     },
     "metadata": {
      "needs_background": "light"
     },
     "output_type": "display_data"
    },
    {
     "name": "stdout",
     "output_type": "stream",
     "text": [
      "====================================================================================================\n",
      "The minimum bound on the lowest eigenvalue of M is E0=-2.0,\n",
      "\n",
      "The parameter that corresponds to this energy is theta=3.13 Rads\n",
      "====================================================================================================\n"
     ]
    }
   ],
   "source": [
    "# Now we generate several thetas, and find the best set of parameters\n",
    "\n",
    "import matplotlib.pyplot as plt\n",
    "\n",
    "# The number of trials to run\n",
    "N_shots = 2**10\n",
    "\n",
    "# Generate theta grid\n",
    "theta = np.linspace(0.0,2*np.pi,200)\n",
    "E = np.zeros(len(theta))\n",
    "\n",
    "# Calculate the expectation value of the Hamiltonian for different theta\n",
    "for k in range(len(theta)):\n",
    "    E[k] =  hamiltonian(theta=theta[k],N_shots=N_shots)\n",
    "    \n",
    "\n",
    "# Plot the results\n",
    "plt.title('Expectation value vs Angle',fontsize=15)\n",
    "plt.ylabel('Expectation value of H',fontsize=15)\n",
    "plt.xlabel('Theta (radians)',fontsize=15)\n",
    "plt.plot(theta,E,label='Number of shots: {}'.format(N_shots))\n",
    "plt.legend()\n",
    "plt.show()\n",
    "    \n",
    "\n",
    "# Determine the lowest bound from varying theta\n",
    "print('='*100)\n",
    "print('The minimum bound on the lowest eigenvalue of M is E0={},\\n'.format(min(E)))\n",
    "print('The parameter that corresponds to this energy is theta={:0.2f} Rads'.format(theta[np.argmin(E)]))\n",
    "print('='*100)"
   ]
  }
 ],
 "metadata": {
  "kernelspec": {
   "display_name": "Qiskit v0.34.2 (ipykernel)",
   "language": "python",
   "name": "python3"
  },
  "language_info": {
   "codemirror_mode": {
    "name": "ipython",
    "version": 3
   },
   "file_extension": ".py",
   "mimetype": "text/x-python",
   "name": "python",
   "nbconvert_exporter": "python",
   "pygments_lexer": "ipython3",
   "version": "3.8.12"
  },
  "widgets": {
   "application/vnd.jupyter.widget-state+json": {
    "state": {},
    "version_major": 2,
    "version_minor": 0
   }
  }
 },
 "nbformat": 4,
 "nbformat_minor": 5
}
