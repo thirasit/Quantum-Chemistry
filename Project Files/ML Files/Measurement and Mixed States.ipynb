{
 "cells": [
  {
   "cell_type": "markdown",
   "id": "cfc49b25-07e7-486c-9520-8ffd143f1364",
   "metadata": {},
   "source": [
    "# **Measurement and Mixed States**"
   ]
  },
  {
   "cell_type": "markdown",
   "id": "e7fd785b-427c-40a2-bb83-5836004fa2ed",
   "metadata": {},
   "source": [
    "A measurement is a central concept in quantum mechanics. An easy way to think about it as a sample from a probability distribution: it is a random variable with a number of outcomes, each outcome is produced with a certain probability. \n",
    "\n",
    "Measurement connect the quantum world to our classical one: we cannot directly observe the quantum state in nature, we can only gather statistics about it with measurements. Unless a quantum system is perfectly isolated, it interacts with its surrounding environment. This leads to introduction of mixed states, which in one limit recover classical probabilities."
   ]
  },
  {
   "cell_type": "code",
   "execution_count": 1,
   "id": "979b488a-8e82-478b-bc7f-75c73bf2c73a",
   "metadata": {},
   "outputs": [
    {
     "name": "stdout",
     "output_type": "stream",
     "text": [
      "|0> ket:\n",
      " [[1]\n",
      " [0]]\n",
      "<0| bra:\n",
      " [[1 0]]\n"
     ]
    }
   ],
   "source": [
    "import numpy as np\n",
    "zero_ket = np.array([[1], [0]])\n",
    "print(\"|0> ket:\\n\", zero_ket)\n",
    "print(\"<0| bra:\\n\", zero_ket.T.conj())"
   ]
  },
  {
   "cell_type": "markdown",
   "id": "bc163590-dd2c-4b56-8081-95062ebb93cd",
   "metadata": {},
   "source": [
    "This makes it very easy to write dot products: if we write a bra followed by a ket, that is exactly what the dot product is. This is so common that we often drop one of the vertical bars, and just write $\\langle 0|0\\rangle$, for instance. Since quantum states are normalized, the inner product of any quantum state with itself is always one:"
   ]
  },
  {
   "cell_type": "code",
   "execution_count": 2,
   "id": "fb84b21b-bf70-4574-bf27-9b4d0094dcc1",
   "metadata": {},
   "outputs": [
    {
     "data": {
      "text/plain": [
       "array([[1]])"
      ]
     },
     "execution_count": 2,
     "metadata": {},
     "output_type": "execute_result"
    }
   ],
   "source": [
    "zero_ket.T.conj().dot(zero_ket)"
   ]
  },
  {
   "cell_type": "markdown",
   "id": "04a22376-0269-4071-af4b-00f8b6d91f67",
   "metadata": {},
   "source": [
    "Similarly, orthogonal vectors always give 0. E.g. $\\langle 0|1\\rangle$:"
   ]
  },
  {
   "cell_type": "code",
   "execution_count": 3,
   "id": "efc47660-fbb1-4a75-a051-d4132c4cdf1f",
   "metadata": {},
   "outputs": [
    {
     "data": {
      "text/plain": [
       "array([[0]])"
      ]
     },
     "execution_count": 3,
     "metadata": {},
     "output_type": "execute_result"
    }
   ],
   "source": [
    "one_ket = np.array([[0], [1]])\n",
    "zero_ket.T.conj().dot(one_ket)"
   ]
  },
  {
   "cell_type": "markdown",
   "id": "ee4adab6-78f8-437e-9d24-1bc2b538d7c5",
   "metadata": {},
   "source": [
    "Here's a ket and a bra which is a matrix, essentially the outer product of the two vectors: $|0\\rangle\\langle 0|$:"
   ]
  },
  {
   "cell_type": "code",
   "execution_count": 4,
   "id": "a52db93b-5a7a-452d-91e0-f21cf9dda207",
   "metadata": {},
   "outputs": [
    {
     "data": {
      "text/plain": [
       "array([[1, 0],\n",
       "       [0, 0]])"
      ]
     },
     "execution_count": 4,
     "metadata": {},
     "output_type": "execute_result"
    }
   ],
   "source": [
    "zero_ket.dot(zero_ket.T.conj())"
   ]
  },
  {
   "cell_type": "markdown",
   "id": "b1effea7-a200-425a-9053-7c2d4dc52278",
   "metadata": {},
   "source": [
    "If the above looks familiar then that is no surprise as this is a projection to the first element of the canonical basis (refer to Chapter 1). It is true in general that $|\\psi\\rangle\\langle\\psi|$ is going to be a projector to $|\\psi\\rangle$. The result is intuitive. If we take some other quantum state $|\\phi\\rangle$ and apply the matrix $|\\psi\\rangle\\langle\\psi|$ on it $|\\psi\\rangle\\langle\\psi|\\phi\\rangle$, we see that the right-most two terms are a bra and a ket and hence it is a dot product which is basically an overlap between $|\\phi\\rangle$ and $|\\psi\\rangle$. Since this is a scalar, it  scales the left-most term, which is the ket $|\\psi\\rangle$, so in effect,  $|\\phi \\rangle$ got projected on this vector."
   ]
  },
  {
   "cell_type": "markdown",
   "id": "a005fcb3-a55f-4d8a-a530-b6cb25385d15",
   "metadata": {},
   "source": [
    "## **Measurements**\n",
    "\n",
    "A measurement in quantum mechanics is an operator-valued random variable. This measurement is in the canonical basis. In other words, the measurement contains two projections, $|0\\rangle\\langle 0|$ and $|1\\rangle\\langle 1|$, and this measurement can be applied to any of the qubits of the quantum computer.\n",
    "\n",
    "We already saw how applying a projection on a vector works. For a scalar value of that, we need to add a bra to the left. For instance, for some state $|\\psi\\rangle$, we get a scalar for $\\langle\\psi|0\\rangle\\langle 0|\\psi\\rangle$. This is called the expectation value of the operator $|0\\rangle\\langle 0|$. \n",
    "\n",
    "To put this in context, let us apply the projection $|0\\rangle\\langle 0|$ on the superposition $\\frac{1}{\\sqrt{2}}(|0\\rangle + |1\\rangle)$, which is the column vector $\\frac{1}{\\sqrt{2}}\\begin{bmatrix} 1\\\\ 1\\end{bmatrix}$."
   ]
  },
  {
   "cell_type": "code",
   "execution_count": 5,
   "id": "a93560a9-3002-49d2-b961-7d910a331590",
   "metadata": {},
   "outputs": [
    {
     "data": {
      "text/plain": [
       "array([[0.5]])"
      ]
     },
     "execution_count": 5,
     "metadata": {},
     "output_type": "execute_result"
    }
   ],
   "source": [
    "ψ = np.array([[1], [1]])/np.sqrt(2)\n",
    "Π_0 = zero_ket.dot(zero_ket.T.conj())\n",
    "ψ.T.conj().dot(Π_0.dot(ψ))"
   ]
  },
  {
   "cell_type": "markdown",
   "id": "588cb7eb-3fd7-41ae-96e1-f010564c21f5",
   "metadata": {},
   "source": [
    "That is exactly one half, the square of the absolute value of the probability amplitude corresponding to state  $|0\\rangle$ in the superposition.  For an equal superposition with the Hadamard gate (please earlier jupyter notebook for quantum circuits in Chapter 4), we need to apply the measurement, and observe the statistics a s is shown in listing:"
   ]
  },
  {
   "cell_type": "code",
   "execution_count": 6,
   "id": "e4f88593-1bc2-47d4-908b-42ecb2cdd933",
   "metadata": {},
   "outputs": [
    {
     "name": "stderr",
     "output_type": "stream",
     "text": [
      "<frozen importlib._bootstrap>:219: RuntimeWarning: scipy._lib.messagestream.MessageStream size changed, may indicate binary incompatibility. Expected 56 from C header, got 64 from PyObject\n"
     ]
    },
    {
     "data": {
      "image/png": "[encoded data removed]",
      "text/plain": [
       "<Figure size 504x360 with 1 Axes>"
      ]
     },
     "execution_count": 6,
     "metadata": {},
     "output_type": "execute_result"
    }
   ],
   "source": [
    "from qiskit import QuantumCircuit, ClassicalRegister, QuantumRegister\n",
    "from qiskit import execute\n",
    "from qiskit import BasicAer\n",
    "from qiskit.tools.visualization import plot_histogram\n",
    "\n",
    "backend = BasicAer.get_backend('qasm_simulator')\n",
    "q = QuantumRegister(1)\n",
    "c = ClassicalRegister(1)\n",
    "circuit = QuantumCircuit(q, c)\n",
    "circuit.h(q[0])\n",
    "circuit.measure(q, c)\n",
    "job = execute(circuit, backend, shots=100)\n",
    "plot_histogram(job.result().get_counts(circuit))"
   ]
  },
  {
   "cell_type": "markdown",
   "id": "477e28b2-0d27-443e-a4f4-bba6a59c8950",
   "metadata": {},
   "source": [
    "The output which, if we run it a few times, it will be noticed is a random output, with roughly half of the outcomes being 0.\n",
    "\n",
    "However, it is to be noted that even though the measurement has a random outcome,  once it is performed, the quantum state is in the corresponding basis vector. That is, the superposition is destroyed. This is referred to as the collapse of the wavefunction. It is the subject of many ongoing debates and research results how and why it happens, but what matters to us is that we can easily calculate the quantum state after the measurement. Just projecting it to the basis vector is insufficient, since that would not be normalized, so we have to renormalize it. Mathematically it is expressed by the  convoluted expression (Chapter 1)  $\\frac{|i\\rangle\\langle i|\\psi\\rangle}{\\sqrt{\\langle\\psi|i\\rangle\\langle i|\\psi\\rangle}}$. As an example, if we observe zero after measuring the superposition $\\frac{1}{\\sqrt{2}}(|0\\rangle + |1\\rangle)$, the state after the measurement will be"
   ]
  },
  {
   "cell_type": "code",
   "execution_count": 7,
   "id": "57983120-5f86-4be0-9475-5af99d8d0a65",
   "metadata": {},
   "outputs": [
    {
     "data": {
      "text/plain": [
       "array([[1.],\n",
       "       [0.]])"
      ]
     },
     "execution_count": 7,
     "metadata": {},
     "output_type": "execute_result"
    }
   ],
   "source": [
    "ψ = np.array([[np.sqrt(2)/2], [np.sqrt(2)/2]])\n",
    "Π_0 = zero_ket.dot(zero_ket.T.conj())\n",
    "probability_0 = ψ.T.conj().dot(Π_0.dot(ψ))\n",
    "Π_0.dot(ψ)/np.sqrt(probability_0)"
   ]
  },
  {
   "cell_type": "markdown",
   "id": "cab1ea9a-6164-485c-a8a0-c565e2f8d184",
   "metadata": {},
   "source": [
    "in other words, we get a $|0\\rangle$.\n",
    "\n",
    "This can be seen by putting two measurements in a sequence on the same qubit. The second one will always give the same outcome as the first. The first one is random, but the second one will be determined, since there will be no superposition in the computational basis after the first measurement. Following is a simulation of this formed by writing out the results of the two measurements into two different classical registers:"
   ]
  },
  {
   "cell_type": "code",
   "execution_count": 8,
   "id": "2644898f-517f-4f75-9f70-d034bbfd4e02",
   "metadata": {},
   "outputs": [
    {
     "data": {
      "text/plain": [
       "{'11': 53, '00': 47}"
      ]
     },
     "execution_count": 8,
     "metadata": {},
     "output_type": "execute_result"
    }
   ],
   "source": [
    "c = ClassicalRegister(2)\n",
    "circuit = QuantumCircuit(q, c)\n",
    "circuit.h(q[0])\n",
    "circuit.measure(q[0], c[0])\n",
    "circuit.measure(q[0], c[1])\n",
    "job = execute(circuit, backend, shots=100)\n",
    "job.result().get_counts(circuit)"
   ]
  },
  {
   "cell_type": "markdown",
   "id": "20634385-23f8-4ff4-a3c8-0db6a9770009",
   "metadata": {},
   "source": [
    "There is no output like 01 or 10."
   ]
  },
  {
   "cell_type": "markdown",
   "id": "c7b267ae-9336-45a4-a8d8-3e0dccb5d89f",
   "metadata": {},
   "source": [
    "## **Measuring multiqubit systems**\n",
    "\n",
    "Most quantum computers implement local measurements, which means that each qubit is measured separately. So if we have a two qubit system where the first qubit is in the equal superposition and the second one is in $|0\\rangle$, that is, we have the state $\\frac{1}{\\sqrt{2}}(|00\\rangle + |01\\rangle)$, we will observe 0 and 0 or 0 and 1 as outcomes of the measurements on the two qubits. "
   ]
  },
  {
   "cell_type": "code",
   "execution_count": 9,
   "id": "1321b0fc-78d2-4e0f-89bc-34ecb19d4f87",
   "metadata": {},
   "outputs": [
    {
     "data": {
      "image/png": "[encoded data removed]",
      "text/plain": [
       "<Figure size 504x360 with 1 Axes>"
      ]
     },
     "execution_count": 9,
     "metadata": {},
     "output_type": "execute_result"
    }
   ],
   "source": [
    "q = QuantumRegister(2)\n",
    "c = ClassicalRegister(2)\n",
    "circuit = QuantumCircuit(q, c)\n",
    "circuit.h(q[0])\n",
    "circuit.measure(q, c)\n",
    "job = execute(circuit, backend, shots=100)\n",
    "plot_histogram(job.result().get_counts(circuit))"
   ]
  },
  {
   "cell_type": "markdown",
   "id": "b150d161-e37f-4cea-bc18-9b404b4668af",
   "metadata": {},
   "source": [
    "Next, let's make measurements on an entangled state and get the statistics again on the $|\\phi^+\\rangle$ state:"
   ]
  },
  {
   "cell_type": "code",
   "execution_count": 10,
   "id": "24e3c905-3c75-4d25-b155-e5316cd804e5",
   "metadata": {},
   "outputs": [
    {
     "data": {
      "image/png": "[encoded data removed]",
      "text/plain": [
       "<Figure size 504x360 with 1 Axes>"
      ]
     },
     "execution_count": 10,
     "metadata": {},
     "output_type": "execute_result"
    }
   ],
   "source": [
    "q = QuantumRegister(2)\n",
    "c = ClassicalRegister(2)\n",
    "circuit = QuantumCircuit(q, c)\n",
    "circuit.h(q[0])\n",
    "circuit.cx(q[0], q[1])\n",
    "circuit.measure(q, c)\n",
    "job = execute(circuit, backend, shots=100)\n",
    "plot_histogram(job.result().get_counts(circuit))"
   ]
  },
  {
   "cell_type": "markdown",
   "id": "7ae18deb-a5cf-4827-b77a-5b911d9689fb",
   "metadata": {},
   "source": [
    "We only observe 00 and 11. The state is $\\frac{1}{\\sqrt{2}}(|00\\rangle+|11\\rangle)$, and this should not be surprising.  At the end of the last code section, we saw the same statistics, but from measurements on the same qubit. Now we have two, spatially separate qubits exhibiting the same behaviour: this is a very strong form of correlation. This means that if we measure just one qubit, and get, say, 0 as the outcome, we *know* with certainty that if we measured the other qubit, we would also get 0, even though the second measurement is also a random variable.\n",
    "\n",
    "To appreciate this better, imagine that we are tossing two unbiased coins. If we observe heads on one, there is absolutely nothing that we can say about what the other one might be other than a prediction which holds with a probability of 0.5. If we use biased coins, then we might improve our prediction accuracy. However, still, we can never say with certainty what the other coin will be based on the outcome you observed on one coin.\n",
    "\n",
    "It is to be noted that there is no activation or instantaneous (faster than the speed of light) signalling happening between the entanglement qubits. The measurement was local to the qubit and so is the information. If there is somebody else doing the measurement on the other qubit, we would have to inform the person through classical communication channels that we happen to know what the outcome will be. So while we certainly cannot violate the theory of relativity with entanglement, this strong form of correlation is still central to many quantum algorithms."
   ]
  },
  {
   "cell_type": "markdown",
   "id": "a92e59e1-20ef-49d3-8f1d-43e174ee425a",
   "metadata": {},
   "source": [
    "## **Mixed states**\n",
    "\n",
    "A ket and a bra is a projection, as we explained above. More than that, it is also a density matrix. A density matrix is another way of writing a quantum state, instead of kets. So, for instance we could write $\\rho = |\\psi\\rangle\\langle\\psi|$, where $\\rho$ is the density matrix for $|\\psi\\rangle$. The Born rule still applies, but now we have to take the trace of the result: for instance, $\\mathrm{Tr}[|0\\rangle\\langle 0|\\rho]$ would be the probability of seeing 0. See it in action:"
   ]
  },
  {
   "cell_type": "code",
   "execution_count": 11,
   "id": "744a29b1-943f-4aa0-947c-31c1304743a3",
   "metadata": {},
   "outputs": [
    {
     "data": {
      "text/plain": [
       "0.4999999999999999"
      ]
     },
     "execution_count": 11,
     "metadata": {},
     "output_type": "execute_result"
    }
   ],
   "source": [
    "ψ = np.array([[1], [1]])/np.sqrt(2)\n",
    "ρ = ψ.dot(ψ.T.conj())\n",
    "Π_0 = zero_ket.dot(zero_ket.T.conj())\n",
    "np.trace(Π_0.dot(ρ))"
   ]
  },
  {
   "cell_type": "markdown",
   "id": "dbb8b347-e88d-43db-8458-99791bc6eea0",
   "metadata": {},
   "source": [
    "We get one half again. The renormalization after a measurement happens in a similar way: $\\frac{|0\\rangle\\langle 0|\\rho|0\\rangle\\langle 0|}{\\mathrm{Tr}[|0\\rangle\\langle 0|\\rho]}$."
   ]
  },
  {
   "cell_type": "code",
   "execution_count": 12,
   "id": "43dcbceb-522d-458e-b158-873c62b0ae22",
   "metadata": {},
   "outputs": [
    {
     "data": {
      "text/plain": [
       "array([[1., 0.],\n",
       "       [0., 0.]])"
      ]
     },
     "execution_count": 12,
     "metadata": {},
     "output_type": "execute_result"
    }
   ],
   "source": [
    "probability_0 = np.trace(Π_0.dot(ρ))\n",
    "Π_0.dot(ρ).dot(Π_0)/probability_0"
   ]
  },
  {
   "cell_type": "markdown",
   "id": "69d99b3e-e6f4-4f2a-8442-006b42accf27",
   "metadata": {},
   "source": [
    "Every state so far has been created as a ket and a bra. There are other states called *mixed states*: these are *classical* probability distributions over pure states. "
   ]
  },
  {
   "cell_type": "code",
   "execution_count": 13,
   "id": "32b2d9f9-5e33-40af-9115-f84921ad4bb5",
   "metadata": {},
   "outputs": [
    {
     "name": "stdout",
     "output_type": "stream",
     "text": [
      "Density matrix of the equal superposition\n",
      "[[0.5 0.5]\n",
      " [0.5 0.5]]\n",
      "Density matrix of the equally mixed state of |0><0| and |1><1|\n",
      "[[0.5 0. ]\n",
      " [0.  0.5]]\n"
     ]
    }
   ],
   "source": [
    "zero_ket = np.array([[1], [0]])\n",
    "one_ket = np.array([[0], [1]])\n",
    "ψ = (zero_ket + one_ket)/np.sqrt(2)\n",
    "print(\"Density matrix of the equal superposition\")\n",
    "print(ψ.dot(ψ.T.conj()))\n",
    "print(\"Density matrix of the equally mixed state of |0><0| and |1><1|\")\n",
    "print((zero_ket.dot(zero_ket.T.conj())+one_ket.dot(one_ket.T.conj()))/2)"
   ]
  },
  {
   "cell_type": "markdown",
   "id": "6e020c90-a367-41b4-94df-dbaec3362fca",
   "metadata": {},
   "source": [
    "The off-diagonal elements called coherence are gone in the second case. Presence of coherence indicates that the state is quantum. The smaller these values, the closer the quantum state is to a classical probability distribution.\n",
    "\n",
    "The second density matrix above has only diagonal elements and they are equal: this is the equivalent way of writing a uniform distribution. The uniform distribution has maximum entropy, and for this reason, a density matrix with this structure is called a maximally mixed state. In other words, we are perfectly ignorant of which elements of the canonical basis constitute the state.\n",
    "\n",
    "We would like a quantum state to be perfectly isolated from the environment, but in reality, the quantum computers we have today and for the next few years cannot achieve a high degree of isolation. So coherences are slowly lost to the environment - this is a process called decoherence. The speed at which this happens determines the length of the quantum algorithms we can run on the quantum computer: if it happens fast, we have time to apply a handful gates or do any other form calculation, and then we quickly have to pull out (measure) the results."
   ]
  }
 ],
 "metadata": {
  "kernelspec": {
   "display_name": "Qiskit v0.34.2 (ipykernel)",
   "language": "python",
   "name": "python3"
  },
  "language_info": {
   "codemirror_mode": {
    "name": "ipython",
    "version": 3
   },
   "file_extension": ".py",
   "mimetype": "text/x-python",
   "name": "python",
   "nbconvert_exporter": "python",
   "pygments_lexer": "ipython3",
   "version": "3.8.12"
  },
  "widgets": {
   "application/vnd.jupyter.widget-state+json": {
    "state": {},
    "version_major": 2,
    "version_minor": 0
   }
  }
 },
 "nbformat": 4,
 "nbformat_minor": 5
}
