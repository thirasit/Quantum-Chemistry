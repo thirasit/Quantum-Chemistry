{
 "cells": [
  {
   "cell_type": "markdown",
   "id": "1e48788d-901c-4e09-bf7b-3729742a0cdd",
   "metadata": {},
   "source": [
    "# **Leveraging Qiskit Runtime** "
   ]
  },
  {
   "cell_type": "markdown",
   "id": "c594b88f-221e-4a8d-9349-cc2f63ea4e14",
   "metadata": {},
   "source": [
    "Iterative algorithms, such as the Variational Quantum Eigensolver (VQE), traditionally send one batch of circuits (one \"job\") to be executed on the quantum device in each iteration. Sending a job involves certain overhead, mainly\n",
    "\n",
    "* the time to process the requests and send the data (API overhead, usually about 10s)\n",
    "* the job queue time, that is how long you have to wait before it's your turn to run on the device (usually about 2min)\n",
    "\n",
    "If we send hundreds of jobs iteratively, this overhead quickly dominates the execution time of our algorithm.\n",
    "Qiskit Runtime allows us to tackle these issues and significantly speed up (especially) iterative algorithms. With Qiskit Runtime, one job does not contain only a batch of circuits but the _entire_ algorithm. That means we only experience the API overhead and queue wait _once_ instead of in every iteration! You'll be able to either upload algorithm parameters and delegate all the complexity to the cloud, where your program is executed, or upload your personal algorithm directly.\n",
    "\n",
    "For the VQE, the integration of Qiskit Runtime in your existing code is a piece of cake. There is a (almost) drop-in replacement, called `VQEProgram` for the `VQE` class.\n",
    "\n",
    "Let's see how you can leverage the runtime on a simple chemistry example: Finding the ground state energy of the lithium hydrate (LiH) molecule at a given bond distance."
   ]
  },
  {
   "cell_type": "markdown",
   "id": "30db6acb-1e1b-48e7-afea-0715570aec76",
   "metadata": {},
   "source": [
    "## **Problem specification: LiH molecule**\n",
    "\n",
    "First, we specify the molecule whose ground state energy we seek. Here, we look at LiH with a bond distance of 2.5 Å."
   ]
  },
  {
   "cell_type": "code",
   "execution_count": 1,
   "id": "6582ec46-5bae-4c6a-9333-1c4d29f98830",
   "metadata": {},
   "outputs": [],
   "source": [
    "from qiskit_nature.drivers import UnitsType, Molecule\n",
    "from qiskit_nature.drivers.second_quantization import (\n",
    "    ElectronicStructureDriverType,\n",
    "    ElectronicStructureMoleculeDriver,\n",
    ")\n",
    "from qiskit_nature.problems.second_quantization.electronic import ElectronicStructureProblem\n",
    "from qiskit_nature.converters.second_quantization import QubitConverter\n",
    "from qiskit_nature.mappers.second_quantization import ParityMapper\n",
    "from qiskit_nature.properties.second_quantization.electronic import ParticleNumber\n",
    "from qiskit_nature.transformers.second_quantization.electronic import ActiveSpaceTransformer"
   ]
  },
  {
   "cell_type": "code",
   "execution_count": 2,
   "id": "6027bf8f-fd00-4bfb-aee4-eb0895c916e6",
   "metadata": {},
   "outputs": [],
   "source": [
    "bond_distance = 2.5  # in Angstrom\n",
    "\n",
    "# define molecule\n",
    "molecule = Molecule(\n",
    "    geometry=[[\"Li\", [0.0, 0.0, 0.0]], [\"H\", [0.0, 0.0, bond_distance]]], charge=0, multiplicity=1\n",
    ")\n",
    "\n",
    "\n",
    "# specify driver\n",
    "driver = ElectronicStructureMoleculeDriver(\n",
    "    molecule, basis=\"sto3g\", driver_type=ElectronicStructureDriverType.PYSCF\n",
    ")\n",
    "properties = driver.run()\n",
    "\n",
    "particle_number = properties.get_property(ParticleNumber)\n",
    "\n",
    "# specify active space transformation\n",
    "active_space_trafo = ActiveSpaceTransformer(\n",
    "    num_electrons=particle_number.num_particles, num_molecular_orbitals=3\n",
    ")\n",
    "\n",
    "# define electronic structure problem\n",
    "problem = ElectronicStructureProblem(driver, transformers=[active_space_trafo])\n",
    "\n",
    "# construct qubit converter (parity mapping + 2-qubit reduction)\n",
    "qubit_converter = QubitConverter(ParityMapper(), two_qubit_reduction=True)"
   ]
  },
  {
   "cell_type": "markdown",
   "id": "1e4af889-9c39-4966-8385-e1ad13d4e5e1",
   "metadata": {},
   "source": [
    "## **Classical reference solution**"
   ]
  },
  {
   "cell_type": "markdown",
   "id": "a0c651b8-4823-4728-ae75-247714207e76",
   "metadata": {},
   "source": [
    "As a reference solution we can solve this system classically with the `NumPyEigensolver`."
   ]
  },
  {
   "cell_type": "code",
   "execution_count": 3,
   "id": "88d9128d-9bb1-4054-8a16-b7bbfdac8127",
   "metadata": {},
   "outputs": [],
   "source": [
    "from qiskit.algorithms import NumPyMinimumEigensolver\n",
    "from qiskit_nature.algorithms.ground_state_solvers import GroundStateEigensolver\n",
    "\n",
    "np_solver = NumPyMinimumEigensolver()\n",
    "np_groundstate_solver = GroundStateEigensolver(qubit_converter, np_solver)\n",
    "\n",
    "np_result = np_groundstate_solver.solve(problem)"
   ]
  },
  {
   "cell_type": "code",
   "execution_count": 4,
   "id": "3e8eddae-e067-4307-a8b2-67418ccc554c",
   "metadata": {},
   "outputs": [
    {
     "name": "stdout",
     "output_type": "stream",
     "text": [
      "Energy: -7.773617988868128\n"
     ]
    }
   ],
   "source": [
    "import numpy as np\n",
    "\n",
    "target_energy = np.real(np_result.eigenenergies + np_result.nuclear_repulsion_energy)[0]\n",
    "print(\"Energy:\", target_energy)"
   ]
  },
  {
   "cell_type": "markdown",
   "id": "e969f562-571d-4d31-9ae1-9fd9c75182db",
   "metadata": {},
   "source": [
    "## **VQE**\n",
    "\n",
    "To run the VQE we need to select a parameterized quantum circuit acting as ansatz and a classical optimizer. Here we'll choose a heuristic, hardware efficient ansatz and the SPSA optimizer."
   ]
  },
  {
   "cell_type": "code",
   "execution_count": 5,
   "id": "d7954653-545b-4aa6-93b8-15efa0343abb",
   "metadata": {},
   "outputs": [
    {
     "data": {
      "image/png": "[encoded data removed]",
      "text/plain": [
       "<Figure size 628.397x264.88 with 1 Axes>"
      ]
     },
     "execution_count": 5,
     "metadata": {},
     "output_type": "execute_result"
    }
   ],
   "source": [
    "from qiskit.circuit.library import EfficientSU2\n",
    "\n",
    "ansatz = EfficientSU2(num_qubits=4, reps=1, entanglement=\"linear\", insert_barriers=True)\n",
    "ansatz.decompose().draw(\"mpl\", style=\"iqx\")"
   ]
  },
  {
   "cell_type": "code",
   "execution_count": 6,
   "id": "1e45dbd6-cfa7-413e-8482-743d304a28c0",
   "metadata": {},
   "outputs": [],
   "source": [
    "from qiskit.algorithms.optimizers import SPSA\n",
    "\n",
    "optimizer = SPSA(maxiter=100)\n",
    "\n",
    "np.random.seed(5)  # fix seed for reproducibility\n",
    "initial_point = np.random.random(ansatz.num_parameters)"
   ]
  },
  {
   "cell_type": "markdown",
   "id": "1ac42c82-9fd7-4b9c-bee9-63a923fc8c16",
   "metadata": {},
   "source": [
    "Before executing the VQE in the cloud using Qiskit Runtime, let's execute a local VQE first."
   ]
  },
  {
   "cell_type": "code",
   "execution_count": 7,
   "id": "8529214f-c775-4600-b110-33f8002e1b6d",
   "metadata": {},
   "outputs": [
    {
     "name": "stderr",
     "output_type": "stream",
     "text": [
      "/opt/conda/lib/python3.8/site-packages/qiskit/utils/run_circuits.py:727: UserWarning: Option max_credits is not used by this backend\n",
      "  return backend.run(circuits, **run_kwargs)\n",
      "/opt/conda/lib/python3.8/site-packages/qiskit/utils/run_circuits.py:727: UserWarning: Option max_credits is not used by this backend\n",
      "  return backend.run(circuits, **run_kwargs)\n"
     ]
    }
   ],
   "source": [
    "from qiskit.providers.basicaer import QasmSimulatorPy  # local simulator\n",
    "from qiskit.algorithms import VQE\n",
    "\n",
    "local_vqe = VQE(\n",
    "    ansatz=ansatz,\n",
    "    optimizer=optimizer,\n",
    "    initial_point=initial_point,\n",
    "    quantum_instance=QasmSimulatorPy(),\n",
    ")\n",
    "\n",
    "local_vqe_groundstate_solver = GroundStateEigensolver(qubit_converter, local_vqe)\n",
    "\n",
    "local_vqe_result = local_vqe_groundstate_solver.solve(problem)"
   ]
  },
  {
   "cell_type": "code",
   "execution_count": 8,
   "id": "c88c8c8a-7bce-4beb-8198-1ba124dd2b56",
   "metadata": {},
   "outputs": [
    {
     "name": "stdout",
     "output_type": "stream",
     "text": [
      "Energy: -5.724276880092722\n"
     ]
    }
   ],
   "source": [
    "print(\n",
    "    \"Energy:\",\n",
    "    np.real(local_vqe_result.eigenenergies + local_vqe_result.nuclear_repulsion_energy)[0],\n",
    ")"
   ]
  },
  {
   "cell_type": "markdown",
   "id": "657dd094-08d3-4eb1-8764-12e3e56f630b",
   "metadata": {},
   "source": [
    "## **Runtime VQE**\n",
    "\n",
    "Let's exchange the eigensolver from a local VQE algorithm to a VQE executed using Qiskit Runtime -- simply by exchanging the `VQE` class by the `qiskit_nature.runtime.VQEClient`.\n",
    "\n",
    "First, we'll have to load a provider to access Qiskit Runtime. **Note:** You have to replace the next cell with your provider."
   ]
  },
  {
   "cell_type": "code",
   "execution_count": 11,
   "id": "ebe42b12-c5e5-4451-b798-13c865591930",
   "metadata": {},
   "outputs": [
    {
     "name": "stderr",
     "output_type": "stream",
     "text": [
      "ibmqfactory.load_account:WARNING:2022-01-22 06:18:22,570: Credentials are already in use. The existing account in the session will be replaced.\n"
     ]
    }
   ],
   "source": [
    "from qiskit import IBMQ\n",
    "\n",
    "IBMQ.load_account()\n",
    "provider = IBMQ.get_provider(project=\"main\")  # replace by your runtime provider\n",
    "\n",
    "backend = provider.get_backend(\"ibmq_lima\")  # select a backend that supports the runtime"
   ]
  },
  {
   "cell_type": "markdown",
   "id": "954d3817-91d2-444f-bd0f-b81238ff62a8",
   "metadata": {},
   "source": [
    "Now we can set up the `VQEClient`. In this first release, the optimizer must be provided as a dictionary, in future releases you'll be able to pass the same optimizer object as in the traditional VQE."
   ]
  },
  {
   "cell_type": "code",
   "execution_count": 12,
   "id": "8b267709-d86d-4474-91ee-c22d245b6a9e",
   "metadata": {},
   "outputs": [],
   "source": [
    "from qiskit_nature.runtime import VQEClient\n",
    "\n",
    "# Pass an qiskit.algorithms.optimizer.Optimizer object (like the ``optimizer`` variable from before)\n",
    "# or SPSA/QN-SPSA as dictionary. Here we're using the dictionary version\n",
    "optimizer = {\n",
    "    \"name\": \"QN-SPSA\",  # leverage the Quantum Natural SPSA\n",
    "    # 'name': 'SPSA',  # set to ordinary SPSA\n",
    "    \"maxiter\": 100,\n",
    "    \"resamplings\": {1: 100},  # 100 samples of the QFI for the first step, then 1 sample per step\n",
    "}\n",
    "\n",
    "runtime_vqe = VQEClient(\n",
    "    ansatz=ansatz,\n",
    "    optimizer=optimizer,\n",
    "    initial_point=initial_point,\n",
    "    provider=provider,\n",
    "    backend=backend,\n",
    "    shots=1024,\n",
    "    measurement_error_mitigation=True,\n",
    ")  # use a complete measurement fitter for error mitigation"
   ]
  },
  {
   "cell_type": "code",
   "execution_count": 14,
   "id": "679bbdcd-a35f-4bfb-a544-2542ad80b62f",
   "metadata": {},
   "outputs": [],
   "source": [
    "runtime_vqe_groundstate_solver = GroundStateEigensolver(qubit_converter, runtime_vqe)\n",
    "runtime_vqe_result = runtime_vqe_groundstate_solver.solve(problem)"
   ]
  },
  {
   "cell_type": "code",
   "execution_count": 15,
   "id": "66cc93ff-f499-40fd-8467-16c151a9f2a3",
   "metadata": {},
   "outputs": [
    {
     "name": "stdout",
     "output_type": "stream",
     "text": [
      "Energy: -7.475022879520279\n"
     ]
    }
   ],
   "source": [
    "print(\n",
    "    \"Energy:\",\n",
    "    np.real(runtime_vqe_result.eigenenergies + runtime_vqe_result.nuclear_repulsion_energy)[0],\n",
    ")"
   ]
  },
  {
   "cell_type": "markdown",
   "id": "d24d7053-91ad-41ff-b0f2-32307cbc3518",
   "metadata": {},
   "source": [
    "If we are interested in the development of the energy, the `VQEClient` allows access to the history of the optimizer, which contains the loss per iteration (along with the parameters and a timestamp). Note that this only holds for the SPSA and QN-SPSA optimizers. Otherwise you have to use a callback to the `VQEClient`, similar to the normal `VQE`.\n",
    "\n",
    "We can access this data via the `raw_result` attribute of the ground state solver."
   ]
  },
  {
   "cell_type": "code",
   "execution_count": 16,
   "id": "57ec33cc-09fe-4ccf-8833-c9ec789ced28",
   "metadata": {},
   "outputs": [],
   "source": [
    "runtime_result = runtime_vqe_result.raw_result\n",
    "history = runtime_result.optimizer_history\n",
    "loss = history[\"loss\"]"
   ]
  },
  {
   "cell_type": "code",
   "execution_count": 17,
   "id": "c7f4e725-cc30-4ad6-8485-8576e9e035f8",
   "metadata": {},
   "outputs": [
    {
     "data": {
      "image/png": "[encoded data removed]",
      "text/plain": [
       "<Figure size 864x432 with 1 Axes>"
      ]
     },
     "metadata": {
      "needs_background": "light"
     },
     "output_type": "display_data"
    }
   ],
   "source": [
    "import matplotlib.pyplot as plt\n",
    "\n",
    "plt.rcParams[\"font.size\"] = 14\n",
    "\n",
    "# plot loss and reference value\n",
    "plt.figure(figsize=(12, 6))\n",
    "plt.plot(loss + runtime_vqe_result.nuclear_repulsion_energy, label=\"Runtime VQE\")\n",
    "plt.axhline(y=target_energy + 0.2, color=\"tab:red\", ls=\":\", label=\"Target + 200mH\")\n",
    "plt.axhline(y=target_energy, color=\"tab:red\", ls=\"--\", label=\"Target\")\n",
    "\n",
    "plt.legend(loc=\"best\")\n",
    "plt.xlabel(\"Iteration\")\n",
    "plt.ylabel(\"Energy [H]\")\n",
    "plt.title(\"VQE energy\");"
   ]
  },
  {
   "cell_type": "code",
   "execution_count": null,
   "id": "23c87a6a-a750-4736-8411-8eb8e58abac9",
   "metadata": {},
   "outputs": [],
   "source": []
  }
 ],
 "metadata": {
  "kernelspec": {
   "display_name": "Qiskit v0.34.1 (ipykernel)",
   "language": "python",
   "name": "python3"
  },
  "language_info": {
   "codemirror_mode": {
    "name": "ipython",
    "version": 3
   },
   "file_extension": ".py",
   "mimetype": "text/x-python",
   "name": "python",
   "nbconvert_exporter": "python",
   "pygments_lexer": "ipython3",
   "version": "3.8.12"
  },
  "widgets": {
   "application/vnd.jupyter.widget-state+json": {
    "state": {},
    "version_major": 2,
    "version_minor": 0
   }
  }
 },
 "nbformat": 4,
 "nbformat_minor": 5
}
